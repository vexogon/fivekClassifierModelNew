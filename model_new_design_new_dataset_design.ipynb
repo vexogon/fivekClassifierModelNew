{
 "cells": [
  {
   "metadata": {
    "id": "89412c995e1dd76a"
   },
   "cell_type": "markdown",
   "source": [
    "There is an orginal to this file which will have more links and more explanations for the 'first parts' of this file"
   ],
   "id": "89412c995e1dd76a"
  },
  {
   "cell_type": "code",
   "id": "initial_id",
   "metadata": {
    "collapsed": true,
    "id": "initial_id",
    "ExecuteTime": {
     "end_time": "2025-08-24T21:50:34.133847Z",
     "start_time": "2025-08-24T21:50:34.131154Z"
    }
   },
   "source": [
    "#Likely reason this didn't work before is because of imbalance in the dataset - Lets start with location and setting\n",
    "#https://data.csail.mit.edu/graphics/fivek/\n",
    "#https://www.geeksforgeeks.org/confusion-matrix-machine-learning/\n",
    "#https://www.geeksforgeeks.org/deep-learning/handling-class-imbalance-in-pytorch/\n",
    "#https://docs.pytorch.org/vision/main/generated/torchvision.transforms.ToPILImage.html\n",
    "#https://scikit-learn.org/stable/modules/generated/sklearn.utils.class_weight.compute_class_weight.html\n",
    "#https://stackoverflow.com/questions/74020233/how-to-plot-confusion-matrix-in-pytorch\n",
    "#https://docs.pytorch.org/docs/stable/generated/torch.cat.html\n",
    "#https://scikit-learn.org/stable/modules/generated/sklearn.metrics.confusion_matrix.html\n",
    "#https://scikit-learn.org/stable/modules/generated/sklearn.metrics.ConfusionMatrixDisplay.html\n",
    "#https://stackoverflow.com/questions/46953967/multilabel-indicator-is-not-supported-for-confusion-matrix\n",
    "#https://docs.pytorch.org/vision/stable/transforms.html\n",
    "#https://docs.pytorch.org/tutorials/beginner/basics/data_tutorial.html\n",
    "#https://docs.pytorch.org/docs/stable/data.html\n",
    "#https://docs.pytorch.org/torcheval/main/generated/torcheval.metrics.MultilabelAccuracy.html\n",
    "#https://stackoverflow.com/questions/61524717/pytorch-how-to-find-accuracy-for-multi-label-classification\n",
    "#https://stackoverflow.com/questions/28663856/how-do-i-count-the-occurrence-of-a-certain-item-in-an-ndarray"
   ],
   "outputs": [],
   "execution_count": 67
  },
  {
   "metadata": {
    "id": "31f7358815f0866f",
    "ExecuteTime": {
     "end_time": "2025-08-24T21:50:34.139649Z",
     "start_time": "2025-08-24T21:50:34.137427Z"
    }
   },
   "cell_type": "code",
   "source": [
    "import numpy as np\n",
    "import pandas as pd\n",
    "import matplotlib.pyplot as plt\n",
    "import torch\n",
    "from torch import nn\n",
    "import torchvision.transforms.v2 as transforms\n",
    "from torch.utils.data import Dataset, DataLoader\n",
    "import os"
   ],
   "id": "31f7358815f0866f",
   "outputs": [],
   "execution_count": 68
  },
  {
   "metadata": {
    "id": "7100a445f6b9ff68",
    "ExecuteTime": {
     "end_time": "2025-08-24T21:50:34.152170Z",
     "start_time": "2025-08-24T21:50:34.150677Z"
    }
   },
   "cell_type": "code",
   "source": [
    "import warnings\n",
    "warnings.simplefilter(action='ignore', category=FutureWarning) #Numpy and Pandas FutureWarnings - ignore them for now, we can fix them later"
   ],
   "id": "7100a445f6b9ff68",
   "outputs": [],
   "execution_count": 69
  },
  {
   "metadata": {
    "id": "4abeb094c6ce4fb9",
    "outputId": "61af7055-0c00-4e9e-f624-fe9184bf540e",
    "colab": {
     "base_uri": "https://localhost:8080/",
     "height": 359
    },
    "ExecuteTime": {
     "end_time": "2025-08-24T21:50:34.168631Z",
     "start_time": "2025-08-24T21:50:34.162168Z"
    }
   },
   "cell_type": "code",
   "source": [
    "df = pd.read_csv('categories.csv')\n",
    "df.head(10)  # Display the first 10 rows of the dataframe - no print means it will be displayed in the IDE"
   ],
   "id": "4abeb094c6ce4fb9",
   "outputs": [
    {
     "data": {
      "text/plain": [
       "                   img_name location time_of_day skyCondition   setting\n",
       "0        a0001-jmac_DSC1459  outdoor         day      sun_sky    nature\n",
       "1             a0002-dgw_005   indoor         day        mixed    people\n",
       "2        a0003-NKIM_MG_8178  outdoor         day      sun_sky  man_made\n",
       "3        a0004-jmac_MG_1384  outdoor         day      sun_sky    nature\n",
       "4  a0005-jn_2007_05_10__564  outdoor         day      sun_sky  man_made\n",
       "5            a0006-IMG_2787  outdoor         day      sun_sky   animals\n",
       "6            a0007-IMG_2480  outdoor         day      sun_sky  man_made\n",
       "7         a0008-WP_CRW_3959   indoor     unknown   artificial    people\n",
       "8             a0009-kme_372   indoor         day          NaN       NaN\n",
       "9        a0010-jmac_MG_4807  outdoor         day      sun_sky    nature"
      ],
      "text/html": [
       "<div>\n",
       "<style scoped>\n",
       "    .dataframe tbody tr th:only-of-type {\n",
       "        vertical-align: middle;\n",
       "    }\n",
       "\n",
       "    .dataframe tbody tr th {\n",
       "        vertical-align: top;\n",
       "    }\n",
       "\n",
       "    .dataframe thead th {\n",
       "        text-align: right;\n",
       "    }\n",
       "</style>\n",
       "<table border=\"1\" class=\"dataframe\">\n",
       "  <thead>\n",
       "    <tr style=\"text-align: right;\">\n",
       "      <th></th>\n",
       "      <th>img_name</th>\n",
       "      <th>location</th>\n",
       "      <th>time_of_day</th>\n",
       "      <th>skyCondition</th>\n",
       "      <th>setting</th>\n",
       "    </tr>\n",
       "  </thead>\n",
       "  <tbody>\n",
       "    <tr>\n",
       "      <th>0</th>\n",
       "      <td>a0001-jmac_DSC1459</td>\n",
       "      <td>outdoor</td>\n",
       "      <td>day</td>\n",
       "      <td>sun_sky</td>\n",
       "      <td>nature</td>\n",
       "    </tr>\n",
       "    <tr>\n",
       "      <th>1</th>\n",
       "      <td>a0002-dgw_005</td>\n",
       "      <td>indoor</td>\n",
       "      <td>day</td>\n",
       "      <td>mixed</td>\n",
       "      <td>people</td>\n",
       "    </tr>\n",
       "    <tr>\n",
       "      <th>2</th>\n",
       "      <td>a0003-NKIM_MG_8178</td>\n",
       "      <td>outdoor</td>\n",
       "      <td>day</td>\n",
       "      <td>sun_sky</td>\n",
       "      <td>man_made</td>\n",
       "    </tr>\n",
       "    <tr>\n",
       "      <th>3</th>\n",
       "      <td>a0004-jmac_MG_1384</td>\n",
       "      <td>outdoor</td>\n",
       "      <td>day</td>\n",
       "      <td>sun_sky</td>\n",
       "      <td>nature</td>\n",
       "    </tr>\n",
       "    <tr>\n",
       "      <th>4</th>\n",
       "      <td>a0005-jn_2007_05_10__564</td>\n",
       "      <td>outdoor</td>\n",
       "      <td>day</td>\n",
       "      <td>sun_sky</td>\n",
       "      <td>man_made</td>\n",
       "    </tr>\n",
       "    <tr>\n",
       "      <th>5</th>\n",
       "      <td>a0006-IMG_2787</td>\n",
       "      <td>outdoor</td>\n",
       "      <td>day</td>\n",
       "      <td>sun_sky</td>\n",
       "      <td>animals</td>\n",
       "    </tr>\n",
       "    <tr>\n",
       "      <th>6</th>\n",
       "      <td>a0007-IMG_2480</td>\n",
       "      <td>outdoor</td>\n",
       "      <td>day</td>\n",
       "      <td>sun_sky</td>\n",
       "      <td>man_made</td>\n",
       "    </tr>\n",
       "    <tr>\n",
       "      <th>7</th>\n",
       "      <td>a0008-WP_CRW_3959</td>\n",
       "      <td>indoor</td>\n",
       "      <td>unknown</td>\n",
       "      <td>artificial</td>\n",
       "      <td>people</td>\n",
       "    </tr>\n",
       "    <tr>\n",
       "      <th>8</th>\n",
       "      <td>a0009-kme_372</td>\n",
       "      <td>indoor</td>\n",
       "      <td>day</td>\n",
       "      <td>NaN</td>\n",
       "      <td>NaN</td>\n",
       "    </tr>\n",
       "    <tr>\n",
       "      <th>9</th>\n",
       "      <td>a0010-jmac_MG_4807</td>\n",
       "      <td>outdoor</td>\n",
       "      <td>day</td>\n",
       "      <td>sun_sky</td>\n",
       "      <td>nature</td>\n",
       "    </tr>\n",
       "  </tbody>\n",
       "</table>\n",
       "</div>"
      ]
     },
     "execution_count": 70,
     "metadata": {},
     "output_type": "execute_result"
    }
   ],
   "execution_count": 70
  },
  {
   "metadata": {
    "id": "cf42323ec5b62c0b",
    "outputId": "0e3b0f9a-d3d9-4a2a-a0ca-ec04d81a99cc",
    "colab": {
     "base_uri": "https://localhost:8080/"
    },
    "ExecuteTime": {
     "end_time": "2025-08-24T21:50:34.195506Z",
     "start_time": "2025-08-24T21:50:34.190411Z"
    }
   },
   "cell_type": "code",
   "source": [
    "#All these columns expect img_name are target variables / labels, so we will one-hot encode them - we are doing multi-label classification\n",
    "\n",
    "#Predicting all labels might help because they could be correlated, so we can use all of them as target variables\n",
    "\n",
    "#Lets see if we can do all columns as target variables instead of just location and setting\n",
    "# df = pd.get_dummies(df, columns=['setting', 'location'], dtype=\"int\")  # One-hot encode the categorical columns\n",
    "df = pd.get_dummies(df, columns=['setting', 'location', 'time_of_day', 'skyCondition'], dtype=\"int\")  # One-hot encode the categorical columns\n",
    "df.columns"
   ],
   "id": "cf42323ec5b62c0b",
   "outputs": [
    {
     "data": {
      "text/plain": [
       "Index(['img_name', 'setting_abstract', 'setting_animals', 'setting_man_made',\n",
       "       'setting_nature', 'setting_people', 'location_indoor',\n",
       "       'location_outdoor', 'location_unknown', 'time_of_day_day',\n",
       "       'time_of_day_dusk', 'time_of_day_night', 'time_of_day_unknown',\n",
       "       'skyCondition_artificial', 'skyCondition_mixed',\n",
       "       'skyCondition_sun_sky'],\n",
       "      dtype='object')"
      ]
     },
     "execution_count": 71,
     "metadata": {},
     "output_type": "execute_result"
    }
   ],
   "execution_count": 71
  },
  {
   "metadata": {
    "id": "f90176b7c179cd9a"
   },
   "cell_type": "markdown",
   "source": [
    "I decided to re-add all the target variabes for this mutli-class classification problem, because they are likely correlated and can help the model learn better."
   ],
   "id": "f90176b7c179cd9a"
  },
  {
   "metadata": {
    "id": "58109fa52362dd64",
    "outputId": "75ddbdb9-8e85-43f5-bdc9-922554b13444",
    "colab": {
     "base_uri": "https://localhost:8080/",
     "height": 481
    },
    "ExecuteTime": {
     "end_time": "2025-08-24T21:50:34.225444Z",
     "start_time": "2025-08-24T21:50:34.221464Z"
    }
   },
   "cell_type": "code",
   "source": [
    "#Lets see if we can do all columns as target variables / labels instead of just location and setting\n",
    "#Predicting all labels might help because they could be correlated, so we can use all of them as target variables\n",
    "#Drop for now\n",
    "# df.drop(['time_of_day', 'skyCondition'], axis=1, inplace=True)\n",
    "df.head(10)"
   ],
   "id": "58109fa52362dd64",
   "outputs": [
    {
     "data": {
      "text/plain": [
       "                   img_name  setting_abstract  setting_animals  \\\n",
       "0        a0001-jmac_DSC1459                 0                0   \n",
       "1             a0002-dgw_005                 0                0   \n",
       "2        a0003-NKIM_MG_8178                 0                0   \n",
       "3        a0004-jmac_MG_1384                 0                0   \n",
       "4  a0005-jn_2007_05_10__564                 0                0   \n",
       "5            a0006-IMG_2787                 0                1   \n",
       "6            a0007-IMG_2480                 0                0   \n",
       "7         a0008-WP_CRW_3959                 0                0   \n",
       "8             a0009-kme_372                 0                0   \n",
       "9        a0010-jmac_MG_4807                 0                0   \n",
       "\n",
       "   setting_man_made  setting_nature  setting_people  location_indoor  \\\n",
       "0                 0               1               0                0   \n",
       "1                 0               0               1                1   \n",
       "2                 1               0               0                0   \n",
       "3                 0               1               0                0   \n",
       "4                 1               0               0                0   \n",
       "5                 0               0               0                0   \n",
       "6                 1               0               0                0   \n",
       "7                 0               0               1                1   \n",
       "8                 0               0               0                1   \n",
       "9                 0               1               0                0   \n",
       "\n",
       "   location_outdoor  location_unknown  time_of_day_day  time_of_day_dusk  \\\n",
       "0                 1                 0                1                 0   \n",
       "1                 0                 0                1                 0   \n",
       "2                 1                 0                1                 0   \n",
       "3                 1                 0                1                 0   \n",
       "4                 1                 0                1                 0   \n",
       "5                 1                 0                1                 0   \n",
       "6                 1                 0                1                 0   \n",
       "7                 0                 0                0                 0   \n",
       "8                 0                 0                1                 0   \n",
       "9                 1                 0                1                 0   \n",
       "\n",
       "   time_of_day_night  time_of_day_unknown  skyCondition_artificial  \\\n",
       "0                  0                    0                        0   \n",
       "1                  0                    0                        0   \n",
       "2                  0                    0                        0   \n",
       "3                  0                    0                        0   \n",
       "4                  0                    0                        0   \n",
       "5                  0                    0                        0   \n",
       "6                  0                    0                        0   \n",
       "7                  0                    1                        1   \n",
       "8                  0                    0                        0   \n",
       "9                  0                    0                        0   \n",
       "\n",
       "   skyCondition_mixed  skyCondition_sun_sky  \n",
       "0                   0                     1  \n",
       "1                   1                     0  \n",
       "2                   0                     1  \n",
       "3                   0                     1  \n",
       "4                   0                     1  \n",
       "5                   0                     1  \n",
       "6                   0                     1  \n",
       "7                   0                     0  \n",
       "8                   0                     0  \n",
       "9                   0                     1  "
      ],
      "text/html": [
       "<div>\n",
       "<style scoped>\n",
       "    .dataframe tbody tr th:only-of-type {\n",
       "        vertical-align: middle;\n",
       "    }\n",
       "\n",
       "    .dataframe tbody tr th {\n",
       "        vertical-align: top;\n",
       "    }\n",
       "\n",
       "    .dataframe thead th {\n",
       "        text-align: right;\n",
       "    }\n",
       "</style>\n",
       "<table border=\"1\" class=\"dataframe\">\n",
       "  <thead>\n",
       "    <tr style=\"text-align: right;\">\n",
       "      <th></th>\n",
       "      <th>img_name</th>\n",
       "      <th>setting_abstract</th>\n",
       "      <th>setting_animals</th>\n",
       "      <th>setting_man_made</th>\n",
       "      <th>setting_nature</th>\n",
       "      <th>setting_people</th>\n",
       "      <th>location_indoor</th>\n",
       "      <th>location_outdoor</th>\n",
       "      <th>location_unknown</th>\n",
       "      <th>time_of_day_day</th>\n",
       "      <th>time_of_day_dusk</th>\n",
       "      <th>time_of_day_night</th>\n",
       "      <th>time_of_day_unknown</th>\n",
       "      <th>skyCondition_artificial</th>\n",
       "      <th>skyCondition_mixed</th>\n",
       "      <th>skyCondition_sun_sky</th>\n",
       "    </tr>\n",
       "  </thead>\n",
       "  <tbody>\n",
       "    <tr>\n",
       "      <th>0</th>\n",
       "      <td>a0001-jmac_DSC1459</td>\n",
       "      <td>0</td>\n",
       "      <td>0</td>\n",
       "      <td>0</td>\n",
       "      <td>1</td>\n",
       "      <td>0</td>\n",
       "      <td>0</td>\n",
       "      <td>1</td>\n",
       "      <td>0</td>\n",
       "      <td>1</td>\n",
       "      <td>0</td>\n",
       "      <td>0</td>\n",
       "      <td>0</td>\n",
       "      <td>0</td>\n",
       "      <td>0</td>\n",
       "      <td>1</td>\n",
       "    </tr>\n",
       "    <tr>\n",
       "      <th>1</th>\n",
       "      <td>a0002-dgw_005</td>\n",
       "      <td>0</td>\n",
       "      <td>0</td>\n",
       "      <td>0</td>\n",
       "      <td>0</td>\n",
       "      <td>1</td>\n",
       "      <td>1</td>\n",
       "      <td>0</td>\n",
       "      <td>0</td>\n",
       "      <td>1</td>\n",
       "      <td>0</td>\n",
       "      <td>0</td>\n",
       "      <td>0</td>\n",
       "      <td>0</td>\n",
       "      <td>1</td>\n",
       "      <td>0</td>\n",
       "    </tr>\n",
       "    <tr>\n",
       "      <th>2</th>\n",
       "      <td>a0003-NKIM_MG_8178</td>\n",
       "      <td>0</td>\n",
       "      <td>0</td>\n",
       "      <td>1</td>\n",
       "      <td>0</td>\n",
       "      <td>0</td>\n",
       "      <td>0</td>\n",
       "      <td>1</td>\n",
       "      <td>0</td>\n",
       "      <td>1</td>\n",
       "      <td>0</td>\n",
       "      <td>0</td>\n",
       "      <td>0</td>\n",
       "      <td>0</td>\n",
       "      <td>0</td>\n",
       "      <td>1</td>\n",
       "    </tr>\n",
       "    <tr>\n",
       "      <th>3</th>\n",
       "      <td>a0004-jmac_MG_1384</td>\n",
       "      <td>0</td>\n",
       "      <td>0</td>\n",
       "      <td>0</td>\n",
       "      <td>1</td>\n",
       "      <td>0</td>\n",
       "      <td>0</td>\n",
       "      <td>1</td>\n",
       "      <td>0</td>\n",
       "      <td>1</td>\n",
       "      <td>0</td>\n",
       "      <td>0</td>\n",
       "      <td>0</td>\n",
       "      <td>0</td>\n",
       "      <td>0</td>\n",
       "      <td>1</td>\n",
       "    </tr>\n",
       "    <tr>\n",
       "      <th>4</th>\n",
       "      <td>a0005-jn_2007_05_10__564</td>\n",
       "      <td>0</td>\n",
       "      <td>0</td>\n",
       "      <td>1</td>\n",
       "      <td>0</td>\n",
       "      <td>0</td>\n",
       "      <td>0</td>\n",
       "      <td>1</td>\n",
       "      <td>0</td>\n",
       "      <td>1</td>\n",
       "      <td>0</td>\n",
       "      <td>0</td>\n",
       "      <td>0</td>\n",
       "      <td>0</td>\n",
       "      <td>0</td>\n",
       "      <td>1</td>\n",
       "    </tr>\n",
       "    <tr>\n",
       "      <th>5</th>\n",
       "      <td>a0006-IMG_2787</td>\n",
       "      <td>0</td>\n",
       "      <td>1</td>\n",
       "      <td>0</td>\n",
       "      <td>0</td>\n",
       "      <td>0</td>\n",
       "      <td>0</td>\n",
       "      <td>1</td>\n",
       "      <td>0</td>\n",
       "      <td>1</td>\n",
       "      <td>0</td>\n",
       "      <td>0</td>\n",
       "      <td>0</td>\n",
       "      <td>0</td>\n",
       "      <td>0</td>\n",
       "      <td>1</td>\n",
       "    </tr>\n",
       "    <tr>\n",
       "      <th>6</th>\n",
       "      <td>a0007-IMG_2480</td>\n",
       "      <td>0</td>\n",
       "      <td>0</td>\n",
       "      <td>1</td>\n",
       "      <td>0</td>\n",
       "      <td>0</td>\n",
       "      <td>0</td>\n",
       "      <td>1</td>\n",
       "      <td>0</td>\n",
       "      <td>1</td>\n",
       "      <td>0</td>\n",
       "      <td>0</td>\n",
       "      <td>0</td>\n",
       "      <td>0</td>\n",
       "      <td>0</td>\n",
       "      <td>1</td>\n",
       "    </tr>\n",
       "    <tr>\n",
       "      <th>7</th>\n",
       "      <td>a0008-WP_CRW_3959</td>\n",
       "      <td>0</td>\n",
       "      <td>0</td>\n",
       "      <td>0</td>\n",
       "      <td>0</td>\n",
       "      <td>1</td>\n",
       "      <td>1</td>\n",
       "      <td>0</td>\n",
       "      <td>0</td>\n",
       "      <td>0</td>\n",
       "      <td>0</td>\n",
       "      <td>0</td>\n",
       "      <td>1</td>\n",
       "      <td>1</td>\n",
       "      <td>0</td>\n",
       "      <td>0</td>\n",
       "    </tr>\n",
       "    <tr>\n",
       "      <th>8</th>\n",
       "      <td>a0009-kme_372</td>\n",
       "      <td>0</td>\n",
       "      <td>0</td>\n",
       "      <td>0</td>\n",
       "      <td>0</td>\n",
       "      <td>0</td>\n",
       "      <td>1</td>\n",
       "      <td>0</td>\n",
       "      <td>0</td>\n",
       "      <td>1</td>\n",
       "      <td>0</td>\n",
       "      <td>0</td>\n",
       "      <td>0</td>\n",
       "      <td>0</td>\n",
       "      <td>0</td>\n",
       "      <td>0</td>\n",
       "    </tr>\n",
       "    <tr>\n",
       "      <th>9</th>\n",
       "      <td>a0010-jmac_MG_4807</td>\n",
       "      <td>0</td>\n",
       "      <td>0</td>\n",
       "      <td>0</td>\n",
       "      <td>1</td>\n",
       "      <td>0</td>\n",
       "      <td>0</td>\n",
       "      <td>1</td>\n",
       "      <td>0</td>\n",
       "      <td>1</td>\n",
       "      <td>0</td>\n",
       "      <td>0</td>\n",
       "      <td>0</td>\n",
       "      <td>0</td>\n",
       "      <td>0</td>\n",
       "      <td>1</td>\n",
       "    </tr>\n",
       "  </tbody>\n",
       "</table>\n",
       "</div>"
      ]
     },
     "execution_count": 72,
     "metadata": {},
     "output_type": "execute_result"
    }
   ],
   "execution_count": 72
  },
  {
   "metadata": {
    "id": "154958880f90423f"
   },
   "cell_type": "markdown",
   "source": [
    "After checking confusion matrix and the labels predicted less than 20 times, i decided to remove: 'time_of_day_day', 'time_of_day_dusk', 'time_of_day_night', 'time_of_day_unknown', 'skyCondition_artificial', 'skyCondition_mixed', 'skyCondition_sun_sky', location_unknown'\n",
    "\n",
    "this was after did what is stated above, so we can just drop these columns now\n",
    "\n",
    "Check plots/all_features.png for results in confusion matrix"
   ],
   "id": "154958880f90423f"
  },
  {
   "metadata": {
    "id": "c529371fb8c304f",
    "outputId": "138cc3c6-4290-4630-8b12-571d76080244",
    "colab": {
     "base_uri": "https://localhost:8080/",
     "height": 481
    },
    "ExecuteTime": {
     "end_time": "2025-08-24T21:50:34.257035Z",
     "start_time": "2025-08-24T21:50:34.253518Z"
    }
   },
   "cell_type": "code",
   "source": [
    "df.drop(['time_of_day_day', 'time_of_day_dusk', 'time_of_day_night', 'time_of_day_unknown', 'skyCondition_artificial', 'skyCondition_mixed', 'skyCondition_sun_sky', 'location_unknown', 'setting_abstract'], axis=1, inplace=True)\n",
    "\n",
    "#Added setting_abstract because there isn't many so the class weight was really high\n",
    "df.head(10)"
   ],
   "id": "c529371fb8c304f",
   "outputs": [
    {
     "data": {
      "text/plain": [
       "                   img_name  setting_animals  setting_man_made  \\\n",
       "0        a0001-jmac_DSC1459                0                 0   \n",
       "1             a0002-dgw_005                0                 0   \n",
       "2        a0003-NKIM_MG_8178                0                 1   \n",
       "3        a0004-jmac_MG_1384                0                 0   \n",
       "4  a0005-jn_2007_05_10__564                0                 1   \n",
       "5            a0006-IMG_2787                1                 0   \n",
       "6            a0007-IMG_2480                0                 1   \n",
       "7         a0008-WP_CRW_3959                0                 0   \n",
       "8             a0009-kme_372                0                 0   \n",
       "9        a0010-jmac_MG_4807                0                 0   \n",
       "\n",
       "   setting_nature  setting_people  location_indoor  location_outdoor  \n",
       "0               1               0                0                 1  \n",
       "1               0               1                1                 0  \n",
       "2               0               0                0                 1  \n",
       "3               1               0                0                 1  \n",
       "4               0               0                0                 1  \n",
       "5               0               0                0                 1  \n",
       "6               0               0                0                 1  \n",
       "7               0               1                1                 0  \n",
       "8               0               0                1                 0  \n",
       "9               1               0                0                 1  "
      ],
      "text/html": [
       "<div>\n",
       "<style scoped>\n",
       "    .dataframe tbody tr th:only-of-type {\n",
       "        vertical-align: middle;\n",
       "    }\n",
       "\n",
       "    .dataframe tbody tr th {\n",
       "        vertical-align: top;\n",
       "    }\n",
       "\n",
       "    .dataframe thead th {\n",
       "        text-align: right;\n",
       "    }\n",
       "</style>\n",
       "<table border=\"1\" class=\"dataframe\">\n",
       "  <thead>\n",
       "    <tr style=\"text-align: right;\">\n",
       "      <th></th>\n",
       "      <th>img_name</th>\n",
       "      <th>setting_animals</th>\n",
       "      <th>setting_man_made</th>\n",
       "      <th>setting_nature</th>\n",
       "      <th>setting_people</th>\n",
       "      <th>location_indoor</th>\n",
       "      <th>location_outdoor</th>\n",
       "    </tr>\n",
       "  </thead>\n",
       "  <tbody>\n",
       "    <tr>\n",
       "      <th>0</th>\n",
       "      <td>a0001-jmac_DSC1459</td>\n",
       "      <td>0</td>\n",
       "      <td>0</td>\n",
       "      <td>1</td>\n",
       "      <td>0</td>\n",
       "      <td>0</td>\n",
       "      <td>1</td>\n",
       "    </tr>\n",
       "    <tr>\n",
       "      <th>1</th>\n",
       "      <td>a0002-dgw_005</td>\n",
       "      <td>0</td>\n",
       "      <td>0</td>\n",
       "      <td>0</td>\n",
       "      <td>1</td>\n",
       "      <td>1</td>\n",
       "      <td>0</td>\n",
       "    </tr>\n",
       "    <tr>\n",
       "      <th>2</th>\n",
       "      <td>a0003-NKIM_MG_8178</td>\n",
       "      <td>0</td>\n",
       "      <td>1</td>\n",
       "      <td>0</td>\n",
       "      <td>0</td>\n",
       "      <td>0</td>\n",
       "      <td>1</td>\n",
       "    </tr>\n",
       "    <tr>\n",
       "      <th>3</th>\n",
       "      <td>a0004-jmac_MG_1384</td>\n",
       "      <td>0</td>\n",
       "      <td>0</td>\n",
       "      <td>1</td>\n",
       "      <td>0</td>\n",
       "      <td>0</td>\n",
       "      <td>1</td>\n",
       "    </tr>\n",
       "    <tr>\n",
       "      <th>4</th>\n",
       "      <td>a0005-jn_2007_05_10__564</td>\n",
       "      <td>0</td>\n",
       "      <td>1</td>\n",
       "      <td>0</td>\n",
       "      <td>0</td>\n",
       "      <td>0</td>\n",
       "      <td>1</td>\n",
       "    </tr>\n",
       "    <tr>\n",
       "      <th>5</th>\n",
       "      <td>a0006-IMG_2787</td>\n",
       "      <td>1</td>\n",
       "      <td>0</td>\n",
       "      <td>0</td>\n",
       "      <td>0</td>\n",
       "      <td>0</td>\n",
       "      <td>1</td>\n",
       "    </tr>\n",
       "    <tr>\n",
       "      <th>6</th>\n",
       "      <td>a0007-IMG_2480</td>\n",
       "      <td>0</td>\n",
       "      <td>1</td>\n",
       "      <td>0</td>\n",
       "      <td>0</td>\n",
       "      <td>0</td>\n",
       "      <td>1</td>\n",
       "    </tr>\n",
       "    <tr>\n",
       "      <th>7</th>\n",
       "      <td>a0008-WP_CRW_3959</td>\n",
       "      <td>0</td>\n",
       "      <td>0</td>\n",
       "      <td>0</td>\n",
       "      <td>1</td>\n",
       "      <td>1</td>\n",
       "      <td>0</td>\n",
       "    </tr>\n",
       "    <tr>\n",
       "      <th>8</th>\n",
       "      <td>a0009-kme_372</td>\n",
       "      <td>0</td>\n",
       "      <td>0</td>\n",
       "      <td>0</td>\n",
       "      <td>0</td>\n",
       "      <td>1</td>\n",
       "      <td>0</td>\n",
       "    </tr>\n",
       "    <tr>\n",
       "      <th>9</th>\n",
       "      <td>a0010-jmac_MG_4807</td>\n",
       "      <td>0</td>\n",
       "      <td>0</td>\n",
       "      <td>1</td>\n",
       "      <td>0</td>\n",
       "      <td>0</td>\n",
       "      <td>1</td>\n",
       "    </tr>\n",
       "  </tbody>\n",
       "</table>\n",
       "</div>"
      ]
     },
     "execution_count": 73,
     "metadata": {},
     "output_type": "execute_result"
    }
   ],
   "execution_count": 73
  },
  {
   "metadata": {
    "id": "e351f6232e91ed43",
    "ExecuteTime": {
     "end_time": "2025-08-24T21:50:34.305780Z",
     "start_time": "2025-08-24T21:50:34.304207Z"
    }
   },
   "cell_type": "code",
   "source": "device = torch.device(\"mps\")",
   "id": "e351f6232e91ed43",
   "outputs": [],
   "execution_count": 74
  },
  {
   "metadata": {},
   "cell_type": "markdown",
   "source": "Now i've organised the files and put them into JPEg forwat with raw_image_converter.py we can have a much simpler and hopefully faster data loading pipeline using torchvision's built in image loading functions",
   "id": "f7763977b031cdb2"
  },
  {
   "metadata": {
    "id": "77f565f2a79b20e9",
    "ExecuteTime": {
     "end_time": "2025-08-24T21:50:34.358758Z",
     "start_time": "2025-08-24T21:50:34.356305Z"
    }
   },
   "cell_type": "code",
   "source": [
    "from torchvision.io import decode_image\n",
    "from torchvision.io import ImageReadMode\n",
    "\n",
    "\n",
    "class ImageDataset(Dataset):\n",
    "    def __init__(self, data, img_dir, transform=None):\n",
    "        self.data = data\n",
    "        self.transform = transform\n",
    "        self.img_dir = img_dir\n",
    "        self.bounds = []\n",
    "\n",
    "        if not self.img_dir:\n",
    "            raise ValueError(f\"No images found in directory: {img_dir}\")\n",
    "\n",
    "    def __len__(self):\n",
    "        return len(self.data)\n",
    "\n",
    "    def __getitem__(self, idx):\n",
    "        row = self.data.iloc[idx]\n",
    "        img_name = row['img_name']  # Assuming the first column is 'img_name'\n",
    "        #Get the label tensor from the row, excluding the first column (img_name)\n",
    "        label = torch.tensor(row[1:], dtype=torch.long)  # Convert the labels to tensor (excluding img_name, which is the input image name)\n",
    "\n",
    "        img_path = os.path.join(self.img_dir, img_name) + \".jpg\" # Full path to the image file\n",
    "        image = decode_image(img_path, mode=ImageReadMode.RGB) #outputs tensor of shape (C, H, W) where C is the number of channels, H is the height and W is the width\n",
    "\n",
    "        if self.transform:\n",
    "            image = self.transform(image)\n",
    "\n",
    "        return image, label # Exclude the first column (img_name) from the label tensor"
   ],
   "id": "77f565f2a79b20e9",
   "outputs": [],
   "execution_count": 75
  },
  {
   "metadata": {
    "id": "72a27165c5878c2d",
    "outputId": "14fef9e6-18d7-4313-de31-39d08330fb08",
    "colab": {
     "base_uri": "https://localhost:8080/"
    },
    "ExecuteTime": {
     "end_time": "2025-08-24T21:50:34.387098Z",
     "start_time": "2025-08-24T21:50:34.385195Z"
    }
   },
   "cell_type": "code",
   "source": [
    "# Transformations for the dataset\n",
    "\n",
    "# These are the standard transformations for the dataset, we will use these for training, testing, and validation\n",
    "val_test_standard_transforms = transforms.Compose([\n",
    "    transforms.ToPILImage(), # Convert numpy array to PIL Image\n",
    "    transforms.Resize((512, 512)), # Resize the image to 512x512 for consistency and to match the model input size\n",
    "    transforms.ToTensor(), # Convert PIL Image to tensor\n",
    "    transforms.Normalize(mean=[0.485, 0.456, 0.406], std=[0.229, 0.224, 0.225])\n",
    "])"
   ],
   "id": "72a27165c5878c2d",
   "outputs": [
    {
     "name": "stderr",
     "output_type": "stream",
     "text": [
      "/opt/anaconda3/envs/fivekClassiferModelV2UpdatedPy/lib/python3.12/site-packages/torchvision/transforms/v2/_deprecated.py:42: UserWarning: The transform `ToTensor()` is deprecated and will be removed in a future release. Instead, please use `v2.Compose([v2.ToImage(), v2.ToDtype(torch.float32, scale=True)])`.Output is equivalent up to float precision.\n",
      "  warnings.warn(\n"
     ]
    }
   ],
   "execution_count": 76
  },
  {
   "metadata": {
    "id": "bf04f75da987c7c8",
    "ExecuteTime": {
     "end_time": "2025-08-24T21:50:34.404757Z",
     "start_time": "2025-08-24T21:50:34.402409Z"
    }
   },
   "cell_type": "code",
   "source": [
    "#Doing data augmentation for training set to get more data and prevent overfitting\n",
    "#These are applied to the training set only, not the validation or test set\n",
    "#They are applied dynamically during training, so sample images will be different each time, effectively increasing the size of the training set\n",
    "\n",
    "\n",
    "#Training transformations with data augmentation\n",
    "training_augmentation_transforms = transforms.Compose([\n",
    "    #Standard transformations for the dataset, we will still use these for training (rest below)\n",
    "    transforms.ToPILImage(), # Convert numpy array to PIL Image\n",
    "    #Data augmentation transformations for training\n",
    "    # p= probability of applying the transformation, 0.2 means 20% chance of applying the transformation\n",
    "    transforms.RandomHorizontalFlip(p=0.2), # Randomly flip the image horizontally\n",
    "    transforms.RandomVerticalFlip(p=0.2), # Randomly flip the image vertically\n",
    "\n",
    "    #RandomApply makes any transformation randomly applied with a probability p, so we can apply the same transformation with a probability of 0.2\n",
    "\n",
    "    #30% chance of:\n",
    "    transforms.RandomApply(\n",
    "        [\n",
    "            transforms.RandomCrop(size=430, pad_if_needed=True)\n",
    "        ], # Randomly crop the image to 430 in random locations, pad if needed to maintain the size for input to the model (82 pixels on each side, so 82+430+82=512)\n",
    "        p=0.2),\n",
    "\n",
    "    transforms.RandomAdjustSharpness(sharpness_factor=2,p=0.2), # Randomly adjust the sharpness of the image\n",
    "    transforms.RandomAdjustSharpness(sharpness_factor=0.5,p=0.2), # Randomly adjust the sharpness of the image\n",
    "\n",
    "\n",
    "    transforms.RandomGrayscale(p=0.2), # Randomly convert the image to grayscale with a probability of 0.1\n",
    "    #The rest of the standard transformations\n",
    "\n",
    "    transforms.Resize((512, 512)), # Resize the image to 512x512 for consistency and to match the model input size\n",
    "    transforms.ToTensor(), # Convert PIL Image to tensor\n",
    "    transforms.Normalize(mean=[0.485, 0.456, 0.406], std=[0.229, 0.224, 0.225])\n",
    "\n",
    "])"
   ],
   "id": "bf04f75da987c7c8",
   "outputs": [
    {
     "name": "stderr",
     "output_type": "stream",
     "text": [
      "/opt/anaconda3/envs/fivekClassiferModelV2UpdatedPy/lib/python3.12/site-packages/torchvision/transforms/v2/_deprecated.py:42: UserWarning: The transform `ToTensor()` is deprecated and will be removed in a future release. Instead, please use `v2.Compose([v2.ToImage(), v2.ToDtype(torch.float32, scale=True)])`.Output is equivalent up to float precision.\n",
      "  warnings.warn(\n"
     ]
    }
   ],
   "execution_count": 77
  },
  {
   "metadata": {
    "id": "8a5f5f1891dd2f5e"
   },
   "cell_type": "markdown",
   "source": [
    "this is a new method for splitting the dataset into training, test, and validation sets, after i found out train_dataset.dataset and test_dataset.dataset were the same object, so any transformations applied to one would apply to the other, which is not what we want."
   ],
   "id": "8a5f5f1891dd2f5e"
  },
  {
   "metadata": {
    "id": "b81a132e352ce529",
    "ExecuteTime": {
     "end_time": "2025-08-24T21:50:34.416380Z",
     "start_time": "2025-08-24T21:50:34.413583Z"
    }
   },
   "cell_type": "code",
   "source": [
    "from sklearn.model_selection import train_test_split\n",
    "# Split the dataset into training, validation, and test sets\n",
    "train_df, test_df = train_test_split(df, test_size=0.3, random_state=42) # 70% training, 30% test\n",
    "val_df, test_df = train_test_split(test_df, test_size=0.5, random_state=42)  # Split the test set into validation and test sets\n",
    "#This gives us 70% training, 15% validation, and 15% test sets"
   ],
   "id": "b81a132e352ce529",
   "outputs": [],
   "execution_count": 78
  },
  {
   "metadata": {},
   "cell_type": "markdown",
   "source": "Using the new organised images in raw_images_organised with our simpler data loading pipeline using torchvision's built in image loading functions and jpeg format images",
   "id": "945fed9db775edf0"
  },
  {
   "metadata": {
    "id": "7f10db377e73a705",
    "ExecuteTime": {
     "end_time": "2025-08-24T21:50:34.442138Z",
     "start_time": "2025-08-24T21:50:34.435198Z"
    }
   },
   "cell_type": "code",
   "source": [
    "train_dataset = ImageDataset(train_df, img_dir='raw_images_organised', transform=training_augmentation_transforms)  # Create the training dataset with data augmentation\n",
    "test_dataset = ImageDataset(test_df, img_dir='raw_images_organised', transform=val_test_standard_transforms)  # Create the test dataset with standard transformations\n",
    "val_dataset = ImageDataset(val_df, img_dir='raw_images_organised', transform=val_test_standard_transforms)  # Create the validation dataset with standard transformations"
   ],
   "id": "7f10db377e73a705",
   "outputs": [],
   "execution_count": 79
  },
  {
   "metadata": {
    "id": "286cbdb3263caba1",
    "outputId": "d40ca12e-2e58-4768-b87d-a3a4cc75dae8",
    "colab": {
     "base_uri": "https://localhost:8080/"
    },
    "ExecuteTime": {
     "end_time": "2025-08-24T21:50:34.451937Z",
     "start_time": "2025-08-24T21:50:34.450193Z"
    }
   },
   "cell_type": "code",
   "source": [
    "print(train_dataset.transform)\n",
    "print(test_dataset.transform)\n",
    "print(val_dataset.transform)"
   ],
   "id": "286cbdb3263caba1",
   "outputs": [
    {
     "name": "stdout",
     "output_type": "stream",
     "text": [
      "Compose(\n",
      "      ToPILImage()\n",
      "      RandomHorizontalFlip(p=0.2)\n",
      "      RandomVerticalFlip(p=0.2)\n",
      "      RandomApply(    RandomCrop(size=(430, 430), pad_if_needed=True, fill=0, padding_mode=constant))\n",
      "      RandomAdjustSharpness(p=0.2, sharpness_factor=2)\n",
      "      RandomAdjustSharpness(p=0.2, sharpness_factor=0.5)\n",
      "      RandomGrayscale(p=0.2)\n",
      "      Resize(size=[512, 512], interpolation=InterpolationMode.BILINEAR, antialias=True)\n",
      "      ToTensor()\n",
      "      Normalize(mean=[0.485, 0.456, 0.406], std=[0.229, 0.224, 0.225], inplace=False)\n",
      ")\n",
      "Compose(\n",
      "      ToPILImage()\n",
      "      Resize(size=[512, 512], interpolation=InterpolationMode.BILINEAR, antialias=True)\n",
      "      ToTensor()\n",
      "      Normalize(mean=[0.485, 0.456, 0.406], std=[0.229, 0.224, 0.225], inplace=False)\n",
      ")\n",
      "Compose(\n",
      "      ToPILImage()\n",
      "      Resize(size=[512, 512], interpolation=InterpolationMode.BILINEAR, antialias=True)\n",
      "      ToTensor()\n",
      "      Normalize(mean=[0.485, 0.456, 0.406], std=[0.229, 0.224, 0.225], inplace=False)\n",
      ")\n"
     ]
    }
   ],
   "execution_count": 80
  },
  {
   "metadata": {
    "id": "2aa1ab70d646fca3",
    "ExecuteTime": {
     "end_time": "2025-08-24T21:50:34.461736Z",
     "start_time": "2025-08-24T21:50:34.459951Z"
    }
   },
   "cell_type": "code",
   "source": [
    "# Create data loaders - these allow us to load images in batches for training and testing\n",
    "train_loader = DataLoader(train_dataset, batch_size=32, shuffle=True)\n",
    "test_loader = DataLoader(test_dataset, batch_size=32, shuffle=False)\n",
    "val_loader = DataLoader(val_dataset, batch_size=32, shuffle=False)"
   ],
   "id": "2aa1ab70d646fca3",
   "outputs": [],
   "execution_count": 81
  },
  {
   "metadata": {
    "id": "891ea943eb40aeea",
    "outputId": "a06f7c95-80b2-41be-f81b-6cbdb20fe660",
    "colab": {
     "base_uri": "https://localhost:8080/",
     "height": 419
    },
    "ExecuteTime": {
     "end_time": "2025-08-24T21:50:34.797837Z",
     "start_time": "2025-08-24T21:50:34.469283Z"
    }
   },
   "cell_type": "code",
   "source": [
    "from torchvision.utils import make_grid\n",
    "\n",
    "train_images, train_labels = next(iter(train_loader))\n",
    "print(f\"Train Image Shape: {train_images.shape}\")\n",
    "print(f\"Train Label Shape: {train_labels.shape}\")\n",
    "\n",
    "def imshow(img):\n",
    "    img = img / 2 + 0.5     # unnormalize\n",
    "    npimg = img.numpy()\n",
    "    plt.imshow(np.transpose(npimg, (1, 2, 0)))\n",
    "    plt.show()\n",
    "\n",
    "print(train_images.dtype)  # Check the shape of the images tensor\n",
    "print(train_labels.dtype)  # Check the shape of the labels tensor\n",
    "\n",
    "imshow(make_grid(train_images))"
   ],
   "id": "891ea943eb40aeea",
   "outputs": [
    {
     "name": "stdout",
     "output_type": "stream",
     "text": [
      "Train Image Shape: torch.Size([32, 3, 512, 512])\n",
      "Train Label Shape: torch.Size([32, 6])\n",
      "torch.float32\n",
      "torch.int64\n"
     ]
    },
    {
     "name": "stderr",
     "output_type": "stream",
     "text": [
      "Clipping input data to the valid range for imshow with RGB data ([0..1] for floats or [0..255] for integers). Got range [-0.558952..1.82].\n"
     ]
    },
    {
     "data": {
      "text/plain": [
       "<Figure size 640x480 with 1 Axes>"
      ],
      "image/png": "[encoded data removed]"
     },
     "metadata": {},
     "output_type": "display_data"
    }
   ],
   "execution_count": 82
  },
  {
   "metadata": {
    "id": "998fdd01e5f2c94e",
    "outputId": "fde91b5e-a1a6-4a8c-86d9-f117d6784055",
    "colab": {
     "base_uri": "https://localhost:8080/"
    },
    "ExecuteTime": {
     "end_time": "2025-08-24T21:50:34.812079Z",
     "start_time": "2025-08-24T21:50:34.806627Z"
    }
   },
   "cell_type": "code",
   "source": [
    "# Compute class weights to handle class imbalance in the dataset\n",
    "from sklearn.utils.class_weight import compute_class_weight\n",
    "class_weights_pos = []\n",
    "for column in df.columns[1:]:  # Skip the first column (img_name) - Go through each feature and get the class weights to handle class imbalance in dataset for loss function input\n",
    "    class_weight = compute_class_weight(class_weight='balanced',\n",
    "                                        classes=np.unique(df[column]), # Get unique classes in the column (should be 0 and 1 for binary classification) because of one-hot encoding\n",
    "                                        y=df[column]) #y is all the values in the column so we can compute the class weights\n",
    "    print(f\"Class weights for {column}: {class_weight[1]}\") # Print the weight for the positive class (1)\n",
    "    class_weights_pos.append(class_weight[1])  # Append the weight for the positive class (1) for each column\n",
    "\n",
    "class_weights_tensor = torch.tensor(class_weights_pos, dtype=torch.float32)  # Convert to tensor for use in loss function\n",
    "# Print the class weights\n",
    "print(f\"Class weights: {class_weights_tensor}\")\n",
    "\n",
    "#Higher weight means more rare, so the model will pay more attention to these classes during training"
   ],
   "id": "998fdd01e5f2c94e",
   "outputs": [
    {
     "name": "stdout",
     "output_type": "stream",
     "text": [
      "Class weights for setting_animals: 8.333333333333334\n",
      "Class weights for setting_man_made: 1.337613697164259\n",
      "Class weights for setting_nature: 2.295684113865932\n",
      "Class weights for setting_people: 1.8642803877703207\n",
      "Class weights for location_indoor: 2.3696682464454977\n",
      "Class weights for location_outdoor: 0.6957973838018369\n",
      "Class weights: tensor([8.3333, 1.3376, 2.2957, 1.8643, 2.3697, 0.6958])\n"
     ]
    }
   ],
   "execution_count": 83
  },
  {
   "metadata": {
    "id": "7786525651dbb742",
    "ExecuteTime": {
     "end_time": "2025-08-24T21:50:34.856176Z",
     "start_time": "2025-08-24T21:50:34.820235Z"
    }
   },
   "cell_type": "code",
   "source": [
    "criterion = nn.BCEWithLogitsLoss(pos_weight=class_weights_tensor).to(device)  # Using the positive from above class weights to handle class imbalance\n",
    "#The loss function knows which class to apply these two based on the order of the pos_weight tensor and the order of the columns in the dataframe, so make sure they match\n",
    "#Loss function needs to be to_device to work with the model on the same device\n"
   ],
   "id": "7786525651dbb742",
   "outputs": [],
   "execution_count": 84
  },
  {
   "metadata": {
    "id": "a870525174a9ec7a"
   },
   "cell_type": "markdown",
   "source": [
    "# Model architecture (better notes in old file model.ipynb)"
   ],
   "id": "a870525174a9ec7a"
  },
  {
   "metadata": {
    "id": "ff6400736f2d4528"
   },
   "cell_type": "markdown",
   "source": [],
   "id": "ff6400736f2d4528"
  },
  {
   "metadata": {
    "id": "4d0718662adf08c4",
    "ExecuteTime": {
     "end_time": "2025-08-24T21:50:34.869336Z",
     "start_time": "2025-08-24T21:50:34.863990Z"
    }
   },
   "cell_type": "code",
   "source": [
    "#https://arxiv.org/pdf/1512.03385\n",
    "#Decided to copy what paper is doing with kernal sizes etc\n",
    "class Model(nn.Module):\n",
    "    def __init__(self):\n",
    "        super(Model, self).__init__()\n",
    "        self.dropout = nn.Dropout(0.2)\n",
    "        self.max_pool = nn.MaxPool2d(2, 2)\n",
    "        self.conv1 = nn.Conv2d(3, 64, kernel_size=5, stride=1, padding=2) # Input channels = 3 (RGB), output channels = 32, kernel size = 5x5, stride = 1, padding = 2 (to keep the spatial dimensions the same)\n",
    "\n",
    "        self.bn1 = nn.BatchNorm2d(64)\n",
    "        self.conv2 = nn.Conv2d(64, 64, kernel_size=3, stride=1)\n",
    "        self.bn2 = nn.BatchNorm2d(64)\n",
    "        self.conv3 = nn.Conv2d(64, 64, kernel_size=3, stride=1)\n",
    "        self.bn3 = nn.BatchNorm2d(64)\n",
    "        self.conv4 = nn.Conv2d(64, 64, kernel_size=3, stride=1)\n",
    "        self.bn4 = nn.BatchNorm2d(64)\n",
    "        self.conv5 = nn.Conv2d(64, 64, kernel_size=3, stride=1)\n",
    "        self.bn5 = nn.BatchNorm2d(64)\n",
    "        self.conv6 = nn.Conv2d(64, 128, kernel_size=3, stride=1)\n",
    "        self.bn6 = nn.BatchNorm2d(128)\n",
    "        self.conv7 = nn.Conv2d(128, 128, kernel_size=3, stride=1)\n",
    "        #Channels are the amount of filters applied to our spatial data, giving depth to our feature map\n",
    "        #The spatial data will shrink because of 'edge issue' with CNN look at notes for more details\n",
    "        self.bn7 = nn.BatchNorm2d(128)\n",
    "\n",
    "\n",
    "        self.avg_global_pool = nn.AdaptiveAvgPool2d(1) # Global average pooling converts our (batch size, num_channels, height width) spatial dimensions into the average per channel across the height and width of the image.\n",
    "        #This makes our shape (batch_size, num_channels, 1,1) containing just the average per each channel across the image (height and width)\n",
    "        #for us its (batch_size, 64, 1,1)\n",
    "        #once flattened this becomes (batch_size, 64 (channels))\n",
    "        #This avoids us needing a fully connected layer with loads of parameters to deal with the large spatial dimensions\n",
    "\n",
    "\n",
    "        self.fc1 = nn.Linear(128, len(df.columns) - 1) #Classification layer (new)\n",
    "        # self.fc1 = nn.Linear(256 * 114 * 114, out_features=len(df.columns) - 1) #Classification layer\n",
    "\n",
    "    def forward(self, x):\n",
    "        # Input x is of shape (batch_size, 3, 512, 512)\n",
    "        x = self.conv1(x)\n",
    "        x = self.bn1(x)\n",
    "        #this function()(x) means, create a new instance of the function and apply it to x\n",
    "        x = nn.ReLU()(x)  # Activation function, done to break the linearity of the model after each convolutional layer\n",
    "\n",
    "        #spatial dimensions: 512\n",
    "\n",
    "        x = self.conv2(x)\n",
    "        x = self.bn2(x)\n",
    "        x = nn.ReLU()(x)  # Activation function\n",
    "        x = self.dropout(x)\n",
    "\n",
    "        #spatial dimensions: 512\n",
    "\n",
    "        x = self.conv3(x)\n",
    "        x = self.bn3(x)\n",
    "        x = nn.ReLU()(x)  # Activation function\n",
    "\n",
    "        #spatial dimensions: 512\n",
    "\n",
    "        x = self.max_pool(x)  # Max pooling layer, reduces the spatial dimensions by half, you should only pool after a few convolutional layers to reduce the spatial dimensions and retain the features\n",
    "\n",
    "        # 512 / 2 = 256\n",
    "\n",
    "\n",
    "        x = self.conv4(x)\n",
    "        x = self.bn4(x)\n",
    "        x = nn.ReLU()(x)  # Activation function\n",
    "        x = self.dropout(x)\n",
    "\n",
    "        #spatial dimensions: 256\n",
    "\n",
    "        x = self.conv5(x)\n",
    "        x = self.bn5(x)\n",
    "        x = nn.ReLU()(x)  # Activation function\n",
    "\n",
    "        #spatial dimensions: 253\n",
    "\n",
    "        x = self.max_pool(x)  # Max pooling layer, reduces the spatial dimensions by half\n",
    "\n",
    "        # 253 / 2 = 126.5, so it will be rounded down to 126\n",
    "\n",
    "        x = self.conv6(x)\n",
    "        x = self.bn6(x)\n",
    "        x = nn.ReLU()(x)  # Activation function\n",
    "\n",
    "        #spatial dimensions: 123\n",
    "\n",
    "        x = self.conv7(x)\n",
    "        x = self.bn7(x)\n",
    "        x = nn.ReLU()(x)\n",
    "\n",
    "        #spatial dimensions: 120\n",
    "\n",
    "        x = self.avg_global_pool(x) # Global average pooling, reduces the spatial dimensions to (batch_size, num_channels, 1, 1) by averaging the height and width dimensions per channel\n",
    "        x = torch.flatten(x, 1)  # Flatten the output to shape (batch_size, num_channels)\n",
    "\n",
    "        x = self.fc1(x)  # Fully connected layer for classification\n",
    "\n",
    "        return x"
   ],
   "id": "4d0718662adf08c4",
   "outputs": [],
   "execution_count": 85
  },
  {
   "metadata": {
    "id": "87777f79066cfcda",
    "ExecuteTime": {
     "end_time": "2025-08-24T21:50:34.890227Z",
     "start_time": "2025-08-24T21:50:34.876673Z"
    }
   },
   "cell_type": "code",
   "source": [
    "net = Model().to(device)"
   ],
   "id": "87777f79066cfcda",
   "outputs": [],
   "execution_count": 86
  },
  {
   "metadata": {
    "id": "eafbdcb42b0b47e2",
    "ExecuteTime": {
     "end_time": "2025-08-24T21:50:34.900137Z",
     "start_time": "2025-08-24T21:50:34.897813Z"
    }
   },
   "cell_type": "code",
   "source": [
    "from torchsummary import summary\n",
    "# summary(net, input_size=(3, 512, 512)) - doesn't work on MPS device, but works on CPU and CUDA"
   ],
   "id": "eafbdcb42b0b47e2",
   "outputs": [],
   "execution_count": 87
  },
  {
   "metadata": {
    "id": "3a6b39c6fb48064",
    "ExecuteTime": {
     "end_time": "2025-08-24T21:50:34.908559Z",
     "start_time": "2025-08-24T21:50:34.907145Z"
    }
   },
   "cell_type": "code",
   "source": [
    "#Weight_decay sets and enables L2 regularization in the cost function, it adds a penalty to the loss function based on the magnitude of the weights, which helps prevent overfitting by discouraging large weights. 1e-5 is the resNet default.\n",
    "optimizer = torch.optim.Adam(net.parameters(), lr=0.001, weight_decay=1e-5)  # Using Adam optimizer with a learning rate of 0.001"
   ],
   "id": "3a6b39c6fb48064",
   "outputs": [],
   "execution_count": 88
  },
  {
   "metadata": {
    "id": "d9fdf8aec707448e",
    "ExecuteTime": {
     "end_time": "2025-08-24T21:50:34.918068Z",
     "start_time": "2025-08-24T21:50:34.916026Z"
    }
   },
   "cell_type": "code",
   "source": [
    "#There's a bunch of tensorboard stuff in the pytorch tutorial, we don't need it for now, but we can add it later if we want to visualize the training process\n",
    "\n",
    "#This function gets called once per epoch in loop below\n",
    "def train_one_epoch(train_loader,loss_values):\n",
    "\n",
    "    running_loss = 0.\n",
    "\n",
    "    # Here, we use enumerate(training_loader) instead of\n",
    "    # iter(training_loader) so that we can track the batch\n",
    "    # index and do some intra-epoch reporting\n",
    "    total_train_data = len(train_loader)\n",
    "    for i, data in enumerate(train_loader, 0):  # Start counting from 0, enumerate give us a counter as well as the data\n",
    "        # Every data instance is an input + label pair\n",
    "\n",
    "        inputs, labels = data\n",
    "        inputs, labels = inputs.to(device), labels.to(device).float()  # Move inputs and labels to the same device as the model (apple silicon chip, cuda, or cpu)\n",
    "\n",
    "        # Zero your gradients for every batch!\n",
    "        optimizer.zero_grad()\n",
    "\n",
    "        # Make predictions for this batch\n",
    "        outputs = net(inputs)\n",
    "\n",
    "        # Compute the loss and its gradients\n",
    "        loss = criterion(outputs, labels)\n",
    "        loss.backward()\n",
    "\n",
    "        # Adjust learning weights\n",
    "        optimizer.step()\n",
    "\n",
    "        # running_loss is the total loss for the epoch, we will average it later\n",
    "        running_loss += loss.item()\n",
    "\n",
    "    avg_loss = running_loss / total_train_data  # Average loss for the epoch (over the all batches in the training set, given by len(train_loader))\n",
    "\n",
    "    # Log the average loss for the epoch:\n",
    "    loss_values.append(avg_loss) #log the average loss for the epoch to the loss_values list\n",
    "    # Log the average loss for the epoch\n",
    "    return avg_loss, loss_values"
   ],
   "id": "d9fdf8aec707448e",
   "outputs": [],
   "execution_count": 89
  },
  {
   "metadata": {
    "id": "e81b8e41d6ab99b5",
    "ExecuteTime": {
     "end_time": "2025-08-24T21:50:34.927395Z",
     "start_time": "2025-08-24T21:50:34.925317Z"
    }
   },
   "cell_type": "code",
   "source": [
    "# Initialize list and int to keep track of recent training losses and average losses for early stopping\n",
    "\n",
    "# avg_of_recent_losses = 0.0 #Doesn't work because we cannot reasign a value within our function due to scope, so we will return it from the function\n",
    "\n",
    "#Early stopping function to stop training if the validation loss doesn't improve for a certain number of epochs (patience)\n",
    "# Initialize a list to keep track of recent training losses for early stopping\n",
    "recent_train_losses = []  # List to keep track of recent training losses for early stopping\n",
    "previous_train_losses = []\n",
    "\n",
    "#This was broken - made a change idk now\n",
    "def early_stopping(avg_loss,patience=5):\n",
    "\n",
    "    if len(recent_train_losses) < patience:\n",
    "        recent_train_losses.append(avg_loss)  # Add the current average loss to the recent losses\n",
    "\n",
    "    if len(previous_train_losses) < patience:\n",
    "        previous_train_losses.append(recent_train_losses[0])\n",
    "        recent_train_losses.pop(0)\n",
    "\n",
    "    if len(recent_train_losses) == patience and len(previous_train_losses) == patience:\n",
    "        avg_of_previous_losses = np.mean(previous_train_losses)\n",
    "        avg_of_recent_previous_losses = np.mean(recent_train_losses)\n",
    "        if avg_of_previous_losses < avg_of_recent_previous_losses:\n",
    "            print(f\"Early stopping condition met: {avg_of_previous_losses} < {avg_of_recent_previous_losses}\")\n",
    "            return True, recent_train_losses, previous_train_losses  # Early stopping condition met\n",
    "\n",
    "        print(f\"Early stopping condition not met: {avg_of_previous_losses} >= {avg_of_recent_previous_losses}\")\n",
    "        previous_train_losses.append(recent_train_losses[0])  #Add oldest recent loss to previous losses\n",
    "        recent_train_losses.pop(0)  # Remove the oldest loss to maintain the size of the list\n",
    "\n",
    "    return False, recent_train_losses, previous_train_losses  # No early stopping condition met\n"
   ],
   "id": "e81b8e41d6ab99b5",
   "outputs": [],
   "execution_count": 90
  },
  {
   "metadata": {
    "id": "3752043f82a77dbb",
    "outputId": "f1f4d51d-c76c-4c3c-fab9-759f09f11ea7",
    "colab": {
     "base_uri": "https://localhost:8080/"
    },
    "ExecuteTime": {
     "end_time": "2025-08-24T21:50:51.966970Z",
     "start_time": "2025-08-24T21:50:34.934934Z"
    }
   },
   "cell_type": "code",
   "source": [
    "from datetime import datetime\n",
    "from torch.utils.tensorboard import SummaryWriter\n",
    "\n",
    "#There's a bunch of tensorboard stuff in the pytorch tutorial, we don't need it for now, but we can add it later if we want to visualize the training process\n",
    "# Initializing in a separate cell so we can easily add more epochs to the same run\n",
    "timestamp = datetime.now().strftime('%Y%m%d_%H%M%S')\n",
    "writer = SummaryWriter('runs/classifier_trainer{}'.format(timestamp))\n",
    "\n",
    "EPOCHS = 15\n",
    "\n",
    "best_vloss = 1_000_000. #Super big number to start with, so we can save the model if the validation loss is lower than this\n",
    "\n",
    "# Initialize lists to keep track of loss values for plotting later\n",
    "loss_values = []\n",
    "val_loss_values = []\n",
    "\n",
    "\n",
    "total_val_data = len(val_loader)\n",
    "for epoch in range(EPOCHS):\n",
    "    print('EPOCH {}:'.format(epoch + 1)) # Start counting epochs from 1 for better readability\n",
    "\n",
    "    # Make sure gradient tracking is on, and do a pass over the data, so we are not in evaluation mode.\n",
    "    net.train(True)\n",
    "\n",
    "    #Actually train the model, this is where the training happens\n",
    "    #Keep track of loss values for plotting later, keep giving the loss_values array to the train_one_epoch function so that it keeps track of the loss values\n",
    "    avg_loss, loss_values = train_one_epoch(train_loader, loss_values)\n",
    "\n",
    "    early_stop,recent_train_losses, previous_train_losses = early_stopping(avg_loss,patience=5)  # Check if early stopping condition is met\n",
    "\n",
    "    running_vloss = 0.0\n",
    "    # Set the model to evaluation mode, disabling dropout and using population\n",
    "    # statistics for batch normalization.\n",
    "    net.eval()\n",
    "\n",
    "    #This is the validation loop, it will run after each epoch and compute the validation loss\n",
    "    # Disable gradient computation and reduce memory consumption.\n",
    "    with torch.no_grad():\n",
    "        for i, vdata in enumerate(val_loader, 0): #Computes the validation loss per epoch\n",
    "            vinputs, vlabels = vdata\n",
    "            vinputs, vlabels = vinputs.to(device), vlabels.to(device).float()  # Move inputs and labels to the same device as the model\n",
    "            voutputs = net(vinputs)\n",
    "            vloss = criterion(voutputs, vlabels)\n",
    "            #running vloss is the total validation loss for the epoch, we will average it later\n",
    "            running_vloss += vloss.item()  # Add the validation loss for this batch to the running validation loss\n",
    "\n",
    "    # Average validation loss for the epoch (over the all batches in the validation set, given by len(val_loader))\n",
    "    avg_vloss = running_vloss / total_val_data\n",
    "    val_loss_values.append(avg_vloss)\n",
    "\n",
    "    #Gives the loss and validation loss for the epoch into the terminal\n",
    "    print('LOSS train {} valid {}'.format(avg_loss, avg_vloss))\n",
    "\n",
    "    # for both training and validation w]e log the average loss for the epoch\n",
    "    writer.add_scalars('Training vs. Validation Loss',\n",
    "                       { 'Training' : avg_loss, 'Validation' : avg_vloss },\n",
    "                       epoch + 1)\n",
    "    writer.flush()\n",
    "\n",
    "    #Track best performance, and save the model's state\n",
    "    if avg_vloss < best_vloss: #If the validation loss is lower than the best validation loss so far, save the model\n",
    "\n",
    "        #Best vloss starts at a super high number, so the first model will always be saved\n",
    "        best_vloss = avg_vloss\n",
    "        model_path = 'model_{}_{}'.format(timestamp, epoch + 1) # Save the model with a timestamp and epoch number (epoch + 1 to start from 1)\n",
    "        torch.save(net.state_dict(), model_path)\n",
    "\n",
    "    if early_stop:  # Check if early stopping condition is met\n",
    "        print(\"Early stopping triggered, stopping training.\")\n",
    "        break  # Stop training if early stopping condition is met\n",
    "\n",
    "    #Onto the next epoch, which will also run through all the batches in the training set and validation set and give the average los s for the epoch"
   ],
   "id": "3752043f82a77dbb",
   "outputs": [
    {
     "name": "stdout",
     "output_type": "stream",
     "text": [
      "EPOCH 1:\n"
     ]
    },
    {
     "name": "stderr",
     "output_type": "stream",
     "text": [
      "\n",
      "KeyboardInterrupt\n",
      "\n"
     ]
    },
    {
     "ename": "KeyboardInterrupt",
     "evalue": "",
     "output_type": "error",
     "traceback": [
      "\u001B[31m---------------------------------------------------------------------------\u001B[39m",
      "\u001B[31mKeyboardInterrupt\u001B[39m                         Traceback (most recent call last)",
      "\u001B[36mFile \u001B[39m\u001B[32m/opt/anaconda3/envs/fivekClassiferModelV2UpdatedPy/lib/python3.12/site-packages/IPython/core/async_helpers.py:128\u001B[39m, in \u001B[36m_pseudo_sync_runner\u001B[39m\u001B[34m(coro)\u001B[39m\n\u001B[32m    120\u001B[39m \u001B[38;5;250m\u001B[39m\u001B[33;03m\"\"\"\u001B[39;00m\n\u001B[32m    121\u001B[39m \u001B[33;03mA runner that does not really allow async execution, and just advance the coroutine.\u001B[39;00m\n\u001B[32m    122\u001B[39m \n\u001B[32m   (...)\u001B[39m\u001B[32m    125\u001B[39m \u001B[33;03mCredit to Nathaniel Smith\u001B[39;00m\n\u001B[32m    126\u001B[39m \u001B[33;03m\"\"\"\u001B[39;00m\n\u001B[32m    127\u001B[39m \u001B[38;5;28;01mtry\u001B[39;00m:\n\u001B[32m--> \u001B[39m\u001B[32m128\u001B[39m     coro.send(\u001B[38;5;28;01mNone\u001B[39;00m)\n\u001B[32m    129\u001B[39m \u001B[38;5;28;01mexcept\u001B[39;00m \u001B[38;5;167;01mStopIteration\u001B[39;00m \u001B[38;5;28;01mas\u001B[39;00m exc:\n\u001B[32m    130\u001B[39m     \u001B[38;5;28;01mreturn\u001B[39;00m exc.value\n",
      "\u001B[36mFile \u001B[39m\u001B[32m/opt/anaconda3/envs/fivekClassiferModelV2UpdatedPy/lib/python3.12/site-packages/IPython/core/interactiveshell.py:3381\u001B[39m, in \u001B[36mInteractiveShell.run_cell_async\u001B[39m\u001B[34m(self, raw_cell, store_history, silent, shell_futures, transformed_cell, preprocessing_exc_tuple, cell_id)\u001B[39m\n\u001B[32m   3377\u001B[39m exec_count = \u001B[38;5;28mself\u001B[39m.execution_count\n\u001B[32m   3378\u001B[39m \u001B[38;5;28;01mif\u001B[39;00m result.error_in_exec:\n\u001B[32m   3379\u001B[39m     \u001B[38;5;66;03m# Store formatted traceback and error details\u001B[39;00m\n\u001B[32m   3380\u001B[39m     \u001B[38;5;28mself\u001B[39m.history_manager.exceptions[exec_count] = (\n\u001B[32m-> \u001B[39m\u001B[32m3381\u001B[39m         \u001B[38;5;28mself\u001B[39m._format_exception_for_storage(result.error_in_exec)\n\u001B[32m   3382\u001B[39m     )\n\u001B[32m   3384\u001B[39m \u001B[38;5;66;03m# Each cell is a *single* input, regardless of how many lines it has\u001B[39;00m\n\u001B[32m   3385\u001B[39m \u001B[38;5;28mself\u001B[39m.execution_count += \u001B[32m1\u001B[39m\n",
      "\u001B[36mFile \u001B[39m\u001B[32m/opt/anaconda3/envs/fivekClassiferModelV2UpdatedPy/lib/python3.12/site-packages/IPython/core/interactiveshell.py:3435\u001B[39m, in \u001B[36mInteractiveShell._format_exception_for_storage\u001B[39m\u001B[34m(self, exception, filename, running_compiled_code)\u001B[39m\n\u001B[32m   3432\u001B[39m         stb = evalue._render_traceback_()\n\u001B[32m   3433\u001B[39m     \u001B[38;5;28;01melse\u001B[39;00m:\n\u001B[32m   3434\u001B[39m         \u001B[38;5;66;03m# Otherwise, use InteractiveTB to format the traceback.\u001B[39;00m\n\u001B[32m-> \u001B[39m\u001B[32m3435\u001B[39m         stb = \u001B[38;5;28mself\u001B[39m.InteractiveTB.structured_traceback(\n\u001B[32m   3436\u001B[39m             etype, evalue, tb, tb_offset=\u001B[32m1\u001B[39m\n\u001B[32m   3437\u001B[39m         )\n\u001B[32m   3438\u001B[39m \u001B[38;5;28;01mexcept\u001B[39;00m \u001B[38;5;167;01mException\u001B[39;00m:\n\u001B[32m   3439\u001B[39m     \u001B[38;5;66;03m# In case formatting fails, fallback to Python's built-in formatting.\u001B[39;00m\n\u001B[32m   3440\u001B[39m     stb = traceback.format_exception(etype, evalue, tb)\n",
      "\u001B[36mFile \u001B[39m\u001B[32m/opt/anaconda3/envs/fivekClassiferModelV2UpdatedPy/lib/python3.12/site-packages/IPython/core/ultratb.py:1182\u001B[39m, in \u001B[36mAutoFormattedTB.structured_traceback\u001B[39m\u001B[34m(self, etype, evalue, etb, tb_offset, context)\u001B[39m\n\u001B[32m   1180\u001B[39m \u001B[38;5;28;01melse\u001B[39;00m:\n\u001B[32m   1181\u001B[39m     \u001B[38;5;28mself\u001B[39m.tb = etb\n\u001B[32m-> \u001B[39m\u001B[32m1182\u001B[39m \u001B[38;5;28;01mreturn\u001B[39;00m FormattedTB.structured_traceback(\n\u001B[32m   1183\u001B[39m     \u001B[38;5;28mself\u001B[39m, etype, evalue, etb, tb_offset, context\n\u001B[32m   1184\u001B[39m )\n",
      "\u001B[36mFile \u001B[39m\u001B[32m/opt/anaconda3/envs/fivekClassiferModelV2UpdatedPy/lib/python3.12/site-packages/IPython/core/ultratb.py:1053\u001B[39m, in \u001B[36mFormattedTB.structured_traceback\u001B[39m\u001B[34m(self, etype, evalue, etb, tb_offset, context)\u001B[39m\n\u001B[32m   1050\u001B[39m mode = \u001B[38;5;28mself\u001B[39m.mode\n\u001B[32m   1051\u001B[39m \u001B[38;5;28;01mif\u001B[39;00m mode \u001B[38;5;129;01min\u001B[39;00m \u001B[38;5;28mself\u001B[39m.verbose_modes:\n\u001B[32m   1052\u001B[39m     \u001B[38;5;66;03m# Verbose modes need a full traceback\u001B[39;00m\n\u001B[32m-> \u001B[39m\u001B[32m1053\u001B[39m     \u001B[38;5;28;01mreturn\u001B[39;00m VerboseTB.structured_traceback(\n\u001B[32m   1054\u001B[39m         \u001B[38;5;28mself\u001B[39m, etype, evalue, etb, tb_offset, context\n\u001B[32m   1055\u001B[39m     )\n\u001B[32m   1056\u001B[39m \u001B[38;5;28;01melif\u001B[39;00m mode == \u001B[33m\"\u001B[39m\u001B[33mDocs\u001B[39m\u001B[33m\"\u001B[39m:\n\u001B[32m   1057\u001B[39m     \u001B[38;5;66;03m# return DocTB\u001B[39;00m\n\u001B[32m   1058\u001B[39m     \u001B[38;5;28;01mreturn\u001B[39;00m DocTB(\n\u001B[32m   1059\u001B[39m         theme_name=\u001B[38;5;28mself\u001B[39m._theme_name,\n\u001B[32m   1060\u001B[39m         call_pdb=\u001B[38;5;28mself\u001B[39m.call_pdb,\n\u001B[32m   (...)\u001B[39m\u001B[32m   1068\u001B[39m         etype, evalue, etb, tb_offset, \u001B[32m1\u001B[39m\n\u001B[32m   1069\u001B[39m     )  \u001B[38;5;66;03m# type: ignore[arg-type]\u001B[39;00m\n",
      "\u001B[36mFile \u001B[39m\u001B[32m/opt/anaconda3/envs/fivekClassiferModelV2UpdatedPy/lib/python3.12/site-packages/IPython/core/ultratb.py:861\u001B[39m, in \u001B[36mVerboseTB.structured_traceback\u001B[39m\u001B[34m(self, etype, evalue, etb, tb_offset, context)\u001B[39m\n\u001B[32m    852\u001B[39m \u001B[38;5;28;01mdef\u001B[39;00m\u001B[38;5;250m \u001B[39m\u001B[34mstructured_traceback\u001B[39m(\n\u001B[32m    853\u001B[39m     \u001B[38;5;28mself\u001B[39m,\n\u001B[32m    854\u001B[39m     etype: \u001B[38;5;28mtype\u001B[39m,\n\u001B[32m   (...)\u001B[39m\u001B[32m    858\u001B[39m     context: \u001B[38;5;28mint\u001B[39m = \u001B[32m5\u001B[39m,\n\u001B[32m    859\u001B[39m ) -> \u001B[38;5;28mlist\u001B[39m[\u001B[38;5;28mstr\u001B[39m]:\n\u001B[32m    860\u001B[39m \u001B[38;5;250m    \u001B[39m\u001B[33;03m\"\"\"Return a nice text document describing the traceback.\"\"\"\u001B[39;00m\n\u001B[32m--> \u001B[39m\u001B[32m861\u001B[39m     formatted_exceptions: \u001B[38;5;28mlist\u001B[39m[\u001B[38;5;28mlist\u001B[39m[\u001B[38;5;28mstr\u001B[39m]] = \u001B[38;5;28mself\u001B[39m.format_exception_as_a_whole(\n\u001B[32m    862\u001B[39m         etype, evalue, etb, context, tb_offset\n\u001B[32m    863\u001B[39m     )\n\u001B[32m    865\u001B[39m     termsize = \u001B[38;5;28mmin\u001B[39m(\u001B[32m75\u001B[39m, get_terminal_size()[\u001B[32m0\u001B[39m])\n\u001B[32m    866\u001B[39m     theme = theme_table[\u001B[38;5;28mself\u001B[39m._theme_name]\n",
      "\u001B[36mFile \u001B[39m\u001B[32m/opt/anaconda3/envs/fivekClassiferModelV2UpdatedPy/lib/python3.12/site-packages/IPython/core/ultratb.py:746\u001B[39m, in \u001B[36mVerboseTB.format_exception_as_a_whole\u001B[39m\u001B[34m(self, etype, evalue, etb, context, tb_offset)\u001B[39m\n\u001B[32m    744\u001B[39m \u001B[38;5;28;01massert\u001B[39;00m \u001B[38;5;28misinstance\u001B[39m(tb_offset, \u001B[38;5;28mint\u001B[39m)\n\u001B[32m    745\u001B[39m head = \u001B[38;5;28mself\u001B[39m.prepare_header(\u001B[38;5;28mstr\u001B[39m(etype), \u001B[38;5;28mself\u001B[39m.long_header)\n\u001B[32m--> \u001B[39m\u001B[32m746\u001B[39m records = \u001B[38;5;28mself\u001B[39m.get_records(etb, context, tb_offset) \u001B[38;5;28;01mif\u001B[39;00m etb \u001B[38;5;28;01melse\u001B[39;00m []\n\u001B[32m    748\u001B[39m frames = []\n\u001B[32m    749\u001B[39m skipped = \u001B[32m0\u001B[39m\n",
      "\u001B[36mFile \u001B[39m\u001B[32m/opt/anaconda3/envs/fivekClassiferModelV2UpdatedPy/lib/python3.12/site-packages/IPython/core/ultratb.py:819\u001B[39m, in \u001B[36mVerboseTB.get_records\u001B[39m\u001B[34m(self, etb, context, tb_offset)\u001B[39m\n\u001B[32m    817\u001B[39m \u001B[38;5;28;01mwhile\u001B[39;00m cf \u001B[38;5;129;01mis\u001B[39;00m \u001B[38;5;129;01mnot\u001B[39;00m \u001B[38;5;28;01mNone\u001B[39;00m:\n\u001B[32m    818\u001B[39m     \u001B[38;5;28;01mtry\u001B[39;00m:\n\u001B[32m--> \u001B[39m\u001B[32m819\u001B[39m         mod = inspect.getmodule(cf.tb_frame)\n\u001B[32m    820\u001B[39m         \u001B[38;5;28;01mif\u001B[39;00m mod \u001B[38;5;129;01mis\u001B[39;00m \u001B[38;5;129;01mnot\u001B[39;00m \u001B[38;5;28;01mNone\u001B[39;00m:\n\u001B[32m    821\u001B[39m             mod_name = mod.\u001B[34m__name__\u001B[39m\n",
      "\u001B[36mFile \u001B[39m\u001B[32m/opt/anaconda3/envs/fivekClassiferModelV2UpdatedPy/lib/python3.12/inspect.py:1007\u001B[39m, in \u001B[36mgetmodule\u001B[39m\u001B[34m(object, _filename)\u001B[39m\n\u001B[32m   1004\u001B[39m \u001B[38;5;66;03m# Update the filename to module name cache and check yet again\u001B[39;00m\n\u001B[32m   1005\u001B[39m \u001B[38;5;66;03m# Copy sys.modules in order to cope with changes while iterating\u001B[39;00m\n\u001B[32m   1006\u001B[39m \u001B[38;5;28;01mfor\u001B[39;00m modname, module \u001B[38;5;129;01min\u001B[39;00m sys.modules.copy().items():\n\u001B[32m-> \u001B[39m\u001B[32m1007\u001B[39m     \u001B[38;5;28;01mif\u001B[39;00m ismodule(module) \u001B[38;5;129;01mand\u001B[39;00m \u001B[38;5;28mhasattr\u001B[39m(module, \u001B[33m'\u001B[39m\u001B[33m__file__\u001B[39m\u001B[33m'\u001B[39m):\n\u001B[32m   1008\u001B[39m         f = module.\u001B[34m__file__\u001B[39m\n\u001B[32m   1009\u001B[39m         \u001B[38;5;28;01mif\u001B[39;00m f == _filesbymodname.get(modname, \u001B[38;5;28;01mNone\u001B[39;00m):\n\u001B[32m   1010\u001B[39m             \u001B[38;5;66;03m# Have already mapped this module, so skip it\u001B[39;00m\n",
      "\u001B[31mKeyboardInterrupt\u001B[39m: "
     ]
    }
   ],
   "execution_count": 90
  },
  {
   "metadata": {
    "ExecuteTime": {
     "end_time": "2025-08-24T21:50:51.977247Z",
     "start_time": "2025-08-19T15:34:19.987874Z"
    },
    "id": "27af0cdf2345b3df"
   },
   "cell_type": "code",
   "source": [
    "# #Resplit dataset for cross validation\n",
    "# train_size = int(0.8 * len(dataset))  # 80% for training\n",
    "# test_size = len(dataset) - train_size  # Remaining 20% for testing\n",
    "# train_dataset, test_dataset = random_split(dataset, [train_size, test_size])  # Split the dataset into training and test sets"
   ],
   "id": "27af0cdf2345b3df",
   "outputs": [],
   "execution_count": null
  },
  {
   "metadata": {
    "id": "c56caec7b7c5da8e"
   },
   "cell_type": "markdown",
   "source": [
    "Below isn't used it was an attempt at cross validation"
   ],
   "id": "c56caec7b7c5da8e"
  },
  {
   "metadata": {
    "ExecuteTime": {
     "end_time": "2025-08-24T21:50:51.997554Z",
     "start_time": "2025-08-19T15:34:20.011971Z"
    },
    "id": "347856a3307ea037"
   },
   "cell_type": "code",
   "source": [
    "#Removed it was cross validation code but it was shit"
   ],
   "id": "347856a3307ea037",
   "outputs": [],
   "execution_count": null
  },
  {
   "metadata": {
    "ExecuteTime": {
     "end_time": "2025-08-24T21:50:52.012797Z",
     "start_time": "2025-08-19T15:34:20.100965Z"
    },
    "id": "1ce045acd236b222"
   },
   "cell_type": "code",
   "source": [
    "#Plot the training and validation loss\n",
    "plt.plot(loss_values, label='Training Loss')\n",
    "plt.plot(val_loss_values, label='Validation Loss')\n",
    "plt.xlabel('Epochs')\n",
    "plt.ylabel('Loss')\n",
    "plt.title('Training and Validation Loss')\n",
    "plt.legend()"
   ],
   "id": "1ce045acd236b222",
   "outputs": [],
   "execution_count": null
  },
  {
   "metadata": {
    "ExecuteTime": {
     "end_time": "2025-08-24T21:50:52.013349Z",
     "start_time": "2025-08-19T17:42:46.081804Z"
    },
    "id": "39c10a644509dda0"
   },
   "cell_type": "code",
   "source": [
    "# net = Model().to(device) # Create a new instance of the model architecture but still with GPU support\n",
    "# net.load_state_dict(torch.load('model_20250818_204816_43')) #Only imports the weights, not the model architecture\n",
    "# net = net.to(device) # Create a new instance of the model architecture but still with GPU support"
   ],
   "id": "39c10a644509dda0",
   "outputs": [],
   "execution_count": null
  },
  {
   "metadata": {
    "ExecuteTime": {
     "end_time": "2025-08-24T21:50:52.013402Z",
     "start_time": "2025-08-19T17:42:47.503689Z"
    },
    "id": "9165164f333104a1"
   },
   "cell_type": "code",
   "source": [
    "#Training set evaluation\n",
    "from torcheval.metrics import MultilabelAccuracy #This lib has so many of these - good to use i think\n",
    "#Per label accuracy much more common for multi label\n",
    "net.eval() #Turns off dropout layers\n",
    "metrics = MultilabelAccuracy()\n",
    "with torch.no_grad():\n",
    "    for inputs, labels in train_loader:\n",
    "        inputs, labels = inputs.to(device), labels.to(device).float()\n",
    "        outputs = torch.sigmoid(net(inputs)) #Applying sigmoid because of raw logits, sigmoid makes it into an actual probabilty, only needed during eval\n",
    "        predicted = outputs > 0.5 #Returns true or false (0,1)\n",
    "        metrics.update(predicted, labels) #Saves until compute or reset\n",
    "\n",
    "accuracy = metrics.compute()\n",
    "print(f'Training MultiLabel Accuracy: {accuracy}')"
   ],
   "id": "9165164f333104a1",
   "outputs": [],
   "execution_count": null
  },
  {
   "cell_type": "code",
   "source": [
    "from google.colab import drive\n",
    "drive.mount('/content/drive')"
   ],
   "metadata": {
    "id": "WAkhzShewFI_",
    "outputId": "3b145dd6-404b-4d55-db24-3f2d4b25512d",
    "colab": {
     "base_uri": "https://localhost:8080/"
    }
   },
   "id": "WAkhzShewFI_",
   "execution_count": 1,
   "outputs": [
    {
     "output_type": "stream",
     "name": "stdout",
     "text": [
      "Mounted at /content/drive\n"
     ]
    }
   ]
  },
  {
   "metadata": {
    "ExecuteTime": {
     "end_time": "2025-08-24T21:50:52.022092Z",
     "start_time": "2025-07-04T13:09:27.386517Z"
    },
    "id": "765820dfb394fe1d"
   },
   "cell_type": "code",
   "source": [
    "#Testing set evaluation\n",
    "from torcheval.metrics import MultilabelAccuracy #This lib has so many of these - good to use i think\n",
    "#Per label accuracy much more common for mutli label models like this\n",
    "net.eval() #Turns off dropout layers\n",
    "metrics = MultilabelAccuracy()\n",
    "#Modified for confusion matrix\n",
    "predictions = []\n",
    "labels_list = []\n",
    "with torch.no_grad():\n",
    "    for inputs, labels in test_loader:\n",
    "        inputs, labels = inputs.to(device), labels.to(device).float()\n",
    "        outputs = torch.sigmoid(net(inputs)) #Applying sigmoid because of raw logits, sigmoid makes it into an actual probability, only needed during eval\n",
    "        predicted = outputs > 0.5 #Returns true or false (0,1) done only during inference, not training because cost function expects raw logits\n",
    "        predictions.append(predicted)\n",
    "        labels_list.append(labels) #append all labels that appeared during the test set evaluation\n",
    "        metrics.update(predicted, labels) #Saves until compute or reset\n",
    "\n",
    "accuracy = metrics.compute()\n",
    "print(f'Test MultiLabel Accuracy: {accuracy}')"
   ],
   "id": "765820dfb394fe1d",
   "outputs": [],
   "execution_count": null
  },
  {
   "metadata": {
    "ExecuteTime": {
     "end_time": "2025-08-24T21:50:52.022979Z",
     "start_time": "2025-07-04T12:34:55.425569Z"
    },
    "id": "65743dbfb1252955"
   },
   "cell_type": "code",
   "source": [
    "#Looks like we have overfitting, fix this, attempting dropout regularization - done"
   ],
   "id": "65743dbfb1252955",
   "outputs": [],
   "execution_count": null
  },
  {
   "metadata": {
    "id": "445e38a2bbdce96f"
   },
   "cell_type": "markdown",
   "source": [
    "Below is prep for the confusion matrix plotted 2 cells below, this is where we get the predictions and labels from the test set evaluation above, so we can plot the confusion matrix and prepare the data for it."
   ],
   "id": "445e38a2bbdce96f"
  },
  {
   "metadata": {
    "ExecuteTime": {
     "end_time": "2025-08-24T21:50:52.025820Z",
     "start_time": "2025-07-04T13:29:02.890532Z"
    },
    "id": "52ce9806910fdd50"
   },
   "cell_type": "code",
   "source": [
    "#Plot a confusion matrix (prepping data for it)\n",
    "#https://stackoverflow.com/questions/46953967/multilabel-indicator-is-not-supported-for-confusion-matrix\n",
    "#https://scikit-learn.org/stable/modules/generated/sklearn.metrics.confusion_matrix.html\n",
    "\n",
    "# Concatenate all predictions and labels into a single tensor (currently they are lists of tensors)\n",
    "\n",
    "#Basically by counting the amount of each class number that appear in this tensor, we can get the confusion matrix  (cell below)\n",
    "all_predictions_tensor = torch.cat(predictions, dim=0) # Concatenate all predictions that appeared in the test set into a single tensor\n",
    "all_labels_tensor = torch.cat(labels_list, dim=0)  # Concatenate all labels that appeared in the test set into a single tensor\n",
    "\n",
    "\n",
    "# Convert to CPU tensors then to numpy arrays for confusion matrix\n",
    "all_predictions_tensor = all_predictions_tensor.cpu().numpy()\n",
    "all_labels_tensor = all_labels_tensor.cpu().numpy()\n",
    "print(all_predictions_tensor.shape, all_labels_tensor.shape)  # Check the shapes of the tensors\n",
    "print(all_predictions_tensor[0].shape, all_labels_tensor[0].shape) # Check the shape of the first prediction and label tensors\n",
    "\n",
    "\n",
    "#Data datatype before argmax, they are one-hot encoded tensors (boolean tensors) no good for confusion matrix\n",
    "print(all_predictions_tensor.dtype, all_predictions_tensor.dtype)\n",
    "\n",
    "# Argmax to convert one-hot encoded predictions and labels to a list of predicted and actual labels as integers\n",
    "all_predictions_tensor = all_predictions_tensor.argmax(axis=1)\n",
    "all_labels_tensor = all_labels_tensor.argmax(axis=1)\n",
    "print(all_predictions_tensor.dtype, all_labels_tensor.dtype)\n",
    "\n",
    "\n",
    "print(np.unique(all_predictions_tensor))\n",
    "print(np.unique(all_labels_tensor)) #Aah, there were only 7 unique labels in the test set\n",
    "# so we need to make sure the confusion matrix doesn't drop the 'empty labels' because the model might still have predicted them, but it could have been wrong\n"
   ],
   "id": "52ce9806910fdd50",
   "outputs": [],
   "execution_count": null
  },
  {
   "metadata": {
    "ExecuteTime": {
     "end_time": "2025-08-24T21:50:52.055719Z",
     "start_time": "2025-07-04T13:29:05.142901Z"
    },
    "id": "33685d14f1af7472"
   },
   "cell_type": "code",
   "source": [
    "display_labels = df.columns[1:]  # Exclude the first column (img_name) for display labels\n",
    "from sklearn.metrics import confusion_matrix, ConfusionMatrixDisplay\n",
    "\n",
    "# Compute confusion matrix\n",
    "cm = confusion_matrix(all_labels_tensor, all_predictions_tensor, labels=np.arange(len(display_labels)))\n",
    "#np.arrange basically just creates an array of length of display_labels (array of 15 elements, 0 to 14) which are the labels for the possible labels in the dataset, so the confusion matrix will have 15 rows and 15 columns, one for each label\n",
    "\n",
    "#Without display_labels the confusion matrix would only render the labels that were actually predicted, so if a label was never predicted, it would not appear in the confusion matrix, which is not what we want\n",
    "\n",
    "#15 labels, so 15x15 matrix\n",
    "print(cm.shape)\n",
    "\n",
    "matrix = ConfusionMatrixDisplay(confusion_matrix=cm,display_labels=display_labels) #disiplay_labels are the text labels (from column names) for the confusion matrix, these are the labels we want to display on the x and y axis of the confusion matrix, these are the same order as the labels we used for confusion matrix computation above,thanks to np.arrange(), so they will line up correctly\n",
    "\n",
    "_, ax = plt.subplots(figsize=(10, 10))  # Create a figure and axis for the confusion matrix plot (much larger than default\n",
    "matrix.plot(cmap='Blues', values_format='d', ax=ax, xticks_rotation=90)  # Plot the confusion matrix with blue color map and integer format\n"
   ],
   "id": "33685d14f1af7472",
   "outputs": [],
   "execution_count": null
  },
  {
   "metadata": {
    "id": "9f2a4834b6d5f650"
   },
   "cell_type": "markdown",
   "source": [
    "Keep in mind this matrix is from the test set\n",
    "\n",
    "Only parts of matrix are useful because we are doing multi-label classification, basically just look at the related features from the one-hot.\n",
    "\n",
    "So for location this would be: True label: location_outdoor, Predicted label: location_indoor or location_outdoor, etc. no point looking at the unrelated features like setting when trying to see how well the model predicts location.\n",
    "\n",
    "Matrix shows you when the model isn't choosing any labels from a grouping like location, its not choosing any of the one-hot encoded location labels. where as setting, seems much more 'active' in the matrix, meaning the model is choosing labels from that grouping more often."
   ],
   "id": "9f2a4834b6d5f650"
  },
  {
   "metadata": {
    "ExecuteTime": {
     "end_time": "2025-08-24T21:50:52.055918Z",
     "start_time": "2025-07-04T12:34:58.438913Z"
    },
    "id": "918aaa351b1a6186"
   },
   "cell_type": "code",
   "source": [
    "#Lets get all the labels that were predicted less than 10 times in the test set, so we can see which labels are not being predicted at all\n",
    "predicted_counts = np.bincount(all_predictions_tensor, minlength=len(display_labels))  # Count the occurrences of each predicted label, minlength ensures we count all labels even if some were not predicted at all\n",
    "\n",
    "unpredicted_labels = [label for label, count in zip(display_labels, predicted_counts) if count < 20]  # Get labels that were predicted less than 10 times, zip pairs each label with its count, so we can filter them based on the count, this works because they are the same length (thanks to minlenth) and in the same order.\n",
    "\n",
    "\n",
    "print(\"Labels predicted less than 10 times:\", unpredicted_labels)  # Print the labels that were predicted less than 20 times\n",
    "\n",
    "#These are the labels that our model can't do so will be removed, likely due to the data imbalance in the dataset, so we will remove them from the dataset and retrain the model"
   ],
   "id": "918aaa351b1a6186",
   "outputs": [],
   "execution_count": null
  },
  {
   "metadata": {
    "id": "14087c23eff01e35"
   },
   "cell_type": "markdown",
   "source": [
    "After checking the confusion matrix and the labels predicted less than 20 times, i decided to remove: 'time_of_day_day', 'time_of_day_dusk', 'time_of_day_night', 'time_of_day_unknown', 'skyCondition_artificial', 'skyCondition_mixed', 'skyCondition_sun_sky', location_unknown'"
   ],
   "id": "14087c23eff01e35"
  },
  {
   "metadata": {
    "ExecuteTime": {
     "end_time": "2025-08-24T21:50:52.056842Z",
     "start_time": "2025-07-04T12:34:58.770525Z"
    },
    "id": "a35b326a2b831fa6"
   },
   "cell_type": "code",
   "source": [
    "torch.save(net.state_dict(), \"final_model_mutlilabel.pth\")  # Save the final model state dictionary"
   ],
   "id": "a35b326a2b831fa6",
   "outputs": [],
   "execution_count": null
  }
 ],
 "metadata": {
  "kernelspec": {
   "display_name": "Python 3 (ipykernel)",
   "name": "python3",
   "language": "python"
  },
  "language_info": {
   "codemirror_mode": {
    "name": "ipython",
    "version": 2
   },
   "file_extension": ".py",
   "mimetype": "text/x-python",
   "name": "python",
   "nbconvert_exporter": "python",
   "pygments_lexer": "ipython2",
   "version": "2.7.6"
  },
  "colab": {
   "provenance": [],
   "machine_shape": "hm",
   "gpuType": "A100"
  },
  "accelerator": "GPU"
 },
 "nbformat": 4,
 "nbformat_minor": 5
}
