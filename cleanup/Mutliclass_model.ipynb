{
 "cells": [
  {
   "metadata": {
    "ExecuteTime": {
     "end_time": "2025-08-26T13:09:39.341817Z",
     "start_time": "2025-08-26T13:09:39.311283Z"
    }
   },
   "cell_type": "code",
   "source": "#Multiclass classification for only setting after multi-label models were not performing well, so we will try multiclass classification for setting only.",
   "id": "33c28b4a285b357d",
   "outputs": [],
   "execution_count": 130
  },
  {
   "metadata": {
    "ExecuteTime": {
     "end_time": "2025-08-26T13:09:39.349071Z",
     "start_time": "2025-08-26T13:09:39.346414Z"
    }
   },
   "cell_type": "code",
   "source": "#https://pypi.org/project/rawpy/",
   "id": "de0ff2d43f88a01f",
   "outputs": [],
   "execution_count": 131
  },
  {
   "metadata": {
    "ExecuteTime": {
     "end_time": "2025-08-26T13:09:39.405598Z",
     "start_time": "2025-08-26T13:09:39.400734Z"
    }
   },
   "cell_type": "code",
   "source": [
    "import numpy as np\n",
    "import pandas as pd\n",
    "import matplotlib.pyplot as plt\n",
    "import torch\n",
    "from pandas import DataFrame\n",
    "from torch import nn\n",
    "import torchvision.transforms.v2 as transforms\n",
    "from torch.utils.data import Dataset, DataLoader\n",
    "import os"
   ],
   "id": "9102ac85fee32ff6",
   "outputs": [],
   "execution_count": 132
  },
  {
   "metadata": {
    "ExecuteTime": {
     "end_time": "2025-08-26T13:09:40.050275Z",
     "start_time": "2025-08-26T13:09:39.421946Z"
    }
   },
   "cell_type": "code",
   "source": "!pip install torcheval",
   "id": "d9faba75ed8220f5",
   "outputs": [
    {
     "name": "stderr",
     "output_type": "stream",
     "text": [
      "python(92004) MallocStackLogging: can't turn off malloc stack logging because it was not enabled.\n"
     ]
    },
    {
     "name": "stdout",
     "output_type": "stream",
     "text": [
      "Requirement already satisfied: torcheval in /opt/anaconda3/envs/fivekClassiferModelV2UpdatedPy/lib/python3.12/site-packages (0.0.7)\r\n",
      "Requirement already satisfied: typing-extensions in /opt/anaconda3/envs/fivekClassiferModelV2UpdatedPy/lib/python3.12/site-packages (from torcheval) (4.12.2)\r\n"
     ]
    }
   ],
   "execution_count": 133
  },
  {
   "metadata": {
    "ExecuteTime": {
     "end_time": "2025-08-26T13:09:40.065132Z",
     "start_time": "2025-08-26T13:09:40.062608Z"
    }
   },
   "cell_type": "code",
   "source": [
    "import warnings\n",
    "warnings.simplefilter(action='ignore', category=FutureWarning) #Numpy and Pandas FutureWarnings - ignore them for now, we can fix them later"
   ],
   "id": "5fe83698f9f36bcb",
   "outputs": [],
   "execution_count": 134
  },
  {
   "metadata": {
    "ExecuteTime": {
     "end_time": "2025-08-26T13:09:40.095510Z",
     "start_time": "2025-08-26T13:09:40.074563Z"
    }
   },
   "cell_type": "code",
   "source": [
    "df = pd.read_csv('../categories.csv')\n",
    "df.head()"
   ],
   "id": "32ec50fb35b21b01",
   "outputs": [
    {
     "data": {
      "text/plain": [
       "                   img_name location time_of_day skyCondition   setting\n",
       "0        a0001-jmac_DSC1459  outdoor         day      sun_sky    nature\n",
       "1             a0002-dgw_005   indoor         day        mixed    people\n",
       "2        a0003-NKIM_MG_8178  outdoor         day      sun_sky  man_made\n",
       "3        a0004-jmac_MG_1384  outdoor         day      sun_sky    nature\n",
       "4  a0005-jn_2007_05_10__564  outdoor         day      sun_sky  man_made"
      ],
      "text/html": [
       "<div>\n",
       "<style scoped>\n",
       "    .dataframe tbody tr th:only-of-type {\n",
       "        vertical-align: middle;\n",
       "    }\n",
       "\n",
       "    .dataframe tbody tr th {\n",
       "        vertical-align: top;\n",
       "    }\n",
       "\n",
       "    .dataframe thead th {\n",
       "        text-align: right;\n",
       "    }\n",
       "</style>\n",
       "<table border=\"1\" class=\"dataframe\">\n",
       "  <thead>\n",
       "    <tr style=\"text-align: right;\">\n",
       "      <th></th>\n",
       "      <th>img_name</th>\n",
       "      <th>location</th>\n",
       "      <th>time_of_day</th>\n",
       "      <th>skyCondition</th>\n",
       "      <th>setting</th>\n",
       "    </tr>\n",
       "  </thead>\n",
       "  <tbody>\n",
       "    <tr>\n",
       "      <th>0</th>\n",
       "      <td>a0001-jmac_DSC1459</td>\n",
       "      <td>outdoor</td>\n",
       "      <td>day</td>\n",
       "      <td>sun_sky</td>\n",
       "      <td>nature</td>\n",
       "    </tr>\n",
       "    <tr>\n",
       "      <th>1</th>\n",
       "      <td>a0002-dgw_005</td>\n",
       "      <td>indoor</td>\n",
       "      <td>day</td>\n",
       "      <td>mixed</td>\n",
       "      <td>people</td>\n",
       "    </tr>\n",
       "    <tr>\n",
       "      <th>2</th>\n",
       "      <td>a0003-NKIM_MG_8178</td>\n",
       "      <td>outdoor</td>\n",
       "      <td>day</td>\n",
       "      <td>sun_sky</td>\n",
       "      <td>man_made</td>\n",
       "    </tr>\n",
       "    <tr>\n",
       "      <th>3</th>\n",
       "      <td>a0004-jmac_MG_1384</td>\n",
       "      <td>outdoor</td>\n",
       "      <td>day</td>\n",
       "      <td>sun_sky</td>\n",
       "      <td>nature</td>\n",
       "    </tr>\n",
       "    <tr>\n",
       "      <th>4</th>\n",
       "      <td>a0005-jn_2007_05_10__564</td>\n",
       "      <td>outdoor</td>\n",
       "      <td>day</td>\n",
       "      <td>sun_sky</td>\n",
       "      <td>man_made</td>\n",
       "    </tr>\n",
       "  </tbody>\n",
       "</table>\n",
       "</div>"
      ]
     },
     "execution_count": 135,
     "metadata": {},
     "output_type": "execute_result"
    }
   ],
   "execution_count": 135
  },
  {
   "metadata": {
    "ExecuteTime": {
     "end_time": "2025-08-26T13:09:40.110998Z",
     "start_time": "2025-08-26T13:09:40.104648Z"
    }
   },
   "cell_type": "code",
   "source": "df = df.drop(columns=['location','time_of_day','skyCondition']) # Drop other columns, we will use 'setting' as the target variable, input will be the image.",
   "id": "5c0246ba26df9fa6",
   "outputs": [],
   "execution_count": 136
  },
  {
   "metadata": {
    "ExecuteTime": {
     "end_time": "2025-08-26T13:09:40.133992Z",
     "start_time": "2025-08-26T13:09:40.125893Z"
    }
   },
   "cell_type": "code",
   "source": [
    "df = pd.get_dummies(df, columns=['setting'], dtype='int')\n",
    "df.columns"
   ],
   "id": "e6588d463b667783",
   "outputs": [
    {
     "data": {
      "text/plain": [
       "Index(['img_name', 'setting_abstract', 'setting_animals', 'setting_man_made',\n",
       "       'setting_nature', 'setting_people'],\n",
       "      dtype='object')"
      ]
     },
     "execution_count": 137,
     "metadata": {},
     "output_type": "execute_result"
    }
   ],
   "execution_count": 137
  },
  {
   "metadata": {
    "ExecuteTime": {
     "end_time": "2025-08-26T13:09:40.152439Z",
     "start_time": "2025-08-26T13:09:40.149107Z"
    }
   },
   "cell_type": "code",
   "source": [
    "df.drop('setting_abstract', axis=1, inplace=True)\n",
    "df.head()"
   ],
   "id": "f110d23a0295ed37",
   "outputs": [
    {
     "data": {
      "text/plain": [
       "                   img_name  setting_animals  setting_man_made  \\\n",
       "0        a0001-jmac_DSC1459                0                 0   \n",
       "1             a0002-dgw_005                0                 0   \n",
       "2        a0003-NKIM_MG_8178                0                 1   \n",
       "3        a0004-jmac_MG_1384                0                 0   \n",
       "4  a0005-jn_2007_05_10__564                0                 1   \n",
       "\n",
       "   setting_nature  setting_people  \n",
       "0               1               0  \n",
       "1               0               1  \n",
       "2               0               0  \n",
       "3               1               0  \n",
       "4               0               0  "
      ],
      "text/html": [
       "<div>\n",
       "<style scoped>\n",
       "    .dataframe tbody tr th:only-of-type {\n",
       "        vertical-align: middle;\n",
       "    }\n",
       "\n",
       "    .dataframe tbody tr th {\n",
       "        vertical-align: top;\n",
       "    }\n",
       "\n",
       "    .dataframe thead th {\n",
       "        text-align: right;\n",
       "    }\n",
       "</style>\n",
       "<table border=\"1\" class=\"dataframe\">\n",
       "  <thead>\n",
       "    <tr style=\"text-align: right;\">\n",
       "      <th></th>\n",
       "      <th>img_name</th>\n",
       "      <th>setting_animals</th>\n",
       "      <th>setting_man_made</th>\n",
       "      <th>setting_nature</th>\n",
       "      <th>setting_people</th>\n",
       "    </tr>\n",
       "  </thead>\n",
       "  <tbody>\n",
       "    <tr>\n",
       "      <th>0</th>\n",
       "      <td>a0001-jmac_DSC1459</td>\n",
       "      <td>0</td>\n",
       "      <td>0</td>\n",
       "      <td>1</td>\n",
       "      <td>0</td>\n",
       "    </tr>\n",
       "    <tr>\n",
       "      <th>1</th>\n",
       "      <td>a0002-dgw_005</td>\n",
       "      <td>0</td>\n",
       "      <td>0</td>\n",
       "      <td>0</td>\n",
       "      <td>1</td>\n",
       "    </tr>\n",
       "    <tr>\n",
       "      <th>2</th>\n",
       "      <td>a0003-NKIM_MG_8178</td>\n",
       "      <td>0</td>\n",
       "      <td>1</td>\n",
       "      <td>0</td>\n",
       "      <td>0</td>\n",
       "    </tr>\n",
       "    <tr>\n",
       "      <th>3</th>\n",
       "      <td>a0004-jmac_MG_1384</td>\n",
       "      <td>0</td>\n",
       "      <td>0</td>\n",
       "      <td>1</td>\n",
       "      <td>0</td>\n",
       "    </tr>\n",
       "    <tr>\n",
       "      <th>4</th>\n",
       "      <td>a0005-jn_2007_05_10__564</td>\n",
       "      <td>0</td>\n",
       "      <td>1</td>\n",
       "      <td>0</td>\n",
       "      <td>0</td>\n",
       "    </tr>\n",
       "  </tbody>\n",
       "</table>\n",
       "</div>"
      ]
     },
     "execution_count": 138,
     "metadata": {},
     "output_type": "execute_result"
    }
   ],
   "execution_count": 138
  },
  {
   "metadata": {
    "ExecuteTime": {
     "end_time": "2025-08-26T13:09:40.185205Z",
     "start_time": "2025-08-26T13:09:40.183382Z"
    }
   },
   "cell_type": "code",
   "source": "device = torch.device(\"mps\")",
   "id": "a5caf714b9f0e9d6",
   "outputs": [],
   "execution_count": 139
  },
  {
   "metadata": {
    "ExecuteTime": {
     "end_time": "2025-08-26T13:09:40.228298Z",
     "start_time": "2025-08-26T13:09:40.224535Z"
    }
   },
   "cell_type": "code",
   "source": [
    "from torchvision.io import decode_image\n",
    "from torchvision.io import ImageReadMode\n",
    "\n",
    "\n",
    "class ImageDataset(Dataset):\n",
    "    def __init__(self, data, img_dir, transform=None):\n",
    "        self.data = data\n",
    "        self.transform = transform\n",
    "        self.img_dir = img_dir\n",
    "        self.bounds = []\n",
    "\n",
    "        if not self.img_dir:\n",
    "            raise ValueError(f\"No images found in directory: {img_dir}\")\n",
    "\n",
    "    def __len__(self):\n",
    "        return len(self.data)\n",
    "\n",
    "    def __getitem__(self, idx):\n",
    "        row = self.data.iloc[idx]\n",
    "        img_name = row['img_name']  # Assuming the first column is 'img_name'\n",
    "        #Get the label tensor from the row, excluding the first column (img_name)\n",
    "        label = torch.tensor(row[1:], dtype=torch.long)  # Convert the labels to tensor (excluding img_name, which is the input image name)\n",
    "\n",
    "        img_path = os.path.join(self.img_dir, img_name) + \".jpg\" # Full path to the image file\n",
    "        image = decode_image(img_path, mode=ImageReadMode.RGB) #outputs tensor of shape (C, H, W) where C is the number of channels, H is the height and W is the width\n",
    "\n",
    "        if self.transform:\n",
    "            image = self.transform(image)\n",
    "\n",
    "        return image, label # Exclude the first column (img_name) from the label tensor"
   ],
   "id": "f32383b53f45865b",
   "outputs": [],
   "execution_count": 140
  },
  {
   "metadata": {
    "ExecuteTime": {
     "end_time": "2025-08-26T13:09:40.236255Z",
     "start_time": "2025-08-26T13:09:40.231585Z"
    }
   },
   "cell_type": "code",
   "source": [
    "# Transformations for the dataset\n",
    "\n",
    "# These are the standard transformations for the dataset, we will use these for training, testing, and validation\n",
    "val_test_standard_transforms = transforms.Compose([\n",
    "    transforms.ToPILImage(), # Convert numpy array to PIL Image\n",
    "    transforms.Resize((512, 512)), # Resize the image to 512x512 for consistency and to match the model input size\n",
    "    transforms.ToTensor(), # Convert PIL Image to tensor\n",
    "    transforms.Normalize(mean=[0.485, 0.456, 0.406], std=[0.229, 0.224, 0.225])\n",
    "])\n"
   ],
   "id": "ee7feb3339d96133",
   "outputs": [
    {
     "name": "stderr",
     "output_type": "stream",
     "text": [
      "/opt/anaconda3/envs/fivekClassiferModelV2UpdatedPy/lib/python3.12/site-packages/torchvision/transforms/v2/_deprecated.py:42: UserWarning: The transform `ToTensor()` is deprecated and will be removed in a future release. Instead, please use `v2.Compose([v2.ToImage(), v2.ToDtype(torch.float32, scale=True)])`.Output is equivalent up to float precision.\n",
      "  warnings.warn(\n"
     ]
    }
   ],
   "execution_count": 141
  },
  {
   "metadata": {
    "ExecuteTime": {
     "end_time": "2025-08-26T13:09:40.275984Z",
     "start_time": "2025-08-26T13:09:40.271636Z"
    }
   },
   "cell_type": "code",
   "source": [
    "#Doing data augmentation for training set to get more data and prevent overfitting\n",
    "#These are applied to the training set only, not the validation or test set\n",
    "#They are applied dynamically during training, so sample images will be different each time, effectively increasing the size of the training set\n",
    "\n",
    "\n",
    "#Training transformations with data augmentation\n",
    "training_augmentation_transforms = transforms.Compose([\n",
    "    #Standard transformations for the dataset, we will still use these for training (rest below)\n",
    "    transforms.ToPILImage(), # Convert numpy array to PIL Image\n",
    "    #Data augmentation transformations for training\n",
    "    # p= probability of applying the transformation, 0.2 means 20% chance of applying the transformation\n",
    "    transforms.RandomHorizontalFlip(p=0.2), # Randomly flip the image horizontally\n",
    "    transforms.RandomVerticalFlip(p=0.2), # Randomly flip the image vertically\n",
    "\n",
    "    #RandomApply makes any transformation randomly applied with a probability p, so we can apply the same transformation with a probability of 0.2\n",
    "\n",
    "    #30% chance of:\n",
    "    transforms.RandomApply(\n",
    "        [\n",
    "            transforms.RandomCrop(size=430, pad_if_needed=True)\n",
    "        ], # Randomly crop the image to 430 in random locations, pad if needed to maintain the size for input to the model (82 pixels on each side, so 82+430+82=512)\n",
    "        p=0.2),\n",
    "\n",
    "    transforms.RandomAdjustSharpness(sharpness_factor=2,p=0.2), # Randomly adjust the sharpness of the image\n",
    "    transforms.RandomAdjustSharpness(sharpness_factor=0.5,p=0.2), # Randomly adjust the sharpness of the image\n",
    "\n",
    "\n",
    "    transforms.RandomGrayscale(p=0.2), # Randomly convert the image to grayscale with a probability of 0.1\n",
    "    #The rest of the standard transformations\n",
    "\n",
    "    transforms.Resize((512, 512)), # Resize the image to 512x512 for consistency and to match the model input size\n",
    "    transforms.ToTensor(), # Convert PIL Image to tensor\n",
    "    transforms.Normalize(mean=[0.485, 0.456, 0.406], std=[0.229, 0.224, 0.225])\n",
    "\n",
    "])"
   ],
   "id": "3a5a34f8248b93d5",
   "outputs": [
    {
     "name": "stderr",
     "output_type": "stream",
     "text": [
      "/opt/anaconda3/envs/fivekClassiferModelV2UpdatedPy/lib/python3.12/site-packages/torchvision/transforms/v2/_deprecated.py:42: UserWarning: The transform `ToTensor()` is deprecated and will be removed in a future release. Instead, please use `v2.Compose([v2.ToImage(), v2.ToDtype(torch.float32, scale=True)])`.Output is equivalent up to float precision.\n",
      "  warnings.warn(\n"
     ]
    }
   ],
   "execution_count": 142
  },
  {
   "metadata": {},
   "cell_type": "markdown",
   "source": "Add data augmentation depending on overfitting",
   "id": "3b150e850fb2e7f2"
  },
  {
   "metadata": {
    "ExecuteTime": {
     "end_time": "2025-08-26T13:09:40.301339Z",
     "start_time": "2025-08-26T13:09:40.287267Z"
    }
   },
   "cell_type": "code",
   "source": [
    "from sklearn.model_selection import train_test_split\n",
    "# Split the dataset into training, validation, and test sets\n",
    "train_df, test_df = train_test_split(df, test_size=0.3, random_state=42) # 70% training, 30% test\n",
    "val_df, test_df = train_test_split(test_df, test_size=0.5, random_state=42)  # Split the test set into validation and test sets\n",
    "#This gives us 70% training, 15% validation, and 15% test sets"
   ],
   "id": "f8638191165f0add",
   "outputs": [],
   "execution_count": 143
  },
  {
   "metadata": {
    "ExecuteTime": {
     "end_time": "2025-08-26T13:09:40.310557Z",
     "start_time": "2025-08-26T13:09:40.308762Z"
    }
   },
   "cell_type": "code",
   "source": [
    "train_dataset = ImageDataset(train_df, img_dir='../raw_images_organised', transform=training_augmentation_transforms)  # Create the training dataset with data augmentation\n",
    "test_dataset = ImageDataset(test_df, img_dir='../raw_images_organised', transform=val_test_standard_transforms)  # Create the test dataset with standard transformations\n",
    "val_dataset = ImageDataset(val_df, img_dir='../raw_images_organised', transform=val_test_standard_transforms)  # Create the validation dataset with standard transformations"
   ],
   "id": "c2692d035c080f72",
   "outputs": [],
   "execution_count": 144
  },
  {
   "metadata": {
    "ExecuteTime": {
     "end_time": "2025-08-26T13:09:40.319856Z",
     "start_time": "2025-08-26T13:09:40.318227Z"
    }
   },
   "cell_type": "code",
   "source": [
    "print(train_dataset.transform)\n",
    "print(test_dataset.transform)\n",
    "print(val_dataset.transform)"
   ],
   "id": "72f9a75df2d1d621",
   "outputs": [
    {
     "name": "stdout",
     "output_type": "stream",
     "text": [
      "Compose(\n",
      "      ToPILImage()\n",
      "      RandomHorizontalFlip(p=0.2)\n",
      "      RandomVerticalFlip(p=0.2)\n",
      "      RandomApply(    RandomCrop(size=(430, 430), pad_if_needed=True, fill=0, padding_mode=constant))\n",
      "      RandomAdjustSharpness(p=0.2, sharpness_factor=2)\n",
      "      RandomAdjustSharpness(p=0.2, sharpness_factor=0.5)\n",
      "      RandomGrayscale(p=0.2)\n",
      "      Resize(size=[512, 512], interpolation=InterpolationMode.BILINEAR, antialias=True)\n",
      "      ToTensor()\n",
      "      Normalize(mean=[0.485, 0.456, 0.406], std=[0.229, 0.224, 0.225], inplace=False)\n",
      ")\n",
      "Compose(\n",
      "      ToPILImage()\n",
      "      Resize(size=[512, 512], interpolation=InterpolationMode.BILINEAR, antialias=True)\n",
      "      ToTensor()\n",
      "      Normalize(mean=[0.485, 0.456, 0.406], std=[0.229, 0.224, 0.225], inplace=False)\n",
      ")\n",
      "Compose(\n",
      "      ToPILImage()\n",
      "      Resize(size=[512, 512], interpolation=InterpolationMode.BILINEAR, antialias=True)\n",
      "      ToTensor()\n",
      "      Normalize(mean=[0.485, 0.456, 0.406], std=[0.229, 0.224, 0.225], inplace=False)\n",
      ")\n"
     ]
    }
   ],
   "execution_count": 145
  },
  {
   "metadata": {
    "ExecuteTime": {
     "end_time": "2025-08-26T13:09:40.340284Z",
     "start_time": "2025-08-26T13:09:40.334829Z"
    }
   },
   "cell_type": "code",
   "source": [
    "#Data loaders\n",
    "train_loader = DataLoader(train_dataset, batch_size=16, shuffle=True)\n",
    "val_loader = DataLoader(val_dataset, batch_size=16, shuffle=False)\n",
    "test_loader = DataLoader(test_dataset, batch_size=16, shuffle=False)"
   ],
   "id": "fdaf298355918112",
   "outputs": [],
   "execution_count": 146
  },
  {
   "metadata": {
    "ExecuteTime": {
     "end_time": "2025-08-26T13:09:40.424483Z",
     "start_time": "2025-08-26T13:09:40.343425Z"
    }
   },
   "cell_type": "code",
   "source": [
    "train_images, train_labels = next(iter(train_loader))\n",
    "print(train_images.shape, train_labels.shape)"
   ],
   "id": "ffbbfc1328e271b4",
   "outputs": [
    {
     "name": "stdout",
     "output_type": "stream",
     "text": [
      "torch.Size([16, 3, 512, 512]) torch.Size([16, 4])\n"
     ]
    }
   ],
   "execution_count": 147
  },
  {
   "metadata": {
    "ExecuteTime": {
     "end_time": "2025-08-26T13:09:40.613714Z",
     "start_time": "2025-08-26T13:09:40.432488Z"
    }
   },
   "cell_type": "code",
   "source": [
    "from torchvision.utils import make_grid\n",
    "\n",
    "def imshow(img):\n",
    "    img = img / 2 + 0.5     # unnormalize\n",
    "    npimg = img.numpy()\n",
    "    plt.imshow(np.transpose(npimg, (1, 2, 0)))\n",
    "    plt.show()\n",
    "\n",
    "print(train_images.dtype)  # Check the shape of the images tensor\n",
    "print(train_labels.dtype)  # Check the shape of the labels tensor\n",
    "\n",
    "imshow(make_grid(train_images))"
   ],
   "id": "1be85bd5d10fbc3f",
   "outputs": [
    {
     "name": "stdout",
     "output_type": "stream",
     "text": [
      "torch.float32\n",
      "torch.int64\n"
     ]
    },
    {
     "name": "stderr",
     "output_type": "stream",
     "text": [
      "Clipping input data to the valid range for imshow with RGB data ([0..1] for floats or [0..255] for integers). Got range [-0.558952..1.82].\n"
     ]
    },
    {
     "data": {
      "text/plain": [
       "<Figure size 640x480 with 1 Axes>"
      ],
      "image/png": "[encoded data removed]"
     },
     "metadata": {},
     "output_type": "display_data"
    }
   ],
   "execution_count": 148
  },
  {
   "metadata": {},
   "cell_type": "markdown",
   "source": "Look at flosst code for data augmentation and transforms",
   "id": "fd6f5ee73f222b4a"
  },
  {
   "metadata": {
    "ExecuteTime": {
     "end_time": "2025-08-26T13:09:40.624637Z",
     "start_time": "2025-08-26T13:09:40.622605Z"
    }
   },
   "cell_type": "code",
   "source": [
    "#n_samples / (n_classes * np.bincount(y))\n",
    "\n",
    "#Build my own class weight function\n",
    "\n",
    "def class_weights(data: DataFrame):\n",
    "    weights = []\n",
    "    for col in data.columns[1:]:  # Skip the first column (img_name)\n",
    "        classes = data[col].unique()\n",
    "        total_samples = len(data[col])\n",
    "        class_weight = total_samples / (len(classes) * data[col].value_counts())\n",
    "        weights.append(class_weight[1]) # Assuming the positive class is the second one (1)\n",
    "    class_weights = torch.tensor(weights, dtype=torch.float32)\n",
    "\n",
    "    return class_weights"
   ],
   "id": "6fdeb68738f1c1fc",
   "outputs": [],
   "execution_count": 149
  },
  {
   "metadata": {
    "ExecuteTime": {
     "end_time": "2025-08-26T13:09:40.642440Z",
     "start_time": "2025-08-26T13:09:40.638467Z"
    }
   },
   "cell_type": "code",
   "source": [
    "weights = class_weights(df)\n",
    "print(weights)"
   ],
   "id": "e66a95a72e8fe394",
   "outputs": [
    {
     "name": "stdout",
     "output_type": "stream",
     "text": [
      "tensor([8.3333, 1.3376, 2.2957, 1.8643])\n"
     ]
    }
   ],
   "execution_count": 150
  },
  {
   "metadata": {
    "ExecuteTime": {
     "end_time": "2025-08-26T13:09:42.819745Z",
     "start_time": "2025-08-26T13:09:40.645113Z"
    }
   },
   "cell_type": "code",
   "source": [
    "#Applyimg multiclass classification loss function\n",
    "criterion = nn.CrossEntropyLoss(weight=weights).to(device) #Contains softmax and negative log likelihood loss"
   ],
   "id": "12f3b5f581e25efe",
   "outputs": [],
   "execution_count": 151
  },
  {
   "metadata": {},
   "cell_type": "markdown",
   "source": "Look at notes from paper about suggested depth and width of the model https://arxiv.org/pdf/1512.03385",
   "id": "8b2b17ccfd508a56"
  },
  {
   "metadata": {
    "ExecuteTime": {
     "end_time": "2025-08-26T13:09:42.833418Z",
     "start_time": "2025-08-26T13:09:42.829402Z"
    }
   },
   "cell_type": "code",
   "source": [
    "#https://arxiv.org/pdf/1512.03385\n",
    "#Decided to copy what paper is doing with kernal sizes etc\n",
    "class Model(nn.Module):\n",
    "    def __init__(self):\n",
    "        super(Model, self).__init__()\n",
    "        self.dropout = nn.Dropout(0.2)\n",
    "        self.max_pool = nn.MaxPool2d(2, 2)\n",
    "        self.conv1 = nn.Conv2d(3, 32, kernel_size=5, stride=1, padding=2) # Input channels = 3 (RGB), output channels = 32, kernel size = 5x5, stride = 1, padding = 2 (to keep the spatial dimensions the same)\n",
    "\n",
    "        self.bn1 = nn.BatchNorm2d(32)\n",
    "        self.conv2 = nn.Conv2d(32, 32, kernel_size=3, stride=1)\n",
    "        self.bn2 = nn.BatchNorm2d(32)\n",
    "        self.conv3 = nn.Conv2d(32, 32, kernel_size=3, stride=1)\n",
    "        self.bn3 = nn.BatchNorm2d(32)\n",
    "        self.conv4 = nn.Conv2d(32, 64, kernel_size=3, stride=1)\n",
    "        self.bn4 = nn.BatchNorm2d(64)\n",
    "        self.conv5 = nn.Conv2d(64, 64, kernel_size=3, stride=1)\n",
    "        #Channels are the amount of filters applied to our spatial data, giving depth to our feature map\n",
    "        #The spatial data will shrink because of 'edge issue' with CNN look at notes for more details\n",
    "        self.bn5 = nn.BatchNorm2d(64)\n",
    "\n",
    "        self.avg_global_pool = nn.AdaptiveAvgPool2d(1) # Global average pooling converts our (batch size, num_channels, height width) spatial dimensions into the average per channel across the height and width of the image.\n",
    "        #This makes our shape (batch_size, num_channels, 1,1) containing just the average per each channel across the image (height and width)\n",
    "        #for us its (batch_size, 64, 1,1)\n",
    "        #once flattened this becomes (batch_size, 64 (channels))\n",
    "        #This avoids us needing a fully connected layer with loads of parameters to deal with the large spatial dimensions\n",
    "\n",
    "\n",
    "        self.fc1 = nn.Linear(64, len(df.columns) - 1) #Classification layer (new)\n",
    "        # self.fc1 = nn.Linear(256 * 114 * 114, out_features=len(df.columns) - 1) #Classification layer\n",
    "\n",
    "    def forward(self, x):\n",
    "        # Input x is of shape (batch_size, 3, 512, 512)\n",
    "        x = self.conv1(x)\n",
    "        x = self.bn1(x)\n",
    "        #this function()(x) means, create a new instance of the function and apply it to x\n",
    "        x = nn.ReLU()(x)  # Activation function, done to break the linearity of the model after each convolutional layer\n",
    "\n",
    "        #spatial dimensions: 512\n",
    "\n",
    "        x = self.conv2(x)\n",
    "        x = self.bn2(x)\n",
    "        x = nn.ReLU()(x)  # Activation function\n",
    "        x = self.dropout(x)\n",
    "\n",
    "        #spatial dimensions: 512\n",
    "\n",
    "        x = self.conv3(x)\n",
    "        x = self.bn3(x)\n",
    "        x = nn.ReLU()(x)  # Activation function\n",
    "\n",
    "        #spatial dimensions: 512\n",
    "\n",
    "        x = self.max_pool(x)  # Max pooling layer, reduces the spatial dimensions by half, you should only pool after a few convolutional layers to reduce the spatial dimensions and retain the features\n",
    "\n",
    "        # 512 / 2 = 256\n",
    "\n",
    "        x = self.conv4(x)\n",
    "        x = self.bn4(x)\n",
    "        x = nn.ReLU()(x)  # Activation function\n",
    "        x = self.dropout(x)\n",
    "\n",
    "        #spatial dimensions: 256\n",
    "\n",
    "        x = self.conv5(x)\n",
    "        x = self.bn5(x)\n",
    "        x = nn.ReLU()(x)  # Activation function\n",
    "\n",
    "        #spatial dimensions: 253\n",
    "\n",
    "        x = self.avg_global_pool(x) # Global average pooling, reduces the spatial dimensions to (batch_size, num_channels, 1, 1) by averaging the height and width dimensions per channel\n",
    "        x = torch.flatten(x, 1)  # Flatten the output to shape (batch_size, num_channels)\n",
    "\n",
    "        x = self.fc1(x)  # Fully connected layer for classification\n",
    "\n",
    "        return x\n",
    "\n",
    "    def train_epoch(self, train_loader, loss_values, epoch):\n",
    "            running_loss = 0.0\n",
    "            total_train_data = len(train_loader)\n",
    "            for i, data in enumerate(train_loader):# Start counting from 0, enumerate give us a counter as well as the data\n",
    "                # Every data instance is an input + label pair\n",
    "                inputs, labels = data\n",
    "                #Has to be .float for CrossEntropyLoss\n",
    "                inputs, labels = inputs.to(device), labels.to(device).float() # Move inputs and labels to the same device as the model (apple silicon chip, cuda, or cpu)\n",
    "\n",
    "                optimizer.zero_grad() # Zero your gradients for every batch!\n",
    "\n",
    "                outputs = self(inputs) # Make predictions for this batch (forward pass)\n",
    "\n",
    "                loss = criterion(outputs, labels) # Compute the loss and its gradients\n",
    "                loss.backward()  # Backward pass\n",
    "\n",
    "                optimizer.step() # Adjust learning weights\n",
    "                running_loss += loss.item() # running_loss is the total loss for the epoch, we will average it later\n",
    "\n",
    "            avg_loss = running_loss / total_train_data # Average loss for the epoch (over the all batches in the training set, given by len(train_loader))\n",
    "\n",
    "            print(f\"Epoch {epoch+1}, Loss: {avg_loss:.4f}\")  # Print the average loss for this epoch\n",
    "            loss_values.append(avg_loss) #log the average loss for the epoch to the loss_values list\n",
    "            return avg_loss, loss_values"
   ],
   "id": "1b780f83b3be4c41",
   "outputs": [],
   "execution_count": 152
  },
  {
   "metadata": {},
   "cell_type": "markdown",
   "source": "Look at flosst code and docs for the rest of the code (training loop etc)",
   "id": "4d2d34d670a89f7e"
  },
  {
   "metadata": {
    "ExecuteTime": {
     "end_time": "2025-08-26T13:09:42.848950Z",
     "start_time": "2025-08-26T13:09:42.841625Z"
    }
   },
   "cell_type": "code",
   "source": "optimizer = torch.optim.Adam(Model().parameters(), lr=1e-3, weight_decay=1e-6)",
   "id": "bcba604e0f6ce68c",
   "outputs": [],
   "execution_count": 153
  },
  {
   "metadata": {
    "ExecuteTime": {
     "end_time": "2025-08-26T13:09:42.858733Z",
     "start_time": "2025-08-26T13:09:42.856557Z"
    }
   },
   "cell_type": "code",
   "source": [
    "recent_train_losses = []  # List to keep track of recent training losses for early stopping\n",
    "previous_train_losses = []\n",
    "\n",
    "#This was broken - made a change idk now\n",
    "def early_stopping(avg_loss,patience=5):\n",
    "\n",
    "    if len(recent_train_losses) < patience:\n",
    "        recent_train_losses.append(avg_loss)  # Add the current average loss to the recent losses\n",
    "\n",
    "    if len(previous_train_losses) < patience:\n",
    "        previous_train_losses.append(recent_train_losses[0])\n",
    "        recent_train_losses.pop(0)\n",
    "\n",
    "    if len(recent_train_losses) == patience and len(previous_train_losses) == patience:\n",
    "        avg_of_previous_losses = np.mean(previous_train_losses)\n",
    "        avg_of_recent_previous_losses = np.mean(recent_train_losses)\n",
    "        if avg_of_previous_losses < avg_of_recent_previous_losses:\n",
    "            print(f\"Early stopping condition met: {avg_of_previous_losses} < {avg_of_recent_previous_losses}\")\n",
    "            return True, recent_train_losses, previous_train_losses  # Early stopping condition met\n",
    "\n",
    "        print(f\"Early stopping condition not met: {avg_of_previous_losses} >= {avg_of_recent_previous_losses}\")\n",
    "        previous_train_losses.append(recent_train_losses[0])  #Add oldest recent loss to previous losses\n",
    "        recent_train_losses.pop(0)  # Remove the oldest loss to maintain the size of the list\n",
    "\n",
    "    return False, recent_train_losses, previous_train_losses  # No early stopping condition met\n"
   ],
   "id": "8ae986d0d5172ab8",
   "outputs": [],
   "execution_count": 154
  },
  {
   "metadata": {
    "ExecuteTime": {
     "end_time": "2025-08-26T13:09:42.883191Z",
     "start_time": "2025-08-26T13:09:42.872568Z"
    }
   },
   "cell_type": "code",
   "source": "model = Model().to(device)  # Initialize the model and move it to the device (GPU or CPU)",
   "id": "832efc128e5deeed",
   "outputs": [],
   "execution_count": 155
  },
  {
   "metadata": {
    "ExecuteTime": {
     "end_time": "2025-08-26T13:11:55.433506Z",
     "start_time": "2025-08-26T13:09:42.886576Z"
    }
   },
   "cell_type": "code",
   "source": [
    "from datetime import datetime\n",
    "from torch.utils.tensorboard import SummaryWriter\n",
    "\n",
    "#There's a bunch of tensorboard stuff in the pytorch tutorial, we don't need it for now, but we can add it later if we want to visualize the training process\n",
    "# Initializing in a separate cell so we can easily add more epochs to the same run\n",
    "timestamp = datetime.now().strftime('%Y%m%d_%H%M%S')\n",
    "writer = SummaryWriter('runs/classifier_trainer{}'.format(timestamp))\n",
    "\n",
    "EPOCHS = 10\n",
    "\n",
    "best_vloss = 1_000_000. #Super big number to start with, so we can save the model if the validation loss is lower than this\n",
    "\n",
    "# Initialize lists to keep track of loss values for plotting later\n",
    "loss_values = []\n",
    "val_loss_values = []\n",
    "\n",
    "\n",
    "total_val_data = len(val_loader)\n",
    "for epoch in range(EPOCHS):\n",
    "    print('EPOCH {}:'.format(epoch + 1)) # Start counting epochs from 1 for better readability\n",
    "\n",
    "    # Make sure gradient tracking is on, and do a pass over the data, so we are not in evaluation mode.\n",
    "    model.train(True)\n",
    "\n",
    "    #Actually train the model, this is where the training happens\n",
    "    #Keep track of loss values for plotting later, keep giving the loss_values array to the train_one_epoch function so that it keeps track of the loss values\n",
    "    avg_loss, loss_values = model.train_epoch(train_loader, loss_values,epoch)\n",
    "\n",
    "    early_stop,recent_train_losses, previous_train_losses = early_stopping(avg_loss,patience=5)  # Check if early stopping condition is met\n",
    "\n",
    "    running_vloss = 0.0\n",
    "    # Set the model to evaluation mode, disabling dropout and using population\n",
    "    # statistics for batch normalization.\n",
    "    model.eval()\n",
    "\n",
    "    #This is the validation loop, it will run after each epoch and compute the validation loss\n",
    "    # Disable gradient computation and reduce memory consumption.\n",
    "    with torch.no_grad():\n",
    "        for i, vdata in enumerate(val_loader, 0): #Computes the validation loss per epoch\n",
    "            vinputs, vlabels = vdata\n",
    "            vinputs, vlabels = vinputs.to(device), vlabels.to(device).float()  # Move inputs and labels to the same device as the model\n",
    "            voutputs = model(vinputs)\n",
    "            vloss = criterion(voutputs, vlabels)\n",
    "            #running vloss is the total validation loss for the epoch, we will average it later\n",
    "            running_vloss += vloss.item()  # Add the validation loss for this batch to the running validation loss\n",
    "\n",
    "    # Average validation loss for the epoch (over the all batches in the validation set, given by len(val_loader))\n",
    "    avg_vloss = running_vloss / total_val_data\n",
    "    val_loss_values.append(avg_vloss)\n",
    "\n",
    "    #Gives the loss and validation loss for the epoch into the terminal\n",
    "    print('LOSS train {} valid {}'.format(avg_loss, avg_vloss))\n",
    "\n",
    "    # for both training and validation w]e log the average loss for the epoch\n",
    "    writer.add_scalars('Training vs. Validation Loss',\n",
    "                       { 'Training' : avg_loss, 'Validation' : avg_vloss },\n",
    "                       epoch + 1)\n",
    "    writer.flush()\n",
    "\n",
    "    #Track best performance, and save the model's state\n",
    "    if avg_vloss < best_vloss: #If the validation loss is lower than the best validation loss so far, save the model\n",
    "\n",
    "        #Best vloss starts at a super high number, so the first model will always be saved\n",
    "        best_vloss = avg_vloss\n",
    "        model_path = 'model_{}_{}'.format(timestamp, epoch + 1) # Save the model with a timestamp and epoch number (epoch + 1 to start from 1)\n",
    "        torch.save(model.state_dict(), model_path)\n",
    "\n",
    "    if early_stop:  # Check if early stopping condition is met\n",
    "        print(\"Early stopping triggered, stopping training.\")\n",
    "        break  # Stop training if early stopping condition is met\n",
    "\n",
    "    #Onto the next epoch, which will also run through all the batches in the training set and validation set and give the average los s for the epoch"
   ],
   "id": "bebaae3895242c9f",
   "outputs": [
    {
     "name": "stdout",
     "output_type": "stream",
     "text": [
      "EPOCH 1:\n",
      "Epoch 1, Loss: 2.7922\n",
      "LOSS train 2.7921703525874166 valid 2.70286544333113\n",
      "EPOCH 2:\n"
     ]
    },
    {
     "ename": "RuntimeError",
     "evalue": "unable to open file <raw_images_organised/a2599-jmac_MG_0414.jpg> in read-only mode: Interrupted system call (4)",
     "output_type": "error",
     "traceback": [
      "\u001B[31m---------------------------------------------------------------------------\u001B[39m",
      "\u001B[31mRuntimeError\u001B[39m                              Traceback (most recent call last)",
      "\u001B[36mCell\u001B[39m\u001B[36m \u001B[39m\u001B[32mIn[156]\u001B[39m\u001B[32m, line 27\u001B[39m\n\u001B[32m     23\u001B[39m model.train(\u001B[38;5;28;01mTrue\u001B[39;00m)\n\u001B[32m     25\u001B[39m \u001B[38;5;66;03m#Actually train the model, this is where the training happens\u001B[39;00m\n\u001B[32m     26\u001B[39m \u001B[38;5;66;03m#Keep track of loss values for plotting later, keep giving the loss_values array to the train_one_epoch function so that it keeps track of the loss values\u001B[39;00m\n\u001B[32m---> \u001B[39m\u001B[32m27\u001B[39m avg_loss, loss_values = model.train_epoch(train_loader, loss_values,epoch)\n\u001B[32m     29\u001B[39m early_stop,recent_train_losses, previous_train_losses = early_stopping(avg_loss,patience=\u001B[32m5\u001B[39m)  \u001B[38;5;66;03m# Check if early stopping condition is met\u001B[39;00m\n\u001B[32m     31\u001B[39m running_vloss = \u001B[32m0.0\u001B[39m\n",
      "\u001B[36mCell\u001B[39m\u001B[36m \u001B[39m\u001B[32mIn[152]\u001B[39m\u001B[32m, line 81\u001B[39m, in \u001B[36mModel.train_epoch\u001B[39m\u001B[34m(self, train_loader, loss_values, epoch)\u001B[39m\n\u001B[32m     79\u001B[39m running_loss = \u001B[32m0.0\u001B[39m\n\u001B[32m     80\u001B[39m total_train_data = \u001B[38;5;28mlen\u001B[39m(train_loader)\n\u001B[32m---> \u001B[39m\u001B[32m81\u001B[39m \u001B[38;5;28;01mfor\u001B[39;00m i, data \u001B[38;5;129;01min\u001B[39;00m \u001B[38;5;28menumerate\u001B[39m(train_loader):\u001B[38;5;66;03m# Start counting from 0, enumerate give us a counter as well as the data\u001B[39;00m\n\u001B[32m     82\u001B[39m     \u001B[38;5;66;03m# Every data instance is an input + label pair\u001B[39;00m\n\u001B[32m     83\u001B[39m     inputs, labels = data\n\u001B[32m     84\u001B[39m     \u001B[38;5;66;03m#Has to be .float for CrossEntropyLoss\u001B[39;00m\n",
      "\u001B[36mFile \u001B[39m\u001B[32m/opt/anaconda3/envs/fivekClassiferModelV2UpdatedPy/lib/python3.12/site-packages/torch/utils/data/dataloader.py:701\u001B[39m, in \u001B[36m_BaseDataLoaderIter.__next__\u001B[39m\u001B[34m(self)\u001B[39m\n\u001B[32m    698\u001B[39m \u001B[38;5;28;01mif\u001B[39;00m \u001B[38;5;28mself\u001B[39m._sampler_iter \u001B[38;5;129;01mis\u001B[39;00m \u001B[38;5;28;01mNone\u001B[39;00m:\n\u001B[32m    699\u001B[39m     \u001B[38;5;66;03m# TODO(https://github.com/pytorch/pytorch/issues/76750)\u001B[39;00m\n\u001B[32m    700\u001B[39m     \u001B[38;5;28mself\u001B[39m._reset()  \u001B[38;5;66;03m# type: ignore[call-arg]\u001B[39;00m\n\u001B[32m--> \u001B[39m\u001B[32m701\u001B[39m data = \u001B[38;5;28mself\u001B[39m._next_data()\n\u001B[32m    702\u001B[39m \u001B[38;5;28mself\u001B[39m._num_yielded += \u001B[32m1\u001B[39m\n\u001B[32m    703\u001B[39m \u001B[38;5;28;01mif\u001B[39;00m (\n\u001B[32m    704\u001B[39m     \u001B[38;5;28mself\u001B[39m._dataset_kind == _DatasetKind.Iterable\n\u001B[32m    705\u001B[39m     \u001B[38;5;129;01mand\u001B[39;00m \u001B[38;5;28mself\u001B[39m._IterableDataset_len_called \u001B[38;5;129;01mis\u001B[39;00m \u001B[38;5;129;01mnot\u001B[39;00m \u001B[38;5;28;01mNone\u001B[39;00m\n\u001B[32m    706\u001B[39m     \u001B[38;5;129;01mand\u001B[39;00m \u001B[38;5;28mself\u001B[39m._num_yielded > \u001B[38;5;28mself\u001B[39m._IterableDataset_len_called\n\u001B[32m    707\u001B[39m ):\n",
      "\u001B[36mFile \u001B[39m\u001B[32m/opt/anaconda3/envs/fivekClassiferModelV2UpdatedPy/lib/python3.12/site-packages/torch/utils/data/dataloader.py:757\u001B[39m, in \u001B[36m_SingleProcessDataLoaderIter._next_data\u001B[39m\u001B[34m(self)\u001B[39m\n\u001B[32m    755\u001B[39m \u001B[38;5;28;01mdef\u001B[39;00m\u001B[38;5;250m \u001B[39m\u001B[34m_next_data\u001B[39m(\u001B[38;5;28mself\u001B[39m):\n\u001B[32m    756\u001B[39m     index = \u001B[38;5;28mself\u001B[39m._next_index()  \u001B[38;5;66;03m# may raise StopIteration\u001B[39;00m\n\u001B[32m--> \u001B[39m\u001B[32m757\u001B[39m     data = \u001B[38;5;28mself\u001B[39m._dataset_fetcher.fetch(index)  \u001B[38;5;66;03m# may raise StopIteration\u001B[39;00m\n\u001B[32m    758\u001B[39m     \u001B[38;5;28;01mif\u001B[39;00m \u001B[38;5;28mself\u001B[39m._pin_memory:\n\u001B[32m    759\u001B[39m         data = _utils.pin_memory.pin_memory(data, \u001B[38;5;28mself\u001B[39m._pin_memory_device)\n",
      "\u001B[36mFile \u001B[39m\u001B[32m/opt/anaconda3/envs/fivekClassiferModelV2UpdatedPy/lib/python3.12/site-packages/torch/utils/data/_utils/fetch.py:52\u001B[39m, in \u001B[36m_MapDatasetFetcher.fetch\u001B[39m\u001B[34m(self, possibly_batched_index)\u001B[39m\n\u001B[32m     50\u001B[39m         data = \u001B[38;5;28mself\u001B[39m.dataset.__getitems__(possibly_batched_index)\n\u001B[32m     51\u001B[39m     \u001B[38;5;28;01melse\u001B[39;00m:\n\u001B[32m---> \u001B[39m\u001B[32m52\u001B[39m         data = [\u001B[38;5;28mself\u001B[39m.dataset[idx] \u001B[38;5;28;01mfor\u001B[39;00m idx \u001B[38;5;129;01min\u001B[39;00m possibly_batched_index]\n\u001B[32m     53\u001B[39m \u001B[38;5;28;01melse\u001B[39;00m:\n\u001B[32m     54\u001B[39m     data = \u001B[38;5;28mself\u001B[39m.dataset[possibly_batched_index]\n",
      "\u001B[36mCell\u001B[39m\u001B[36m \u001B[39m\u001B[32mIn[140]\u001B[39m\u001B[32m, line 25\u001B[39m, in \u001B[36mImageDataset.__getitem__\u001B[39m\u001B[34m(self, idx)\u001B[39m\n\u001B[32m     22\u001B[39m label = torch.tensor(row[\u001B[32m1\u001B[39m:], dtype=torch.long)  \u001B[38;5;66;03m# Convert the labels to tensor (excluding img_name, which is the input image name)\u001B[39;00m\n\u001B[32m     24\u001B[39m img_path = os.path.join(\u001B[38;5;28mself\u001B[39m.img_dir, img_name) + \u001B[33m\"\u001B[39m\u001B[33m.jpg\u001B[39m\u001B[33m\"\u001B[39m \u001B[38;5;66;03m# Full path to the image file\u001B[39;00m\n\u001B[32m---> \u001B[39m\u001B[32m25\u001B[39m image = decode_image(img_path, mode=ImageReadMode.RGB) \u001B[38;5;66;03m#outputs tensor of shape (C, H, W) where C is the number of channels, H is the height and W is the width\u001B[39;00m\n\u001B[32m     27\u001B[39m \u001B[38;5;28;01mif\u001B[39;00m \u001B[38;5;28mself\u001B[39m.transform:\n\u001B[32m     28\u001B[39m     image = \u001B[38;5;28mself\u001B[39m.transform(image)\n",
      "\u001B[36mFile \u001B[39m\u001B[32m/opt/anaconda3/envs/fivekClassiferModelV2UpdatedPy/lib/python3.12/site-packages/torchvision/io/image.py:315\u001B[39m, in \u001B[36mdecode_image\u001B[39m\u001B[34m(input, mode, apply_exif_orientation)\u001B[39m\n\u001B[32m    313\u001B[39m     _log_api_usage_once(decode_image)\n\u001B[32m    314\u001B[39m \u001B[38;5;28;01mif\u001B[39;00m \u001B[38;5;129;01mnot\u001B[39;00m \u001B[38;5;28misinstance\u001B[39m(\u001B[38;5;28minput\u001B[39m, torch.Tensor):\n\u001B[32m--> \u001B[39m\u001B[32m315\u001B[39m     \u001B[38;5;28minput\u001B[39m = read_file(\u001B[38;5;28mstr\u001B[39m(\u001B[38;5;28minput\u001B[39m))\n\u001B[32m    316\u001B[39m \u001B[38;5;28;01mif\u001B[39;00m \u001B[38;5;28misinstance\u001B[39m(mode, \u001B[38;5;28mstr\u001B[39m):\n\u001B[32m    317\u001B[39m     mode = ImageReadMode[mode.upper()]\n",
      "\u001B[36mFile \u001B[39m\u001B[32m/opt/anaconda3/envs/fivekClassiferModelV2UpdatedPy/lib/python3.12/site-packages/torchvision/io/image.py:64\u001B[39m, in \u001B[36mread_file\u001B[39m\u001B[34m(path)\u001B[39m\n\u001B[32m     62\u001B[39m \u001B[38;5;28;01mif\u001B[39;00m \u001B[38;5;129;01mnot\u001B[39;00m torch.jit.is_scripting() \u001B[38;5;129;01mand\u001B[39;00m \u001B[38;5;129;01mnot\u001B[39;00m torch.jit.is_tracing():\n\u001B[32m     63\u001B[39m     _log_api_usage_once(read_file)\n\u001B[32m---> \u001B[39m\u001B[32m64\u001B[39m data = torch.ops.image.read_file(\u001B[38;5;28mstr\u001B[39m(path))\n\u001B[32m     65\u001B[39m \u001B[38;5;28;01mreturn\u001B[39;00m data\n",
      "\u001B[36mFile \u001B[39m\u001B[32m/opt/anaconda3/envs/fivekClassiferModelV2UpdatedPy/lib/python3.12/site-packages/torch/_ops.py:1116\u001B[39m, in \u001B[36mOpOverloadPacket.__call__\u001B[39m\u001B[34m(self, *args, **kwargs)\u001B[39m\n\u001B[32m   1114\u001B[39m \u001B[38;5;28;01mif\u001B[39;00m \u001B[38;5;28mself\u001B[39m._has_torchbind_op_overload \u001B[38;5;129;01mand\u001B[39;00m _must_dispatch_in_python(args, kwargs):\n\u001B[32m   1115\u001B[39m     \u001B[38;5;28;01mreturn\u001B[39;00m _call_overload_packet_from_python(\u001B[38;5;28mself\u001B[39m, args, kwargs)\n\u001B[32m-> \u001B[39m\u001B[32m1116\u001B[39m \u001B[38;5;28;01mreturn\u001B[39;00m \u001B[38;5;28mself\u001B[39m._op(*args, **(kwargs \u001B[38;5;129;01mor\u001B[39;00m {}))\n",
      "\u001B[31mRuntimeError\u001B[39m: unable to open file <raw_images_organised/a2599-jmac_MG_0414.jpg> in read-only mode: Interrupted system call (4)"
     ]
    }
   ],
   "execution_count": 156
  },
  {
   "metadata": {},
   "cell_type": "markdown",
   "source": "Finish metrics and i need google collab",
   "id": "558f00c53cf15a38"
  },
  {
   "metadata": {},
   "cell_type": "code",
   "outputs": [],
   "execution_count": null,
   "source": [
    "#Plot the training and validation loss\n",
    "plt.plot(loss_values, label='Training Loss')\n",
    "plt.plot(val_loss_values, label='Validation Loss')\n",
    "plt.xlabel('Epochs')\n",
    "plt.ylabel('Loss')\n",
    "plt.title('Training and Validation Loss')\n",
    "plt.legend()"
   ],
   "id": "a7c4e4d2336572e0"
  },
  {
   "metadata": {},
   "cell_type": "code",
   "outputs": [],
   "execution_count": null,
   "source": [
    "#Training set evaluation\n",
    "from torcheval.metrics import MulticlassAccuracy #This lib has so many of these - good to use i think\n",
    "model.eval() #Turns off dropout layers\n",
    "metric = MulticlassAccuracy()\n",
    "with torch.no_grad():\n",
    "    for inputs, labels in train_loader:\n",
    "        inputs, labels = inputs.to(device), labels.to(device)\n",
    "        outputs = model(inputs)\n",
    "        preds = torch.argmax(outputs, dim=1)  # Get the predicted class indices\n",
    "        metric.update(preds, labels)  # Update the metric with predictions and true labels\n",
    "\n",
    "accuracy = metric.compute()  # Compute the accuracy\n",
    "print(f'Training set accuracy: {accuracy:.4f}')  # Print the accuracy"
   ],
   "id": "d31d8fc65130f93b"
  },
  {
   "metadata": {},
   "cell_type": "code",
   "outputs": [],
   "execution_count": null,
   "source": [
    "#Test set evaluation\n",
    "model.eval()\n",
    "metric = MulticlassAccuracy()\n",
    "with torch.no_grad():\n",
    "    for inputs, labels in test_loader:\n",
    "        inputs, labels = inputs.to(device), labels.to(device)\n",
    "        outputs = model(inputs)\n",
    "        preds = torch.argmax(outputs, dim=1)  # Get the predicted class indices\n",
    "        metric.update(preds, labels)  # Update the metric with predictions and true labels\n",
    "\n",
    "accuracy = metric.compute()  # Compute the accuracy\n",
    "print(f'Test set accuracy: {accuracy:.4f}')  # Print the accuracy"
   ],
   "id": "3fdf36e60425dcbf"
  }
 ],
 "metadata": {
  "kernelspec": {
   "name": "python3",
   "language": "python",
   "display_name": "Python 3 (ipykernel)"
  }
 },
 "nbformat": 5,
 "nbformat_minor": 9
}
