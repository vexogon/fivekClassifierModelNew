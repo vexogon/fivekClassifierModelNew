{
 "cells": [
  {
   "cell_type": "markdown",
   "metadata": {
    "id": "view-in-github",
    "colab_type": "text"
   },
   "source": [
    "<a href=\"https://colab.research.google.com/github/vexogon/fivekClassifierModelNew/blob/main/Working%20Models/Multi%20Class-shrinked.ipynb\" target=\"_parent\"><img src=\"https://colab.research.google.com/assets/colab-badge.svg\" alt=\"Open In Colab\"/></a>"
   ],
   "id": "44ab0dbaac76a902"
  },
  {
   "metadata": {},
   "cell_type": "markdown",
   "source": "I decided to balance out the settings to the total of man_made to see if that helps the model learn better, now each setting has around 1800 images.\n",
   "id": "b7b459d615644fb7"
  },
  {
   "cell_type": "code",
   "id": "initial_id",
   "metadata": {
    "collapsed": true,
    "id": "initial_id",
    "ExecuteTime": {
     "end_time": "2025-09-01T05:02:59.694842Z",
     "start_time": "2025-09-01T05:02:59.692337Z"
    }
   },
   "source": [
    "import numpy as np\n",
    "import pandas as pd\n",
    "import matplotlib.pyplot as plt\n",
    "import torch\n",
    "from pandas import DataFrame\n",
    "from torch import nn\n",
    "import torchvision.transforms.v2 as transforms\n",
    "from torch.utils.data import Dataset, DataLoader\n",
    "import os"
   ],
   "outputs": [],
   "execution_count": 25
  },
  {
   "cell_type": "code",
   "source": [
    "from google.colab import drive\n",
    "drive.mount('/content/drive')"
   ],
   "metadata": {
    "id": "D-eQ_WMoS5d5",
    "outputId": "b2020059-1aa1-4ea0-dc34-28bccedf514c",
    "colab": {
     "base_uri": "https://localhost:8080/"
    }
   },
   "id": "D-eQ_WMoS5d5",
   "execution_count": 26,
   "outputs": [
    {
     "output_type": "stream",
     "name": "stdout",
     "text": [
      "Drive already mounted at /content/drive; to attempt to forcibly remount, call drive.mount(\"/content/drive\", force_remount=True).\n"
     ]
    }
   ]
  },
  {
   "metadata": {
    "colab": {
     "base_uri": "https://localhost:8080/"
    },
    "id": "f98121cbedb5d9d3",
    "outputId": "cf091b3f-3ea0-40d7-ad66-714065b38a5c",
    "ExecuteTime": {
     "end_time": "2025-09-01T05:03:00.078893Z",
     "start_time": "2025-09-01T05:02:59.711536Z"
    }
   },
   "cell_type": "code",
   "source": [
    "!pip install torcheval"
   ],
   "id": "f98121cbedb5d9d3",
   "outputs": [
    {
     "output_type": "stream",
     "name": "stdout",
     "text": [
      "Requirement already satisfied: torcheval in /usr/local/lib/python3.12/dist-packages (0.0.7)\n",
      "Requirement already satisfied: typing-extensions in /usr/local/lib/python3.12/dist-packages (from torcheval) (4.15.0)\n"
     ]
    }
   ],
   "execution_count": 27
  },
  {
   "metadata": {
    "id": "e4c34c6c0e28ed53",
    "ExecuteTime": {
     "end_time": "2025-09-01T05:03:00.083318Z",
     "start_time": "2025-09-01T05:03:00.081476Z"
    }
   },
   "cell_type": "code",
   "source": [
    "import warnings\n",
    "warnings.simplefilter(action='ignore', category=FutureWarning) #Numpy and Pandas FutureWarnings - ignore them for now, we can fix them later"
   ],
   "id": "e4c34c6c0e28ed53",
   "outputs": [],
   "execution_count": 28
  },
  {
   "metadata": {
    "id": "fc70bb11ff9bde24"
   },
   "cell_type": "markdown",
   "source": [
    "Reading in our CSV file, and doing some preprocessing to get it ready for training"
   ],
   "id": "fc70bb11ff9bde24"
  },
  {
   "metadata": {
    "id": "f09f9b8a6f72952b",
    "colab": {
     "base_uri": "https://localhost:8080/",
     "height": 204
    },
    "outputId": "2ef21818-30cd-427d-826b-cebdf671bcf0",
    "ExecuteTime": {
     "end_time": "2025-09-01T05:03:00.099082Z",
     "start_time": "2025-09-01T05:03:00.092884Z"
    }
   },
   "cell_type": "code",
   "source": [
    "df = pd.read_csv('categories.csv')\n",
    "df.head()"
   ],
   "id": "f09f9b8a6f72952b",
   "outputs": [
    {
     "output_type": "execute_result",
     "data": {
      "text/plain": [
       "                   img_name location time_of_day skyCondition   setting\n",
       "0        a0001-jmac_DSC1459  outdoor         day      sun_sky    nature\n",
       "1             a0002-dgw_005   indoor         day        mixed    people\n",
       "2        a0003-NKIM_MG_8178  outdoor         day      sun_sky  man_made\n",
       "3        a0004-jmac_MG_1384  outdoor         day      sun_sky    nature\n",
       "4  a0005-jn_2007_05_10__564  outdoor         day      sun_sky  man_made"
      ],
      "text/html": [
       "\n",
       "  <div id=\"df-0b61f118-0cb2-4032-9da1-ddc6688c02db\" class=\"colab-df-container\">\n",
       "    <div>\n",
       "<style scoped>\n",
       "    .dataframe tbody tr th:only-of-type {\n",
       "        vertical-align: middle;\n",
       "    }\n",
       "\n",
       "    .dataframe tbody tr th {\n",
       "        vertical-align: top;\n",
       "    }\n",
       "\n",
       "    .dataframe thead th {\n",
       "        text-align: right;\n",
       "    }\n",
       "</style>\n",
       "<table border=\"1\" class=\"dataframe\">\n",
       "  <thead>\n",
       "    <tr style=\"text-align: right;\">\n",
       "      <th></th>\n",
       "      <th>img_name</th>\n",
       "      <th>location</th>\n",
       "      <th>time_of_day</th>\n",
       "      <th>skyCondition</th>\n",
       "      <th>setting</th>\n",
       "    </tr>\n",
       "  </thead>\n",
       "  <tbody>\n",
       "    <tr>\n",
       "      <th>0</th>\n",
       "      <td>a0001-jmac_DSC1459</td>\n",
       "      <td>outdoor</td>\n",
       "      <td>day</td>\n",
       "      <td>sun_sky</td>\n",
       "      <td>nature</td>\n",
       "    </tr>\n",
       "    <tr>\n",
       "      <th>1</th>\n",
       "      <td>a0002-dgw_005</td>\n",
       "      <td>indoor</td>\n",
       "      <td>day</td>\n",
       "      <td>mixed</td>\n",
       "      <td>people</td>\n",
       "    </tr>\n",
       "    <tr>\n",
       "      <th>2</th>\n",
       "      <td>a0003-NKIM_MG_8178</td>\n",
       "      <td>outdoor</td>\n",
       "      <td>day</td>\n",
       "      <td>sun_sky</td>\n",
       "      <td>man_made</td>\n",
       "    </tr>\n",
       "    <tr>\n",
       "      <th>3</th>\n",
       "      <td>a0004-jmac_MG_1384</td>\n",
       "      <td>outdoor</td>\n",
       "      <td>day</td>\n",
       "      <td>sun_sky</td>\n",
       "      <td>nature</td>\n",
       "    </tr>\n",
       "    <tr>\n",
       "      <th>4</th>\n",
       "      <td>a0005-jn_2007_05_10__564</td>\n",
       "      <td>outdoor</td>\n",
       "      <td>day</td>\n",
       "      <td>sun_sky</td>\n",
       "      <td>man_made</td>\n",
       "    </tr>\n",
       "  </tbody>\n",
       "</table>\n",
       "</div>\n",
       "    <div class=\"colab-df-buttons\">\n",
       "\n",
       "  <div class=\"colab-df-container\">\n",
       "    <button class=\"colab-df-convert\" onclick=\"convertToInteractive('df-0b61f118-0cb2-4032-9da1-ddc6688c02db')\"\n",
       "            title=\"Convert this dataframe to an interactive table.\"\n",
       "            style=\"display:none;\">\n",
       "\n",
       "  <svg xmlns=\"http://www.w3.org/2000/svg\" height=\"24px\" viewBox=\"0 -960 960 960\">\n",
       "    <path d=\"M120-120v-720h720v720H120Zm60-500h600v-160H180v160Zm220 220h160v-160H400v160Zm0 220h160v-160H400v160ZM180-400h160v-160H180v160Zm440 0h160v-160H620v160ZM180-180h160v-160H180v160Zm440 0h160v-160H620v160Z\"/>\n",
       "  </svg>\n",
       "    </button>\n",
       "\n",
       "  <style>\n",
       "    .colab-df-container {\n",
       "      display:flex;\n",
       "      gap: 12px;\n",
       "    }\n",
       "\n",
       "    .colab-df-convert {\n",
       "      background-color: #E8F0FE;\n",
       "      border: none;\n",
       "      border-radius: 50%;\n",
       "      cursor: pointer;\n",
       "      display: none;\n",
       "      fill: #1967D2;\n",
       "      height: 32px;\n",
       "      padding: 0 0 0 0;\n",
       "      width: 32px;\n",
       "    }\n",
       "\n",
       "    .colab-df-convert:hover {\n",
       "      background-color: #E2EBFA;\n",
       "      box-shadow: 0px 1px 2px rgba(60, 64, 67, 0.3), 0px 1px 3px 1px rgba(60, 64, 67, 0.15);\n",
       "      fill: #174EA6;\n",
       "    }\n",
       "\n",
       "    .colab-df-buttons div {\n",
       "      margin-bottom: 4px;\n",
       "    }\n",
       "\n",
       "    [theme=dark] .colab-df-convert {\n",
       "      background-color: #3B4455;\n",
       "      fill: #D2E3FC;\n",
       "    }\n",
       "\n",
       "    [theme=dark] .colab-df-convert:hover {\n",
       "      background-color: #434B5C;\n",
       "      box-shadow: 0px 1px 3px 1px rgba(0, 0, 0, 0.15);\n",
       "      filter: drop-shadow(0px 1px 2px rgba(0, 0, 0, 0.3));\n",
       "      fill: #FFFFFF;\n",
       "    }\n",
       "  </style>\n",
       "\n",
       "    <script>\n",
       "      const buttonEl =\n",
       "        document.querySelector('#df-0b61f118-0cb2-4032-9da1-ddc6688c02db button.colab-df-convert');\n",
       "      buttonEl.style.display =\n",
       "        google.colab.kernel.accessAllowed ? 'block' : 'none';\n",
       "\n",
       "      async function convertToInteractive(key) {\n",
       "        const element = document.querySelector('#df-0b61f118-0cb2-4032-9da1-ddc6688c02db');\n",
       "        const dataTable =\n",
       "          await google.colab.kernel.invokeFunction('convertToInteractive',\n",
       "                                                    [key], {});\n",
       "        if (!dataTable) return;\n",
       "\n",
       "        const docLinkHtml = 'Like what you see? Visit the ' +\n",
       "          '<a target=\"_blank\" href=https://colab.research.google.com/notebooks/data_table.ipynb>data table notebook</a>'\n",
       "          + ' to learn more about interactive tables.';\n",
       "        element.innerHTML = '';\n",
       "        dataTable['output_type'] = 'display_data';\n",
       "        await google.colab.output.renderOutput(dataTable, element);\n",
       "        const docLink = document.createElement('div');\n",
       "        docLink.innerHTML = docLinkHtml;\n",
       "        element.appendChild(docLink);\n",
       "      }\n",
       "    </script>\n",
       "  </div>\n",
       "\n",
       "\n",
       "    <div id=\"df-0c92f2d0-f497-4225-aa42-40d12b621eff\">\n",
       "      <button class=\"colab-df-quickchart\" onclick=\"quickchart('df-0c92f2d0-f497-4225-aa42-40d12b621eff')\"\n",
       "                title=\"Suggest charts\"\n",
       "                style=\"display:none;\">\n",
       "\n",
       "<svg xmlns=\"http://www.w3.org/2000/svg\" height=\"24px\"viewBox=\"0 0 24 24\"\n",
       "     width=\"24px\">\n",
       "    <g>\n",
       "        <path d=\"M19 3H5c-1.1 0-2 .9-2 2v14c0 1.1.9 2 2 2h14c1.1 0 2-.9 2-2V5c0-1.1-.9-2-2-2zM9 17H7v-7h2v7zm4 0h-2V7h2v10zm4 0h-2v-4h2v4z\"/>\n",
       "    </g>\n",
       "</svg>\n",
       "      </button>\n",
       "\n",
       "<style>\n",
       "  .colab-df-quickchart {\n",
       "      --bg-color: #E8F0FE;\n",
       "      --fill-color: #1967D2;\n",
       "      --hover-bg-color: #E2EBFA;\n",
       "      --hover-fill-color: #174EA6;\n",
       "      --disabled-fill-color: #AAA;\n",
       "      --disabled-bg-color: #DDD;\n",
       "  }\n",
       "\n",
       "  [theme=dark] .colab-df-quickchart {\n",
       "      --bg-color: #3B4455;\n",
       "      --fill-color: #D2E3FC;\n",
       "      --hover-bg-color: #434B5C;\n",
       "      --hover-fill-color: #FFFFFF;\n",
       "      --disabled-bg-color: #3B4455;\n",
       "      --disabled-fill-color: #666;\n",
       "  }\n",
       "\n",
       "  .colab-df-quickchart {\n",
       "    background-color: var(--bg-color);\n",
       "    border: none;\n",
       "    border-radius: 50%;\n",
       "    cursor: pointer;\n",
       "    display: none;\n",
       "    fill: var(--fill-color);\n",
       "    height: 32px;\n",
       "    padding: 0;\n",
       "    width: 32px;\n",
       "  }\n",
       "\n",
       "  .colab-df-quickchart:hover {\n",
       "    background-color: var(--hover-bg-color);\n",
       "    box-shadow: 0 1px 2px rgba(60, 64, 67, 0.3), 0 1px 3px 1px rgba(60, 64, 67, 0.15);\n",
       "    fill: var(--button-hover-fill-color);\n",
       "  }\n",
       "\n",
       "  .colab-df-quickchart-complete:disabled,\n",
       "  .colab-df-quickchart-complete:disabled:hover {\n",
       "    background-color: var(--disabled-bg-color);\n",
       "    fill: var(--disabled-fill-color);\n",
       "    box-shadow: none;\n",
       "  }\n",
       "\n",
       "  .colab-df-spinner {\n",
       "    border: 2px solid var(--fill-color);\n",
       "    border-color: transparent;\n",
       "    border-bottom-color: var(--fill-color);\n",
       "    animation:\n",
       "      spin 1s steps(1) infinite;\n",
       "  }\n",
       "\n",
       "  @keyframes spin {\n",
       "    0% {\n",
       "      border-color: transparent;\n",
       "      border-bottom-color: var(--fill-color);\n",
       "      border-left-color: var(--fill-color);\n",
       "    }\n",
       "    20% {\n",
       "      border-color: transparent;\n",
       "      border-left-color: var(--fill-color);\n",
       "      border-top-color: var(--fill-color);\n",
       "    }\n",
       "    30% {\n",
       "      border-color: transparent;\n",
       "      border-left-color: var(--fill-color);\n",
       "      border-top-color: var(--fill-color);\n",
       "      border-right-color: var(--fill-color);\n",
       "    }\n",
       "    40% {\n",
       "      border-color: transparent;\n",
       "      border-right-color: var(--fill-color);\n",
       "      border-top-color: var(--fill-color);\n",
       "    }\n",
       "    60% {\n",
       "      border-color: transparent;\n",
       "      border-right-color: var(--fill-color);\n",
       "    }\n",
       "    80% {\n",
       "      border-color: transparent;\n",
       "      border-right-color: var(--fill-color);\n",
       "      border-bottom-color: var(--fill-color);\n",
       "    }\n",
       "    90% {\n",
       "      border-color: transparent;\n",
       "      border-bottom-color: var(--fill-color);\n",
       "    }\n",
       "  }\n",
       "</style>\n",
       "\n",
       "      <script>\n",
       "        async function quickchart(key) {\n",
       "          const quickchartButtonEl =\n",
       "            document.querySelector('#' + key + ' button');\n",
       "          quickchartButtonEl.disabled = true;  // To prevent multiple clicks.\n",
       "          quickchartButtonEl.classList.add('colab-df-spinner');\n",
       "          try {\n",
       "            const charts = await google.colab.kernel.invokeFunction(\n",
       "                'suggestCharts', [key], {});\n",
       "          } catch (error) {\n",
       "            console.error('Error during call to suggestCharts:', error);\n",
       "          }\n",
       "          quickchartButtonEl.classList.remove('colab-df-spinner');\n",
       "          quickchartButtonEl.classList.add('colab-df-quickchart-complete');\n",
       "        }\n",
       "        (() => {\n",
       "          let quickchartButtonEl =\n",
       "            document.querySelector('#df-0c92f2d0-f497-4225-aa42-40d12b621eff button');\n",
       "          quickchartButtonEl.style.display =\n",
       "            google.colab.kernel.accessAllowed ? 'block' : 'none';\n",
       "        })();\n",
       "      </script>\n",
       "    </div>\n",
       "\n",
       "    </div>\n",
       "  </div>\n"
      ],
      "application/vnd.google.colaboratory.intrinsic+json": {
       "type": "dataframe",
       "variable_name": "df",
       "summary": "{\n  \"name\": \"df\",\n  \"rows\": 5000,\n  \"fields\": [\n    {\n      \"column\": \"img_name\",\n      \"properties\": {\n        \"dtype\": \"string\",\n        \"num_unique_values\": 5000,\n        \"samples\": [\n          \"a1502-NKIM_MG_6279\",\n          \"a2587-LSCRW_0047\",\n          \"a2654-IMG_0032\"\n        ],\n        \"semantic_type\": \"\",\n        \"description\": \"\"\n      }\n    },\n    {\n      \"column\": \"location\",\n      \"properties\": {\n        \"dtype\": \"category\",\n        \"num_unique_values\": 3,\n        \"samples\": [\n          \"outdoor\",\n          \"indoor\",\n          \"unknown\"\n        ],\n        \"semantic_type\": \"\",\n        \"description\": \"\"\n      }\n    },\n    {\n      \"column\": \"time_of_day\",\n      \"properties\": {\n        \"dtype\": \"category\",\n        \"num_unique_values\": 4,\n        \"samples\": [\n          \"unknown\",\n          \"night\",\n          \"day\"\n        ],\n        \"semantic_type\": \"\",\n        \"description\": \"\"\n      }\n    },\n    {\n      \"column\": \"skyCondition\",\n      \"properties\": {\n        \"dtype\": \"category\",\n        \"num_unique_values\": 3,\n        \"samples\": [\n          \"sun_sky\",\n          \"mixed\",\n          \"artificial\"\n        ],\n        \"semantic_type\": \"\",\n        \"description\": \"\"\n      }\n    },\n    {\n      \"column\": \"setting\",\n      \"properties\": {\n        \"dtype\": \"category\",\n        \"num_unique_values\": 5,\n        \"samples\": [\n          \"people\",\n          \"abstract\",\n          \"man_made\"\n        ],\n        \"semantic_type\": \"\",\n        \"description\": \"\"\n      }\n    }\n  ]\n}"
      }
     },
     "metadata": {},
     "execution_count": 29
    }
   ],
   "execution_count": 29
  },
  {
   "metadata": {
    "id": "53521c73a882108c"
   },
   "cell_type": "markdown",
   "source": [
    "Lets drop all the columns that aren't one for our classes for multilabel classification, so thats location, time_of_day, skyCondition"
   ],
   "id": "53521c73a882108c"
  },
  {
   "metadata": {
    "id": "b3936f1f300a78f4",
    "ExecuteTime": {
     "end_time": "2025-09-01T05:03:00.121819Z",
     "start_time": "2025-09-01T05:03:00.119971Z"
    }
   },
   "cell_type": "code",
   "source": [
    "df = df.drop(columns=['location','time_of_day','skyCondition'])"
   ],
   "id": "b3936f1f300a78f4",
   "outputs": [],
   "execution_count": 30
  },
  {
   "metadata": {
    "id": "214f106b1d84c5f2"
   },
   "cell_type": "markdown",
   "source": [
    "Nows lets one-hot encode the 'setting' column, so we have a column for each setting type, with a 1 if the image is of that setting type, and a 0 if it isn't"
   ],
   "id": "214f106b1d84c5f2"
  },
  {
   "metadata": {
    "id": "8d988beb92680e2d",
    "colab": {
     "base_uri": "https://localhost:8080/"
    },
    "outputId": "996f4678-fe8c-4564-eb6f-226928f39df3",
    "ExecuteTime": {
     "end_time": "2025-09-01T05:03:00.145847Z",
     "start_time": "2025-09-01T05:03:00.142494Z"
    }
   },
   "cell_type": "code",
   "source": [
    "df = pd.get_dummies(df, columns=['setting'], dtype='long')\n",
    "df.columns"
   ],
   "id": "8d988beb92680e2d",
   "outputs": [
    {
     "output_type": "execute_result",
     "data": {
      "text/plain": [
       "Index(['img_name', 'setting_abstract', 'setting_animals', 'setting_man_made',\n",
       "       'setting_nature', 'setting_people'],\n",
       "      dtype='object')"
      ]
     },
     "metadata": {},
     "execution_count": 31
    }
   ],
   "execution_count": 31
  },
  {
   "metadata": {
    "id": "4639ca684260eeb1"
   },
   "cell_type": "markdown",
   "source": "Restoring abstract column, found data from another dataset to balance it out, now all settings have around 1800 images",
   "id": "4639ca684260eeb1"
  },
  {
   "metadata": {
    "id": "585dc337dc595946",
    "colab": {
     "base_uri": "https://localhost:8080/",
     "height": 204
    },
    "outputId": "c2bc51b9-854d-464c-ea67-9355b68540a0",
    "ExecuteTime": {
     "end_time": "2025-09-01T05:03:00.173459Z",
     "start_time": "2025-09-01T05:03:00.170011Z"
    }
   },
   "cell_type": "code",
   "source": [
    "# df.drop('setting_abstract', axis=1, inplace=True) #Abstract doesn't have enough examples\n",
    "df.head()"
   ],
   "id": "585dc337dc595946",
   "outputs": [
    {
     "output_type": "execute_result",
     "data": {
      "text/plain": [
       "                   img_name  setting_animals  setting_man_made  \\\n",
       "0        a0001-jmac_DSC1459                0                 0   \n",
       "1             a0002-dgw_005                0                 0   \n",
       "2        a0003-NKIM_MG_8178                0                 1   \n",
       "3        a0004-jmac_MG_1384                0                 0   \n",
       "4  a0005-jn_2007_05_10__564                0                 1   \n",
       "\n",
       "   setting_nature  setting_people  \n",
       "0               1               0  \n",
       "1               0               1  \n",
       "2               0               0  \n",
       "3               1               0  \n",
       "4               0               0  "
      ],
      "text/html": [
       "\n",
       "  <div id=\"df-7ca3f396-c572-4b4f-921a-7e84204bb6d1\" class=\"colab-df-container\">\n",
       "    <div>\n",
       "<style scoped>\n",
       "    .dataframe tbody tr th:only-of-type {\n",
       "        vertical-align: middle;\n",
       "    }\n",
       "\n",
       "    .dataframe tbody tr th {\n",
       "        vertical-align: top;\n",
       "    }\n",
       "\n",
       "    .dataframe thead th {\n",
       "        text-align: right;\n",
       "    }\n",
       "</style>\n",
       "<table border=\"1\" class=\"dataframe\">\n",
       "  <thead>\n",
       "    <tr style=\"text-align: right;\">\n",
       "      <th></th>\n",
       "      <th>img_name</th>\n",
       "      <th>setting_animals</th>\n",
       "      <th>setting_man_made</th>\n",
       "      <th>setting_nature</th>\n",
       "      <th>setting_people</th>\n",
       "    </tr>\n",
       "  </thead>\n",
       "  <tbody>\n",
       "    <tr>\n",
       "      <th>0</th>\n",
       "      <td>a0001-jmac_DSC1459</td>\n",
       "      <td>0</td>\n",
       "      <td>0</td>\n",
       "      <td>1</td>\n",
       "      <td>0</td>\n",
       "    </tr>\n",
       "    <tr>\n",
       "      <th>1</th>\n",
       "      <td>a0002-dgw_005</td>\n",
       "      <td>0</td>\n",
       "      <td>0</td>\n",
       "      <td>0</td>\n",
       "      <td>1</td>\n",
       "    </tr>\n",
       "    <tr>\n",
       "      <th>2</th>\n",
       "      <td>a0003-NKIM_MG_8178</td>\n",
       "      <td>0</td>\n",
       "      <td>1</td>\n",
       "      <td>0</td>\n",
       "      <td>0</td>\n",
       "    </tr>\n",
       "    <tr>\n",
       "      <th>3</th>\n",
       "      <td>a0004-jmac_MG_1384</td>\n",
       "      <td>0</td>\n",
       "      <td>0</td>\n",
       "      <td>1</td>\n",
       "      <td>0</td>\n",
       "    </tr>\n",
       "    <tr>\n",
       "      <th>4</th>\n",
       "      <td>a0005-jn_2007_05_10__564</td>\n",
       "      <td>0</td>\n",
       "      <td>1</td>\n",
       "      <td>0</td>\n",
       "      <td>0</td>\n",
       "    </tr>\n",
       "  </tbody>\n",
       "</table>\n",
       "</div>\n",
       "    <div class=\"colab-df-buttons\">\n",
       "\n",
       "  <div class=\"colab-df-container\">\n",
       "    <button class=\"colab-df-convert\" onclick=\"convertToInteractive('df-7ca3f396-c572-4b4f-921a-7e84204bb6d1')\"\n",
       "            title=\"Convert this dataframe to an interactive table.\"\n",
       "            style=\"display:none;\">\n",
       "\n",
       "  <svg xmlns=\"http://www.w3.org/2000/svg\" height=\"24px\" viewBox=\"0 -960 960 960\">\n",
       "    <path d=\"M120-120v-720h720v720H120Zm60-500h600v-160H180v160Zm220 220h160v-160H400v160Zm0 220h160v-160H400v160ZM180-400h160v-160H180v160Zm440 0h160v-160H620v160ZM180-180h160v-160H180v160Zm440 0h160v-160H620v160Z\"/>\n",
       "  </svg>\n",
       "    </button>\n",
       "\n",
       "  <style>\n",
       "    .colab-df-container {\n",
       "      display:flex;\n",
       "      gap: 12px;\n",
       "    }\n",
       "\n",
       "    .colab-df-convert {\n",
       "      background-color: #E8F0FE;\n",
       "      border: none;\n",
       "      border-radius: 50%;\n",
       "      cursor: pointer;\n",
       "      display: none;\n",
       "      fill: #1967D2;\n",
       "      height: 32px;\n",
       "      padding: 0 0 0 0;\n",
       "      width: 32px;\n",
       "    }\n",
       "\n",
       "    .colab-df-convert:hover {\n",
       "      background-color: #E2EBFA;\n",
       "      box-shadow: 0px 1px 2px rgba(60, 64, 67, 0.3), 0px 1px 3px 1px rgba(60, 64, 67, 0.15);\n",
       "      fill: #174EA6;\n",
       "    }\n",
       "\n",
       "    .colab-df-buttons div {\n",
       "      margin-bottom: 4px;\n",
       "    }\n",
       "\n",
       "    [theme=dark] .colab-df-convert {\n",
       "      background-color: #3B4455;\n",
       "      fill: #D2E3FC;\n",
       "    }\n",
       "\n",
       "    [theme=dark] .colab-df-convert:hover {\n",
       "      background-color: #434B5C;\n",
       "      box-shadow: 0px 1px 3px 1px rgba(0, 0, 0, 0.15);\n",
       "      filter: drop-shadow(0px 1px 2px rgba(0, 0, 0, 0.3));\n",
       "      fill: #FFFFFF;\n",
       "    }\n",
       "  </style>\n",
       "\n",
       "    <script>\n",
       "      const buttonEl =\n",
       "        document.querySelector('#df-7ca3f396-c572-4b4f-921a-7e84204bb6d1 button.colab-df-convert');\n",
       "      buttonEl.style.display =\n",
       "        google.colab.kernel.accessAllowed ? 'block' : 'none';\n",
       "\n",
       "      async function convertToInteractive(key) {\n",
       "        const element = document.querySelector('#df-7ca3f396-c572-4b4f-921a-7e84204bb6d1');\n",
       "        const dataTable =\n",
       "          await google.colab.kernel.invokeFunction('convertToInteractive',\n",
       "                                                    [key], {});\n",
       "        if (!dataTable) return;\n",
       "\n",
       "        const docLinkHtml = 'Like what you see? Visit the ' +\n",
       "          '<a target=\"_blank\" href=https://colab.research.google.com/notebooks/data_table.ipynb>data table notebook</a>'\n",
       "          + ' to learn more about interactive tables.';\n",
       "        element.innerHTML = '';\n",
       "        dataTable['output_type'] = 'display_data';\n",
       "        await google.colab.output.renderOutput(dataTable, element);\n",
       "        const docLink = document.createElement('div');\n",
       "        docLink.innerHTML = docLinkHtml;\n",
       "        element.appendChild(docLink);\n",
       "      }\n",
       "    </script>\n",
       "  </div>\n",
       "\n",
       "\n",
       "    <div id=\"df-c569823b-5c5a-4c39-bd78-c0996f216d9a\">\n",
       "      <button class=\"colab-df-quickchart\" onclick=\"quickchart('df-c569823b-5c5a-4c39-bd78-c0996f216d9a')\"\n",
       "                title=\"Suggest charts\"\n",
       "                style=\"display:none;\">\n",
       "\n",
       "<svg xmlns=\"http://www.w3.org/2000/svg\" height=\"24px\"viewBox=\"0 0 24 24\"\n",
       "     width=\"24px\">\n",
       "    <g>\n",
       "        <path d=\"M19 3H5c-1.1 0-2 .9-2 2v14c0 1.1.9 2 2 2h14c1.1 0 2-.9 2-2V5c0-1.1-.9-2-2-2zM9 17H7v-7h2v7zm4 0h-2V7h2v10zm4 0h-2v-4h2v4z\"/>\n",
       "    </g>\n",
       "</svg>\n",
       "      </button>\n",
       "\n",
       "<style>\n",
       "  .colab-df-quickchart {\n",
       "      --bg-color: #E8F0FE;\n",
       "      --fill-color: #1967D2;\n",
       "      --hover-bg-color: #E2EBFA;\n",
       "      --hover-fill-color: #174EA6;\n",
       "      --disabled-fill-color: #AAA;\n",
       "      --disabled-bg-color: #DDD;\n",
       "  }\n",
       "\n",
       "  [theme=dark] .colab-df-quickchart {\n",
       "      --bg-color: #3B4455;\n",
       "      --fill-color: #D2E3FC;\n",
       "      --hover-bg-color: #434B5C;\n",
       "      --hover-fill-color: #FFFFFF;\n",
       "      --disabled-bg-color: #3B4455;\n",
       "      --disabled-fill-color: #666;\n",
       "  }\n",
       "\n",
       "  .colab-df-quickchart {\n",
       "    background-color: var(--bg-color);\n",
       "    border: none;\n",
       "    border-radius: 50%;\n",
       "    cursor: pointer;\n",
       "    display: none;\n",
       "    fill: var(--fill-color);\n",
       "    height: 32px;\n",
       "    padding: 0;\n",
       "    width: 32px;\n",
       "  }\n",
       "\n",
       "  .colab-df-quickchart:hover {\n",
       "    background-color: var(--hover-bg-color);\n",
       "    box-shadow: 0 1px 2px rgba(60, 64, 67, 0.3), 0 1px 3px 1px rgba(60, 64, 67, 0.15);\n",
       "    fill: var(--button-hover-fill-color);\n",
       "  }\n",
       "\n",
       "  .colab-df-quickchart-complete:disabled,\n",
       "  .colab-df-quickchart-complete:disabled:hover {\n",
       "    background-color: var(--disabled-bg-color);\n",
       "    fill: var(--disabled-fill-color);\n",
       "    box-shadow: none;\n",
       "  }\n",
       "\n",
       "  .colab-df-spinner {\n",
       "    border: 2px solid var(--fill-color);\n",
       "    border-color: transparent;\n",
       "    border-bottom-color: var(--fill-color);\n",
       "    animation:\n",
       "      spin 1s steps(1) infinite;\n",
       "  }\n",
       "\n",
       "  @keyframes spin {\n",
       "    0% {\n",
       "      border-color: transparent;\n",
       "      border-bottom-color: var(--fill-color);\n",
       "      border-left-color: var(--fill-color);\n",
       "    }\n",
       "    20% {\n",
       "      border-color: transparent;\n",
       "      border-left-color: var(--fill-color);\n",
       "      border-top-color: var(--fill-color);\n",
       "    }\n",
       "    30% {\n",
       "      border-color: transparent;\n",
       "      border-left-color: var(--fill-color);\n",
       "      border-top-color: var(--fill-color);\n",
       "      border-right-color: var(--fill-color);\n",
       "    }\n",
       "    40% {\n",
       "      border-color: transparent;\n",
       "      border-right-color: var(--fill-color);\n",
       "      border-top-color: var(--fill-color);\n",
       "    }\n",
       "    60% {\n",
       "      border-color: transparent;\n",
       "      border-right-color: var(--fill-color);\n",
       "    }\n",
       "    80% {\n",
       "      border-color: transparent;\n",
       "      border-right-color: var(--fill-color);\n",
       "      border-bottom-color: var(--fill-color);\n",
       "    }\n",
       "    90% {\n",
       "      border-color: transparent;\n",
       "      border-bottom-color: var(--fill-color);\n",
       "    }\n",
       "  }\n",
       "</style>\n",
       "\n",
       "      <script>\n",
       "        async function quickchart(key) {\n",
       "          const quickchartButtonEl =\n",
       "            document.querySelector('#' + key + ' button');\n",
       "          quickchartButtonEl.disabled = true;  // To prevent multiple clicks.\n",
       "          quickchartButtonEl.classList.add('colab-df-spinner');\n",
       "          try {\n",
       "            const charts = await google.colab.kernel.invokeFunction(\n",
       "                'suggestCharts', [key], {});\n",
       "          } catch (error) {\n",
       "            console.error('Error during call to suggestCharts:', error);\n",
       "          }\n",
       "          quickchartButtonEl.classList.remove('colab-df-spinner');\n",
       "          quickchartButtonEl.classList.add('colab-df-quickchart-complete');\n",
       "        }\n",
       "        (() => {\n",
       "          let quickchartButtonEl =\n",
       "            document.querySelector('#df-c569823b-5c5a-4c39-bd78-c0996f216d9a button');\n",
       "          quickchartButtonEl.style.display =\n",
       "            google.colab.kernel.accessAllowed ? 'block' : 'none';\n",
       "        })();\n",
       "      </script>\n",
       "    </div>\n",
       "\n",
       "    </div>\n",
       "  </div>\n"
      ],
      "application/vnd.google.colaboratory.intrinsic+json": {
       "type": "dataframe",
       "variable_name": "df",
       "summary": "{\n  \"name\": \"df\",\n  \"rows\": 5000,\n  \"fields\": [\n    {\n      \"column\": \"img_name\",\n      \"properties\": {\n        \"dtype\": \"string\",\n        \"num_unique_values\": 5000,\n        \"samples\": [\n          \"a1502-NKIM_MG_6279\",\n          \"a2587-LSCRW_0047\",\n          \"a2654-IMG_0032\"\n        ],\n        \"semantic_type\": \"\",\n        \"description\": \"\"\n      }\n    },\n    {\n      \"column\": \"setting_animals\",\n      \"properties\": {\n        \"dtype\": \"number\",\n        \"std\": 0,\n        \"min\": 0,\n        \"max\": 1,\n        \"num_unique_values\": 2,\n        \"samples\": [\n          1,\n          0\n        ],\n        \"semantic_type\": \"\",\n        \"description\": \"\"\n      }\n    },\n    {\n      \"column\": \"setting_man_made\",\n      \"properties\": {\n        \"dtype\": \"number\",\n        \"std\": 0,\n        \"min\": 0,\n        \"max\": 1,\n        \"num_unique_values\": 2,\n        \"samples\": [\n          1,\n          0\n        ],\n        \"semantic_type\": \"\",\n        \"description\": \"\"\n      }\n    },\n    {\n      \"column\": \"setting_nature\",\n      \"properties\": {\n        \"dtype\": \"number\",\n        \"std\": 0,\n        \"min\": 0,\n        \"max\": 1,\n        \"num_unique_values\": 2,\n        \"samples\": [\n          0,\n          1\n        ],\n        \"semantic_type\": \"\",\n        \"description\": \"\"\n      }\n    },\n    {\n      \"column\": \"setting_people\",\n      \"properties\": {\n        \"dtype\": \"number\",\n        \"std\": 0,\n        \"min\": 0,\n        \"max\": 1,\n        \"num_unique_values\": 2,\n        \"samples\": [\n          1,\n          0\n        ],\n        \"semantic_type\": \"\",\n        \"description\": \"\"\n      }\n    }\n  ]\n}"
      }
     },
     "metadata": {},
     "execution_count": 32
    }
   ],
   "execution_count": 32
  },
  {
   "metadata": {
    "id": "39ba1cd3fb0cdb00"
   },
   "cell_type": "markdown",
   "source": [
    "Removing any rows without a one-hot encoded class, as they will distract the model during training"
   ],
   "id": "39ba1cd3fb0cdb00"
  },
  {
   "cell_type": "code",
   "source": [
    "#Remove any rows without any class\n",
    "filtered_df = df[(df == 1).any(axis=1)]\n",
    "print(filtered_df)\n",
    "df = filtered_df #Set as main dataset"
   ],
   "metadata": {
    "colab": {
     "base_uri": "https://localhost:8080/"
    },
    "id": "WMAx1o5Ow8FV",
    "outputId": "748aab77-4ac4-4350-ffff-16f47b04173b",
    "ExecuteTime": {
     "end_time": "2025-09-01T05:03:00.221198Z",
     "start_time": "2025-09-01T05:03:00.217522Z"
    }
   },
   "id": "WMAx1o5Ow8FV",
   "outputs": [
    {
     "output_type": "stream",
     "name": "stdout",
     "text": [
      "                      img_name  setting_animals  setting_man_made  \\\n",
      "0           a0001-jmac_DSC1459                0                 0   \n",
      "1                a0002-dgw_005                0                 0   \n",
      "2           a0003-NKIM_MG_8178                0                 1   \n",
      "3           a0004-jmac_MG_1384                0                 0   \n",
      "4     a0005-jn_2007_05_10__564                0                 1   \n",
      "...                        ...              ...               ...   \n",
      "4994           a4995-kme_00069                0                 1   \n",
      "4995  a4996-Duggan_090426_7783                0                 1   \n",
      "4996            a4997-kme_0558                0                 0   \n",
      "4998            a4999-DSC_0035                0                 1   \n",
      "4999            a5000-kme_0204                0                 0   \n",
      "\n",
      "      setting_nature  setting_people  \n",
      "0                  1               0  \n",
      "1                  0               1  \n",
      "2                  0               0  \n",
      "3                  1               0  \n",
      "4                  0               0  \n",
      "...              ...             ...  \n",
      "4994               0               0  \n",
      "4995               0               0  \n",
      "4996               0               1  \n",
      "4998               0               0  \n",
      "4999               1               0  \n",
      "\n",
      "[4599 rows x 5 columns]\n"
     ]
    }
   ],
   "execution_count": 33
  },
  {
   "metadata": {
    "id": "e025f24180d7f313"
   },
   "cell_type": "markdown",
   "source": [
    "Setting the device to use for training, in this case a GPU if available"
   ],
   "id": "e025f24180d7f313"
  },
  {
   "metadata": {
    "id": "a43fdf82a440a400",
    "ExecuteTime": {
     "end_time": "2025-09-01T05:03:00.242183Z",
     "start_time": "2025-09-01T05:03:00.240749Z"
    }
   },
   "cell_type": "code",
   "source": [
    "device = torch.device(\"cuda\") if torch.cuda.is_available() else torch.device(\"mps\")"
   ],
   "id": "a43fdf82a440a400",
   "outputs": [],
   "execution_count": 34
  },
  {
   "metadata": {
    "id": "6a549de192fafad5"
   },
   "cell_type": "markdown",
   "source": [
    "Our custom dataset class, which will read in the images and labels from the CSV file and image directory, this is greatly simplified compared with the raw image version in earlier notebooks, check model.ipynb for that"
   ],
   "id": "6a549de192fafad5"
  },
  {
   "metadata": {
    "id": "80e3e585a420b8b",
    "ExecuteTime": {
     "end_time": "2025-09-01T05:03:00.264766Z",
     "start_time": "2025-09-01T05:03:00.262333Z"
    }
   },
   "cell_type": "code",
   "source": [
    "from torchvision.io import decode_image\n",
    "from torchvision.io import ImageReadMode\n",
    "\n",
    "class ImageDataset(Dataset):\n",
    "    def __init__(self, data, img_dir, transform=None):\n",
    "        self.data = data\n",
    "        self.transform = transform\n",
    "        self.img_dir = img_dir\n",
    "        self.bounds = []\n",
    "\n",
    "        if not self.img_dir:\n",
    "            raise ValueError(f\"No images found in directory: {img_dir}\")\n",
    "\n",
    "    def __len__(self):\n",
    "        return len(self.data)\n",
    "\n",
    "    def __getitem__(self, idx):\n",
    "        row = self.data.iloc[idx]\n",
    "        img_name = row['img_name']  # Assuming the first column is 'img_name'\n",
    "        #Get the label tensor from the row, excluding the first column (img_name)\n",
    "        label = torch.tensor(row[1:], dtype=torch.long)  # Convert the labels to tensor (excluding img_name, which is the input image name)\n",
    "\n",
    "        img_path = os.path.join(self.img_dir, img_name) + \".jpg\" # Full path to the image file\n",
    "        image = decode_image(img_path, mode=ImageReadMode.RGB) #outputs tensor of shape (C, H, W) where C is the number of channels, H is the height and W is the width\n",
    "\n",
    "        if self.transform:\n",
    "            image = self.transform(image)\n",
    "\n",
    "        return image, label"
   ],
   "id": "80e3e585a420b8b",
   "outputs": [],
   "execution_count": 35
  },
  {
   "metadata": {
    "id": "ebdb5e6a29981de3"
   },
   "cell_type": "markdown",
   "source": [
    "Standard transformations for the dataset, and data augmentation for the training set"
   ],
   "id": "ebdb5e6a29981de3"
  },
  {
   "metadata": {
    "id": "6ccd55e4ef8b145f",
    "colab": {
     "base_uri": "https://localhost:8080/"
    },
    "outputId": "2b639537-5705-4911-8f28-d8083415eb8a",
    "ExecuteTime": {
     "end_time": "2025-09-01T05:03:00.307051Z",
     "start_time": "2025-09-01T05:03:00.305263Z"
    }
   },
   "cell_type": "code",
   "source": [
    "# Transformations for the dataset\n",
    "\n",
    "# These are the standard transformations for the dataset, we will use these for training, testing, and validation\n",
    "val_test_standard_transforms = transforms.Compose([\n",
    "    transforms.ToPILImage(), # Convert numpy array to PIL Image\n",
    "    transforms.Resize((512, 512)), # Resize the image to 512x512 for consistency and to match the model input size\n",
    "    transforms.ToTensor(), # Convert PIL Image to tensor\n",
    "    transforms.Normalize(mean=[0.485, 0.456, 0.406], std=[0.229, 0.224, 0.225])\n",
    "])\n"
   ],
   "id": "6ccd55e4ef8b145f",
   "outputs": [
    {
     "output_type": "stream",
     "name": "stderr",
     "text": [
      "/usr/local/lib/python3.12/dist-packages/torchvision/transforms/v2/_deprecated.py:42: UserWarning: The transform `ToTensor()` is deprecated and will be removed in a future release. Instead, please use `v2.Compose([v2.ToImage(), v2.ToDtype(torch.float32, scale=True)])`.Output is equivalent up to float precision.\n",
      "  warnings.warn(\n"
     ]
    }
   ],
   "execution_count": 36
  },
  {
   "metadata": {
    "id": "2f01902829b07c6d"
   },
   "cell_type": "markdown",
   "source": [
    "This is our data augmentation for the training set, to get more unique data and prevent overfitting, these transformations are applied dynamically during training, so sample images will be different each time, effectively increasing the size of the training set"
   ],
   "id": "2f01902829b07c6d"
  },
  {
   "metadata": {
    "id": "71d5e6ce15be89b1",
    "ExecuteTime": {
     "end_time": "2025-09-01T05:03:00.312148Z",
     "start_time": "2025-09-01T05:03:00.309908Z"
    }
   },
   "cell_type": "code",
   "source": [
    "#Doing data augmentation for training set to get more data and prevent overfitting\n",
    "#These are applied to the training set only, not the validation or test set\n",
    "#They are applied dynamically during training, so sample images will be different each time, effectively increasing the size of the training set\n",
    "\n",
    "\n",
    "#Training transformations with data augmentation\n",
    "training_augmentation_transforms = transforms.Compose([\n",
    "    #Standard transformations for the dataset, we will still use these for training (rest below)\n",
    "    transforms.ToPILImage(), # Convert numpy array to PIL Image\n",
    "    #Data augmentation transformations for training\n",
    "    # p= probability of applying the transformation, 0.2 means 20% chance of applying the transformation\n",
    "\n",
    "    #RandomApply makes any transformation randomly applied with a probability p, so we can apply the same transformation with a probability of 0.2\n",
    "\n",
    "    #50% chance of:\n",
    "    transforms.RandomApply(\n",
    "      [\n",
    "          transforms.RandomCrop(size=430, pad_if_needed=True)\n",
    "      ], # Randomly crop the image to 430 in random locations, pad if needed to maintain the size for input to the model (82 pixels on each side, so 82+430+82=512)\n",
    "      p=0.5),\n",
    "\n",
    "\n",
    "    #50% chance of:\n",
    "    transforms.RandomApply(\n",
    "        [\n",
    "            transforms.RandomRotation(30)\n",
    "        ],\n",
    "        p=0.5),\n",
    "\n",
    "    #50% chance of:\n",
    "      transforms.RandomApply([\n",
    "      transforms.ColorJitter(\n",
    "          brightness=0.3,   # +/- 30% brightness\n",
    "          contrast=0.3,     # +/- 30% contrast\n",
    "          saturation=0.3,   # +/- 30% saturation\n",
    "          hue=0.1           # +/- 0.1 hue shift (~36 degrees)\n",
    "      )\n",
    "  ], p=0.5),\n",
    "\n",
    "    transforms.RandomGrayscale(p=0.2),\n",
    "\n",
    "    transforms.RandomAdjustSharpness(sharpness_factor=2,p=0.4), # Randomly adjust the sharpness of the image\n",
    "    transforms.RandomAdjustSharpness(sharpness_factor=0.5,p=0.4), # Randomly adjust the sharpness of the image\n",
    "\n",
    "    transforms.Resize((512, 512)), # Resize the image to 512x512 for consistency and to match the model input size\n",
    "    transforms.ToTensor(), # Convert PIL Image to tensor\n",
    "    transforms.Normalize(mean=[0.485, 0.456, 0.406], std=[0.229, 0.224, 0.225])\n",
    "])"
   ],
   "id": "71d5e6ce15be89b1",
   "outputs": [],
   "execution_count": 37
  },
  {
   "metadata": {
    "id": "828fb014740607ba"
   },
   "cell_type": "markdown",
   "source": [
    "Splitting the dataset into training, validation, and test sets, 70% training, 15% validation, 15% test, in order to get transformations applied dynamically during training, we need to create the datasets after the split"
   ],
   "id": "828fb014740607ba"
  },
  {
   "metadata": {
    "id": "d530f2890ee254e3",
    "ExecuteTime": {
     "end_time": "2025-09-01T05:03:00.331140Z",
     "start_time": "2025-09-01T05:03:00.328075Z"
    }
   },
   "cell_type": "code",
   "source": [
    "from sklearn.model_selection import train_test_split\n",
    "# Split the dataset into training, validation, and test sets\n",
    "train_df, test_df = train_test_split(df, test_size=0.3, random_state=42) # 70% training, 30% test\n",
    "val_df, test_df = train_test_split(test_df, test_size=0.5, random_state=42)  # Split the test set into validation and test sets\n",
    "#This gives us 70% training, 15% validation, and 15% test sets"
   ],
   "id": "d530f2890ee254e3",
   "outputs": [],
   "execution_count": 38
  },
  {
   "metadata": {
    "id": "59b21ec2be329e7"
   },
   "cell_type": "markdown",
   "source": [
    "Creating the datasets with the appropriate transformations using train_df val_df and test_df"
   ],
   "id": "59b21ec2be329e7"
  },
  {
   "metadata": {
    "id": "37259b001bc7523c",
    "ExecuteTime": {
     "end_time": "2025-09-01T05:03:00.334741Z",
     "start_time": "2025-09-01T05:03:00.333079Z"
    }
   },
   "cell_type": "code",
   "source": [
    "train_dataset = ImageDataset(train_df, img_dir='raw_images_organised', transform=training_augmentation_transforms)  # Create the training dataset with data augmentation\n",
    "test_dataset = ImageDataset(test_df, img_dir='raw_images_organised', transform=val_test_standard_transforms)  # Create the test dataset with standard transformations\n",
    "val_dataset = ImageDataset(val_df, img_dir='raw_images_organised', transform=val_test_standard_transforms)  # Create the validation dataset with standard transformations"
   ],
   "id": "37259b001bc7523c",
   "outputs": [],
   "execution_count": 39
  },
  {
   "metadata": {
    "id": "86ad59fab4f69ccc",
    "colab": {
     "base_uri": "https://localhost:8080/"
    },
    "outputId": "3d1af451-0f93-4601-987f-bdc2f3255d9a",
    "ExecuteTime": {
     "end_time": "2025-09-01T05:03:00.344456Z",
     "start_time": "2025-09-01T05:03:00.342921Z"
    }
   },
   "cell_type": "code",
   "source": [
    "print(train_dataset.transform)\n",
    "print(test_dataset.transform)\n",
    "print(val_dataset.transform)"
   ],
   "id": "86ad59fab4f69ccc",
   "outputs": [
    {
     "output_type": "stream",
     "name": "stdout",
     "text": [
      "Compose(\n",
      "      ToPILImage()\n",
      "      RandomApply(    RandomCrop(size=(430, 430), pad_if_needed=True, fill=0, padding_mode=constant))\n",
      "      RandomApply(    RandomRotation(degrees=[-30.0, 30.0], interpolation=InterpolationMode.NEAREST, expand=False, fill=0))\n",
      "      RandomApply(    ColorJitter(brightness=(0.7, 1.3), contrast=(0.7, 1.3), saturation=(0.7, 1.3), hue=(-0.1, 0.1)))\n",
      "      RandomGrayscale(p=0.2)\n",
      "      RandomAdjustSharpness(p=0.4, sharpness_factor=2)\n",
      "      RandomAdjustSharpness(p=0.4, sharpness_factor=0.5)\n",
      "      Resize(size=[512, 512], interpolation=InterpolationMode.BILINEAR, antialias=True)\n",
      "      ToTensor()\n",
      "      Normalize(mean=[0.485, 0.456, 0.406], std=[0.229, 0.224, 0.225], inplace=False)\n",
      ")\n",
      "Compose(\n",
      "      ToPILImage()\n",
      "      Resize(size=[512, 512], interpolation=InterpolationMode.BILINEAR, antialias=True)\n",
      "      ToTensor()\n",
      "      Normalize(mean=[0.485, 0.456, 0.406], std=[0.229, 0.224, 0.225], inplace=False)\n",
      ")\n",
      "Compose(\n",
      "      ToPILImage()\n",
      "      Resize(size=[512, 512], interpolation=InterpolationMode.BILINEAR, antialias=True)\n",
      "      ToTensor()\n",
      "      Normalize(mean=[0.485, 0.456, 0.406], std=[0.229, 0.224, 0.225], inplace=False)\n",
      ")\n"
     ]
    }
   ],
   "execution_count": 40
  },
  {
   "metadata": {
    "id": "2499c30687e87a61"
   },
   "cell_type": "markdown",
   "source": [
    "These will produce the batches for training, validation, and testing, shuffling the training data to prevent overfitting. These are what creates that shape (batch_size, channels, height, width) for the model input. in order case of (32, 3, 512, 512) for a batch size of 32, 3 channels (RGB), and 512x512 image size\n",
    "\n",
    "Lower batch sizes means more randomness in how the batches are created, helping with overfitting"
   ],
   "id": "2499c30687e87a61"
  },
  {
   "metadata": {
    "id": "c0c0ba7631217bf1",
    "ExecuteTime": {
     "end_time": "2025-09-01T05:03:00.354228Z",
     "start_time": "2025-09-01T05:03:00.352390Z"
    }
   },
   "cell_type": "code",
   "source": [
    "#Data loaders for batching and shuffling the data\n",
    "train_loader = DataLoader(train_dataset, batch_size=32, shuffle=True)\n",
    "val_loader = DataLoader(val_dataset, batch_size=32, shuffle=False)\n",
    "test_loader = DataLoader(test_dataset, batch_size=32, shuffle=False)"
   ],
   "id": "c0c0ba7631217bf1",
   "outputs": [],
   "execution_count": 41
  },
  {
   "metadata": {
    "id": "a72726019a18c8ed",
    "colab": {
     "base_uri": "https://localhost:8080/"
    },
    "outputId": "2fabbe30-70d2-446c-dcb7-e169f676fe6c",
    "ExecuteTime": {
     "end_time": "2025-09-01T05:03:00.425176Z",
     "start_time": "2025-09-01T05:03:00.362299Z"
    }
   },
   "cell_type": "code",
   "source": [
    "train_images, train_labels = next(iter(train_loader))\n",
    "print(train_images.shape, train_labels.shape)"
   ],
   "id": "a72726019a18c8ed",
   "outputs": [
    {
     "output_type": "stream",
     "name": "stdout",
     "text": [
      "torch.Size([16, 3, 512, 512]) torch.Size([16, 4])\n"
     ]
    }
   ],
   "execution_count": 42
  },
  {
   "metadata": {
    "id": "19794fe2f6c9090a"
   },
   "cell_type": "markdown",
   "source": [
    "Rendering some sample images from the training set to check that the data augmentation is working as expected"
   ],
   "id": "19794fe2f6c9090a"
  },
  {
   "metadata": {
    "id": "70ad5d1517517095",
    "colab": {
     "base_uri": "https://localhost:8080/",
     "height": 261
    },
    "outputId": "8d8037bc-b775-4e63-e6ef-d3440c7a86b8",
    "ExecuteTime": {
     "end_time": "2025-09-01T05:03:00.560555Z",
     "start_time": "2025-09-01T05:03:00.433774Z"
    }
   },
   "cell_type": "code",
   "source": [
    "from torchvision.utils import make_grid\n",
    "\n",
    "def imshow(img):\n",
    "    img = img / 2 + 0.5     # unnormalize\n",
    "    npimg = img.numpy()\n",
    "    plt.imshow(np.transpose(npimg, (1, 2, 0)))\n",
    "    plt.show()\n",
    "\n",
    "print(train_images.dtype)  # Check the shape of the images tensor\n",
    "print(train_labels.dtype)  # Check the shape of the labels tensor\n",
    "\n",
    "imshow(make_grid(train_images))"
   ],
   "id": "70ad5d1517517095",
   "outputs": [
    {
     "output_type": "stream",
     "name": "stderr",
     "text": [
      "WARNING:matplotlib.image:Clipping input data to the valid range for imshow with RGB data ([0..1] for floats or [0..255] for integers). Got range [-0.558952..1.82].\n"
     ]
    },
    {
     "output_type": "stream",
     "name": "stdout",
     "text": [
      "torch.float32\n",
      "torch.int64\n"
     ]
    },
    {
     "output_type": "display_data",
     "data": {
      "text/plain": [
       "<Figure size 640x480 with 1 Axes>"
      ],
      "image/png": "[encoded data removed]"
     },
     "metadata": {}
    }
   ],
   "execution_count": 43
  },
  {
   "metadata": {
    "id": "13b259acd2befb26"
   },
   "cell_type": "markdown",
   "source": [
    "Class weights to handle class imbalance, using custom function based on sklearn's compute_class_weight function"
   ],
   "id": "13b259acd2befb26"
  },
  {
   "metadata": {
    "id": "84521c06cf16fa5f",
    "ExecuteTime": {
     "end_time": "2025-09-01T05:03:00.573284Z",
     "start_time": "2025-09-01T05:03:00.571345Z"
    }
   },
   "cell_type": "code",
   "source": [
    "#n_samples / (n_classes * np.bincount(y))\n",
    "\n",
    "#Build my own class weight function\n",
    "\n",
    "def class_weights(data: DataFrame):\n",
    "    weights = []\n",
    "    for col in data.columns[1:]:  # Skip the first column (img_name)\n",
    "        classes = data[col].unique()\n",
    "        total_samples = len(data[col])\n",
    "        class_weight = total_samples / (len(classes) * data[col].value_counts())\n",
    "        weights.append(class_weight[1]) # Assuming the positive class is the second one (1)\n",
    "    class_weights = torch.tensor(weights, dtype=torch.float32)\n",
    "\n",
    "    return class_weights"
   ],
   "id": "84521c06cf16fa5f",
   "outputs": [],
   "execution_count": 44
  },
  {
   "metadata": {},
   "cell_type": "markdown",
   "source": "Because i balanced the settings to be around 1800 each, the class weights are all around 1, so not needed anymore",
   "id": "552945e1b52a0f18"
  },
  {
   "metadata": {
    "id": "127afb1be3e34886",
    "colab": {
     "base_uri": "https://localhost:8080/"
    },
    "outputId": "70c701ba-2210-4b36-d350-5b3b1a074f32",
    "ExecuteTime": {
     "end_time": "2025-09-01T05:03:00.592776Z",
     "start_time": "2025-09-01T05:03:00.589634Z"
    }
   },
   "cell_type": "code",
   "source": [
    "# weights = class_weights(df)\n",
    "# print(weights)"
   ],
   "id": "127afb1be3e34886",
   "outputs": [
    {
     "output_type": "stream",
     "name": "stdout",
     "text": [
      "tensor([7.6650, 1.2303, 2.1116, 1.7148])\n"
     ]
    }
   ],
   "execution_count": 45
  },
  {
   "metadata": {
    "id": "6d125e2e6677262a"
   },
   "cell_type": "markdown",
   "source": [
    "Cross entropy loss function for multiclass classification, with class weights to handle class imbalance, and moving it to the appropriate device (GPU if available). this cost function combines softmax and negative log likelihood loss, so we don't need to apply softmax to the model outputs before passing them to the loss function"
   ],
   "id": "6d125e2e6677262a"
  },
  {
   "metadata": {
    "id": "8d6140e37a73bd72",
    "ExecuteTime": {
     "end_time": "2025-09-01T05:03:00.600317Z",
     "start_time": "2025-09-01T05:03:00.594848Z"
    }
   },
   "cell_type": "code",
   "source": [
    "# #Applyimg multiclass classification loss function\n",
    "# criterion = nn.CrossEntropyLoss(weight=weights).to(device) #Contains softmax and negative log likelihood loss"
   ],
   "id": "8d6140e37a73bd72",
   "outputs": [],
   "execution_count": 46
  },
  {
   "metadata": {},
   "cell_type": "code",
   "outputs": [],
   "execution_count": null,
   "source": "criterion = torch.nn.CrossEntropyLoss().to(device) #Contains softmax and negative log likelihood loss, no longer needs class weights set because i balanced the dataset",
   "id": "50cd80d50b2327ea"
  },
  {
   "metadata": {
    "id": "58dbbb268934155d"
   },
   "cell_type": "markdown",
   "source": [
    "Our model architecture, a CNN with 9 convolutional layers, batch normalization, dropout, max pooling, and global average pooling before the final fully connected layer for classification. Using ReLU activation functions after each convolutional layer to introduce non-linearity. The model is designed to take in 512x512 RGB images and output class scores for each of the classes in the dataset. These can then have argmax applied to get the predicted class for each image, creating class indices (0,1,2,3) which is what CrossEntropyLoss wants, instead of one-hot\n",
    "\n",
    "If you make a model too big that itself can cause it to learn complex patterns which create overfitting"
   ],
   "id": "58dbbb268934155d"
  },
  {
   "metadata": {
    "id": "1afce429f0732539",
    "ExecuteTime": {
     "end_time": "2025-09-01T05:03:00.612763Z",
     "start_time": "2025-09-01T05:03:00.608367Z"
    }
   },
   "cell_type": "code",
   "source": [
    "#https://arxiv.org/pdf/1512.03385\n",
    "#Decided to copy what paper is doing with kernal sizes etc\n",
    "import torch.nn.functional as F\n",
    "\n",
    "class Model(nn.Module):\n",
    "    def __init__(self, num_classes):\n",
    "        super(Model, self).__init__()\n",
    "        self.dropout = nn.Dropout(0.2)\n",
    "        self.max_pool = nn.MaxPool2d(2, 2)\n",
    "        self.conv1 = nn.Conv2d(3, 64, kernel_size=5, stride=1, padding=2) # Input channels = 3 (RGB), output channels = 32, kernel size = 5x5, stride = 1, padding = 2 (to keep the spatial dimensions the same)\n",
    "\n",
    "        self.bn1 = nn.BatchNorm2d(64)\n",
    "        self.conv2 = nn.Conv2d(64, 64, kernel_size=3, stride=1)\n",
    "        self.bn2 = nn.BatchNorm2d(64)\n",
    "        self.conv3 = nn.Conv2d(64, 64, kernel_size=3, stride=1)\n",
    "        self.bn3 = nn.BatchNorm2d(64)\n",
    "        self.conv4 = nn.Conv2d(64, 128, kernel_size=3, stride=1)\n",
    "        self.bn4 = nn.BatchNorm2d(128)\n",
    "        self.conv5 = nn.Conv2d(128, 128, kernel_size=3, stride=1)\n",
    "        self.bn5 = nn.BatchNorm2d(128)\n",
    "        self.conv6 = nn.Conv2d(128, 128, kernel_size=3, stride=1)\n",
    "        self.bn6 = nn.BatchNorm2d(128)\n",
    "        self.conv7 = nn.Conv2d(128, 128, kernel_size=3, stride=1)\n",
    "        #Channels are the amount of filters applied to our spatial data, giving depth to our feature map\n",
    "        #The spatial data will shrink because of 'edge issue' with CNN look at notes for more details\n",
    "        self.bn7 = nn.BatchNorm2d(128)\n",
    "\n",
    "        self.avg_global_pool = nn.AdaptiveAvgPool2d(1) # Global average pooling converts our (batch size, num_channels, height width) spatial dimensions into the average per channel across the height and width of the image.\n",
    "        #This makes our shape (batch_size, num_channels, 1,1) containing just the average per each channel across the image (height and width)\n",
    "        #for us its (batch_size, 64, 1,1)\n",
    "        #once flattened this becomes (batch_size, 64 (channels))\n",
    "        #This avoids us needing a fully connected layer with loads of parameters to deal with the large spatial dimensions\n",
    "\n",
    "        self.fc1 = nn.Linear(128, num_classes) #Classification layer\n",
    "    def forward(self, x):\n",
    "        # Input x is of shape (batch_size, 3, 512, 512)\n",
    "        x = self.conv1(x)\n",
    "        #Spatial data: output shape will be (batch_size, 64, 512, 512) because of padding=2\n",
    "\n",
    "        x = self.bn1(x) #Batch normalization to stabilize and speed up training by normalizing the activations of the previous layer\n",
    "        x = F.relu(x) #ReLU activation function to bring non-linearity to the model\n",
    "\n",
    "        x = self.conv2(x)\n",
    "        #Spatial data: output shape will be (batch_size, 64, 510, 510) because of no padding and kernel size of 3\n",
    "\n",
    "        x = self.bn2(x)\n",
    "        x = F.relu(x)\n",
    "        # x = self.dropout(x) removing dropout to increase stability of training, increasing L2 regularization and augmentation instead\n",
    "\n",
    "\n",
    "        x = self.conv3(x)\n",
    "        #Spatial data: output shape will be (batch_size, 64, 508, 508) because of no padding and kernel size of 3\n",
    "\n",
    "        x = self.bn3(x)\n",
    "        x = F.relu(x)\n",
    "\n",
    "        x = self.max_pool(x)  # Max pooling layer, reduces the spatial dimensions by half, you should only pool after a few convolutional layers\n",
    "        #This will take only the most important features from the feature map, and reduce the spatial dimensions to (batch_size, 64, 254, 254)\n",
    "\n",
    "        x = self.conv4(x)\n",
    "        #Spatial data: output shape will be (batch_size, 128, 252, 252) because of no padding and kernel size of 3\n",
    "\n",
    "        x = self.bn4(x)\n",
    "        x = F.relu(x)\n",
    "        # x = self.dropout(x) removing dropout to increase stability of training, increasing L2 regularization and augmentation instead\n",
    "\n",
    "        x = self.conv5(x)\n",
    "        #Spatial data: output shape will be (batch_size, 128, 250, 250) because of no padding and kernel size of 3\n",
    "\n",
    "        x = self.bn5(x)\n",
    "        x = F.relu(x)\n",
    "\n",
    "        x = self.conv6(x)\n",
    "        #Spatial data: output shape will be (batch_size, 128, 248, 248) because of no padding and kernel size of 3\n",
    "\n",
    "        x = self.bn6(x)\n",
    "        x = F.relu(x)\n",
    "\n",
    "        x = self.max_pool(x)  # Max pooling layer, reduces the spatial dimensions by half\n",
    "        #This will take only the most important features from the feature map, and reduce the spatial dimensions to (batch_size, 128, 124, 124)\n",
    "\n",
    "        x = self.conv7(x)\n",
    "        #Spatial data: output shape will be (batch_size, 256, 122, 122) because of no padding and kernel size of 3\n",
    "\n",
    "        x = self.bn7(x)\n",
    "        x = F.relu(x)\n",
    "\n",
    "        #At the end here our spatial data is 122*122*256 channels because each filter gives an output per location in the spatial data\n",
    "\n",
    "        #So we have 256 filters, each giving an output for each of the 122*122 locations in the spatial data\n",
    "\n",
    "        #This is a lot of data, and would require a huge fully connected layer to process it all, so we use global average pooling to reduce the spatial dimensions to an average per channel across the height and width of the image\n",
    "        #Making its output: (batch_size, 128, 1, 1)\n",
    "        x = self.avg_global_pool(x)\n",
    "\n",
    "\n",
    "        x = torch.flatten(x, 1)  # Flatten the output for the fully connected layer, keeping the batch dimension into (batch_size, 256)\n",
    "\n",
    "        x = self.fc1(x)  # Fully connected layer for classification\n",
    "\n",
    "        return x\n",
    "\n",
    "    def train_epoch(self, train_loader, loss_values):\n",
    "        running_loss = 0.0 #Running loss for the epoch, we will average it later\n",
    "\n",
    "        # Every data instance is an input + label pair, in a batch of 32\n",
    "        for i, data in enumerate(train_loader): #enumerate give us a counter as well as the data\n",
    "            inputs, labels = data #Get the inputs and labels from the batch\n",
    "            #Has to be .float for CrossEntropyLoss\n",
    "            inputs, labels = inputs.to(device), torch.argmax(labels, dim=1).to(device)  # changes label to class indices (1,2,3,4) which is what CrossEntropyLoss wants, instead of one-hot\n",
    "\n",
    "            optimizer.zero_grad() # Zero your gradients for every batch!\n",
    "\n",
    "            outputs = self(inputs) # Make predictions for this batch (forward pass)\n",
    "\n",
    "            loss = criterion(outputs, labels) # Calculate the loss for this batch using the cost function defined earlier\n",
    "            loss.backward()  # Backpropagate the loss for this batch (backward pass)\n",
    "\n",
    "            optimizer.step() # Adjust learning weights with gradient descent, using the gradients from backpropagation (step the optimizer)\n",
    "            running_loss += loss.item() # running_loss is the total loss for the epoch, we will average it later\n",
    "\n",
    "        avg_loss = running_loss / len(train_loader) # Average loss for the epoch (over the all batches in the training set, given by len(train_loader))\n",
    "\n",
    "        loss_values.append(avg_loss) #log the average loss for the epoch to the loss_values list\n",
    "        return avg_loss, loss_values"
   ],
   "id": "1afce429f0732539",
   "outputs": [],
   "execution_count": 47
  },
  {
   "cell_type": "code",
   "source": [
    "# from google.colab import drive\n",
    "# drive.mount('/content/drive')"
   ],
   "metadata": {
    "id": "A4m01gQqrc-j",
    "ExecuteTime": {
     "end_time": "2025-09-01T05:03:00.622305Z",
     "start_time": "2025-09-01T05:03:00.620899Z"
    }
   },
   "id": "A4m01gQqrc-j",
   "outputs": [],
   "execution_count": 48
  },
  {
   "cell_type": "code",
   "source": [
    "model = Model(4).to(device)  # 4 classes"
   ],
   "metadata": {
    "id": "KKwRICK45FVF",
    "ExecuteTime": {
     "end_time": "2025-09-01T05:03:00.642587Z",
     "start_time": "2025-09-01T05:03:00.630311Z"
    }
   },
   "id": "KKwRICK45FVF",
   "outputs": [],
   "execution_count": 49
  },
  {
   "metadata": {
    "id": "f1a923d7dcd71832"
   },
   "cell_type": "markdown",
   "source": [
    "L2 regularization to prevent overfitting, Adam optimizer for training the model, with a learning rate of 0.001 and weight decay of 1e-8 for L2 regularization\n",
    "This optimizer will update the model weights during training to minimize the loss function.\n",
    "\n",
    "Adams optimizer it gives each weight its own learning rate"
   ],
   "id": "f1a923d7dcd71832"
  },
  {
   "metadata": {
    "id": "adf1ac72e82f6519",
    "ExecuteTime": {
     "end_time": "2025-09-01T05:03:00.653085Z",
     "start_time": "2025-09-01T05:03:00.651404Z"
    }
   },
   "cell_type": "code",
   "source": "optimizer = torch.optim.Adam(model.parameters(), lr=1e-3, weight_decay=1e-5) #Increasing weight decay to 1e-5 to see if it helps with overfitting",
   "id": "adf1ac72e82f6519",
   "outputs": [],
   "execution_count": 50
  },
  {
   "metadata": {
    "id": "3f23d5ac26a4d21e"
   },
   "cell_type": "markdown",
   "source": [
    "This doesn't seem to be working properly, so disabling it for now, but keeping the code here in case we want to try it again later"
   ],
   "id": "3f23d5ac26a4d21e"
  },
  {
   "metadata": {
    "id": "490b6e8c55ac0c58",
    "ExecuteTime": {
     "end_time": "2025-09-01T05:03:00.663146Z",
     "start_time": "2025-09-01T05:03:00.661051Z"
    }
   },
   "cell_type": "code",
   "source": [
    "recent_train_losses = []  # List to keep track of recent training losses for early stopping\n",
    "previous_train_losses = []\n",
    "\n",
    "#This was broken - made a change idk now\n",
    "def early_stopping(avg_loss,patience=5):\n",
    "\n",
    "    if len(recent_train_losses) < patience:\n",
    "        recent_train_losses.append(avg_loss)  # Add the current average loss to the recent losses\n",
    "\n",
    "    if len(previous_train_losses) < patience:\n",
    "        previous_train_losses.append(recent_train_losses[0])\n",
    "        recent_train_losses.pop(0)\n",
    "\n",
    "    if len(recent_train_losses) == patience and len(previous_train_losses) == patience:\n",
    "        avg_of_previous_losses = np.mean(previous_train_losses)\n",
    "        avg_of_recent_previous_losses = np.mean(recent_train_losses)\n",
    "        if avg_of_previous_losses < avg_of_recent_previous_losses:\n",
    "            print(f\"Early stopping condition met: {avg_of_previous_losses} < {avg_of_recent_previous_losses}\")\n",
    "            return True, recent_train_losses, previous_train_losses  # Early stopping condition met\n",
    "\n",
    "        print(f\"Early stopping condition not met: {avg_of_previous_losses} >= {avg_of_recent_previous_losses}\")\n",
    "        previous_train_losses.append(recent_train_losses[0])  #Add oldest recent loss to previous losses\n",
    "        recent_train_losses.pop(0)  # Remove the oldest loss to maintain the size of the list\n",
    "\n",
    "    return False, recent_train_losses, previous_train_losses  # No early stopping condition met\n"
   ],
   "id": "490b6e8c55ac0c58",
   "outputs": [],
   "execution_count": 51
  },
  {
   "metadata": {
    "id": "3132729a3bdcb6b9",
    "colab": {
     "base_uri": "https://localhost:8080/"
    },
    "outputId": "6b3ad05e-2d45-4eeb-ec1f-005862d28b2e",
    "ExecuteTime": {
     "end_time": "2025-09-01T06:14:12.680762Z",
     "start_time": "2025-09-01T05:03:00.671857Z"
    }
   },
   "cell_type": "code",
   "source": [
    "from datetime import datetime\n",
    "from torch.utils.tensorboard import SummaryWriter\n",
    "\n",
    "#There's a bunch of tensorboard stuff in the pytorch tutorial, we don't need it for now, but we can add it later if we want to visualize the training process\n",
    "# Initializing in a separate cell so we can easily add more epochs to the same run\n",
    "timestamp = datetime.now().strftime('%Y%m%d_%H%M%S')\n",
    "writer = SummaryWriter('runs/classifier_trainer{}'.format(timestamp))\n",
    "\n",
    "EPOCHS = 300\n",
    "\n",
    "best_vloss = 1_000_000. #Super big number to start with, so we can save the model if the validation loss is lower than this\n",
    "\n",
    "# Initialize lists to keep track of loss values for plotting later\n",
    "loss_values = []\n",
    "val_loss_values = []\n",
    "\n",
    "\n",
    "total_val_data = len(val_loader)\n",
    "for epoch in range(EPOCHS):\n",
    "    print('EPOCH {}:'.format(epoch + 1)) # Start counting epochs from 1 for better readability\n",
    "\n",
    "    # Make sure gradient tracking is on, and do a pass over the data, so we are not in evaluation mode.\n",
    "    model.train(True)\n",
    "\n",
    "    #Actually train the model, this is where the training happens\n",
    "    #Keep track of loss values for plotting later, keep giving the loss_values array to the train_one_epoch function so that it keeps track of the loss values\n",
    "    avg_loss, loss_values = model.train_epoch(train_loader, loss_values)\n",
    "\n",
    "    early_stop,recent_train_losses, previous_train_losses = early_stopping(avg_loss,patience=5)  # Check if early stopping condition is met\n",
    "\n",
    "    running_vloss = 0.0\n",
    "    # Set the model to evaluation mode, disabling dropout and using population\n",
    "    # statistics for batch normalization.\n",
    "    model.eval()\n",
    "\n",
    "    #This is the validation loop, it will run after each epoch and compute the validation loss\n",
    "    # Disable gradient computation and reduce memory consumption.\n",
    "    with torch.no_grad():\n",
    "        for i, vdata in enumerate(val_loader, 0): #Computes the validation loss per epoch\n",
    "            vinputs, vlabels = vdata\n",
    "            vinputs, vlabels = vinputs.to(device), torch.argmax(vlabels, dim=1).to(device) #changes label to class indices (1,2,3,4) which is what CrossEntropyLoss wants, instead of one-hot\n",
    "            voutputs = model(vinputs)\n",
    "            vloss = criterion(voutputs, vlabels)\n",
    "            #running vloss is the total validation loss for the epoch, we will average it later\n",
    "            running_vloss += vloss.item()  # Add the validation loss for this batch to the running validation loss\n",
    "\n",
    "    # Average validation loss for the epoch (over the all batches in the validation set, given by len(val_loader))\n",
    "    avg_vloss = running_vloss / total_val_data\n",
    "    val_loss_values.append(avg_vloss)\n",
    "\n",
    "    #Gives the loss and validation loss for the epoch into the terminal\n",
    "    print('LOSS train {} valid {}'.format(avg_loss, avg_vloss))\n",
    "\n",
    "    # for both training and validation w]e log the average loss for the epoch\n",
    "    writer.add_scalars('Training vs. Validation Loss',\n",
    "                       { 'Training' : avg_loss, 'Validation' : avg_vloss },\n",
    "                       epoch + 1)\n",
    "    writer.flush()\n",
    "\n",
    "    #Track best performance, and save the model's state\n",
    "    if avg_vloss < best_vloss: #If the validation loss is lower than the best validation loss so far, save the model\n",
    "\n",
    "        #Best vloss starts at a super high number, so the first model will always be saved\n",
    "        best_vloss = avg_vloss\n",
    "        model_path = 'model_{}_{}'.format(timestamp, epoch + 1) # Save the model with a timestamp and epoch number (epoch + 1 to start from 1)\n",
    "        torch.save(model.state_dict(), model_path)\n",
    "\n",
    "#Disabling early stopping\n",
    "    # if early_stop:  # Check if early stopping condition is met\n",
    "    #     print(\"Early stopping triggered, stopping training.\")\n",
    "    #     break  # Stop training if early stopping condition is met\n",
    "\n",
    "    #Onto the next epoch, which will also run through all the batches in the training set and validation set and give the average los s for the epoch"
   ],
   "id": "3132729a3bdcb6b9",
   "outputs": [
    {
     "output_type": "stream",
     "name": "stdout",
     "text": [
      "EPOCH 1:\n",
      "LOSS train 1.3856932149075045 valid 1.334916185248982\n",
      "EPOCH 2:\n",
      "LOSS train 1.3852458194930954 valid 1.353718792850321\n",
      "EPOCH 3:\n",
      "LOSS train 1.361908185009909 valid 1.3605527390133252\n",
      "EPOCH 4:\n",
      "LOSS train 1.369606615883289 valid 1.325988682833585\n",
      "EPOCH 5:\n",
      "LOSS train 1.3654403391450938 valid 1.3777398277412762\n",
      "EPOCH 6:\n",
      "LOSS train 1.3475203018377322 valid 1.2860681089487942\n",
      "EPOCH 7:\n",
      "LOSS train 1.347545308051723 valid 1.2945508035746487\n",
      "EPOCH 8:\n",
      "LOSS train 1.3528607888977127 valid 1.3155929175290195\n",
      "EPOCH 9:\n",
      "LOSS train 1.3436978754430715 valid 1.2971058650450273\n",
      "EPOCH 10:\n",
      "Early stopping condition not met: 1.3735788348877782 >= 1.3472861371418037\n",
      "LOSS train 1.344806411478779 valid 1.3057745532556013\n",
      "EPOCH 11:\n",
      "LOSS train 1.3421917073797471 valid 1.2897096249190243\n",
      "EPOCH 12:\n",
      "LOSS train 1.3418963640043051 valid 1.29428260976618\n",
      "EPOCH 13:\n",
      "LOSS train 1.340259818157347 valid 1.2858071327209473\n",
      "EPOCH 14:\n",
      "LOSS train 1.3419944000716257 valid 1.3019813678481362\n",
      "EPOCH 15:\n",
      "LOSS train 1.3276491247781432 valid 1.2649037025191567\n",
      "EPOCH 16:\n",
      "LOSS train 1.3237272146904822 valid 1.2803459451957182\n",
      "EPOCH 17:\n",
      "LOSS train 1.3270153763270613 valid 1.442957955327901\n",
      "EPOCH 18:\n",
      "LOSS train 1.327807601725701 valid 1.280320021239194\n",
      "EPOCH 19:\n",
      "LOSS train 1.3279104156069237 valid 1.3108539906415073\n",
      "EPOCH 20:\n",
      "LOSS train 1.3232029635127227 valid 1.2588302222165195\n",
      "EPOCH 21:\n",
      "LOSS train 1.3150076335019405 valid 1.2970225512981415\n",
      "EPOCH 22:\n",
      "LOSS train 1.3206202352401053 valid 1.2922917875376614\n",
      "EPOCH 23:\n",
      "LOSS train 1.3086829598587337 valid 1.3404054858467795\n",
      "EPOCH 24:\n",
      "LOSS train 1.3187614968507597 valid 1.2894741594791412\n",
      "EPOCH 25:\n",
      "LOSS train 1.3079145279261146 valid 1.2636807452548633\n",
      "EPOCH 26:\n",
      "LOSS train 1.3120474301942504 valid 1.2500436427918347\n",
      "EPOCH 27:\n",
      "LOSS train 1.3061458409422695 valid 1.2421646605838428\n",
      "EPOCH 28:\n",
      "LOSS train 1.3026274171206031 valid 1.2408114346590908\n",
      "EPOCH 29:\n",
      "LOSS train 1.3141309111425192 valid 1.2756902006539432\n",
      "EPOCH 30:\n",
      "LOSS train 1.3069583785415877 valid 1.2759993157603524\n",
      "EPOCH 31:\n",
      "LOSS train 1.2905835671590107 valid 1.304389549927278\n",
      "EPOCH 32:\n",
      "LOSS train 1.2982617587146192 valid 1.2422276640480214\n",
      "EPOCH 33:\n",
      "LOSS train 1.2891209833692796 valid 1.2669768685644323\n",
      "EPOCH 34:\n",
      "LOSS train 1.2845628409102412 valid 1.589644593271342\n",
      "EPOCH 35:\n",
      "LOSS train 1.287543210652795 valid 1.2116607292131945\n",
      "EPOCH 36:\n",
      "LOSS train 1.2674022175297879 valid 1.3416039659218355\n",
      "EPOCH 37:\n",
      "LOSS train 1.274487298313934 valid 1.2110656283118508\n",
      "EPOCH 38:\n",
      "LOSS train 1.2654132834165404 valid 1.189810189333829\n",
      "EPOCH 39:\n",
      "LOSS train 1.2612645280833292 valid 1.2991938997398724\n",
      "EPOCH 40:\n",
      "LOSS train 1.262639303608696 valid 1.5168234204704112\n",
      "EPOCH 41:\n",
      "LOSS train 1.254392029920427 valid 1.1569231558929791\n",
      "EPOCH 42:\n",
      "LOSS train 1.2523439644586922 valid 1.223361374302344\n",
      "EPOCH 43:\n",
      "LOSS train 1.2455542149520156 valid 1.1900951334021308\n",
      "EPOCH 44:\n",
      "LOSS train 1.2476754244601374 valid 1.259507880969481\n",
      "EPOCH 45:\n",
      "LOSS train 1.240436447433906 valid 1.2651851678436452\n",
      "EPOCH 46:\n",
      "LOSS train 1.2415262717421691 valid 1.148721299388192\n",
      "EPOCH 47:\n",
      "LOSS train 1.221114841133061 valid 1.164544094692577\n",
      "EPOCH 48:\n",
      "LOSS train 1.2154948811719912 valid 1.2187866744670002\n",
      "EPOCH 49:\n",
      "LOSS train 1.232631616368152 valid 1.1567504487254403\n",
      "EPOCH 50:\n",
      "LOSS train 1.2269533199839073 valid 1.1999438377943905\n",
      "EPOCH 51:\n",
      "LOSS train 1.2175720853380638 valid 1.1878893077373505\n",
      "EPOCH 52:\n",
      "LOSS train 1.2134749927733204 valid 1.1238739409229972\n",
      "EPOCH 53:\n",
      "LOSS train 1.2004628842419918 valid 1.0988470248200677\n",
      "EPOCH 54:\n",
      "LOSS train 1.2134877953789023 valid 1.1214808320457286\n",
      "EPOCH 55:\n",
      "LOSS train 1.2023590850357961 valid 1.1318176849321886\n",
      "EPOCH 56:\n",
      "LOSS train 1.1983579757189986 valid 1.1712395345622844\n",
      "EPOCH 57:\n",
      "LOSS train 1.1903248027999802 valid 1.1279117112809962\n",
      "EPOCH 58:\n",
      "LOSS train 1.2029354687374416 valid 1.132729585197839\n",
      "EPOCH 59:\n",
      "LOSS train 1.194575527516922 valid 1.150672365318645\n",
      "EPOCH 60:\n",
      "LOSS train 1.207586243896201 valid 1.1134968400001526\n",
      "EPOCH 61:\n",
      "LOSS train 1.1950889852377449 valid 1.1504598246379332\n",
      "EPOCH 62:\n",
      "LOSS train 1.1756934199002709 valid 1.1123488409952684\n",
      "EPOCH 63:\n",
      "LOSS train 1.188771547362356 valid 1.1018535562536933\n",
      "EPOCH 64:\n",
      "LOSS train 1.1685850847475598 valid 1.0688088035041636\n",
      "EPOCH 65:\n",
      "LOSS train 1.1867887525275203 valid 1.0838771801103244\n",
      "EPOCH 66:\n",
      "LOSS train 1.169379447946454 valid 1.077056043527343\n",
      "EPOCH 67:\n",
      "LOSS train 1.1849446842576017 valid 1.0887001197446475\n",
      "EPOCH 68:\n",
      "LOSS train 1.182611734265148 valid 1.1177978542718021\n",
      "EPOCH 69:\n",
      "LOSS train 1.1719030457558017 valid 1.132841863415458\n",
      "EPOCH 70:\n",
      "LOSS train 1.1693082327889923 valid 1.0826263278722763\n",
      "EPOCH 71:\n",
      "LOSS train 1.1718965461938688 valid 1.157078198411248\n",
      "EPOCH 72:\n",
      "LOSS train 1.1688258597756376 valid 1.1506536955183202\n",
      "EPOCH 73:\n",
      "LOSS train 1.1626486533349103 valid 1.2112991132519462\n",
      "EPOCH 74:\n",
      "LOSS train 1.151463248352013 valid 1.1201861920681866\n",
      "EPOCH 75:\n",
      "LOSS train 1.1717400710181434 valid 1.0815809978680178\n",
      "EPOCH 76:\n",
      "LOSS train 1.1717911896729234 valid 1.0350205911831423\n",
      "EPOCH 77:\n",
      "LOSS train 1.1744742027603754 valid 1.1512046700174159\n",
      "EPOCH 78:\n",
      "LOSS train 1.1428787587302747 valid 1.094123756343668\n",
      "EPOCH 79:\n",
      "LOSS train 1.1659625759809324 valid 1.0815169431946494\n",
      "EPOCH 80:\n",
      "LOSS train 1.1506482159147169 valid 1.074474330652844\n",
      "EPOCH 81:\n",
      "LOSS train 1.1517387616752397 valid 1.0946502062407406\n",
      "EPOCH 82:\n",
      "LOSS train 1.135904232169142 valid 1.1049508479508487\n",
      "EPOCH 83:\n",
      "LOSS train 1.1559740712146949 valid 1.1317960037426515\n",
      "EPOCH 84:\n",
      "LOSS train 1.137139466434422 valid 1.082304166799242\n",
      "EPOCH 85:\n",
      "LOSS train 1.1490227544661795 valid 1.1184298247098923\n",
      "EPOCH 86:\n",
      "LOSS train 1.1328695313175126 valid 1.0444412272084842\n",
      "EPOCH 87:\n",
      "LOSS train 1.1259607053039098 valid 1.2193621695041656\n",
      "EPOCH 88:\n",
      "LOSS train 1.128582222626941 valid 1.1570311351255937\n",
      "EPOCH 89:\n",
      "LOSS train 1.1415046385609278 valid 1.36642155864022\n",
      "EPOCH 90:\n",
      "LOSS train 1.1203361557851923 valid 1.0185527246106754\n",
      "EPOCH 91:\n",
      "LOSS train 1.1350767889825424 valid 1.1662632944909008\n",
      "EPOCH 92:\n",
      "LOSS train 1.1294905389889631 valid 1.0689165023240177\n",
      "EPOCH 93:\n",
      "LOSS train 1.1329096092446016 valid 1.0289040912281384\n",
      "EPOCH 94:\n",
      "LOSS train 1.121380498798767 valid 1.053596251390197\n",
      "EPOCH 95:\n",
      "LOSS train 1.1384195546702582 valid 1.096460603854873\n",
      "EPOCH 96:\n",
      "LOSS train 1.11765191932716 valid 1.0604829828847537\n",
      "EPOCH 97:\n",
      "LOSS train 1.1117387239885803 valid 1.048465679992329\n",
      "EPOCH 98:\n",
      "LOSS train 1.1307121597894347 valid 1.0542522438547828\n",
      "EPOCH 99:\n",
      "LOSS train 1.128558404374831 valid 1.0213727246631275\n",
      "EPOCH 100:\n",
      "LOSS train 1.1129330753689946 valid 1.0221058258956128\n",
      "EPOCH 101:\n",
      "LOSS train 1.1024692383142982 valid 1.046790603886951\n",
      "EPOCH 102:\n",
      "LOSS train 1.1025829421411646 valid 1.1026674698699603\n",
      "EPOCH 103:\n",
      "LOSS train 1.112044512930483 valid 1.0441883260553533\n",
      "EPOCH 104:\n",
      "LOSS train 1.0865071247709859 valid 1.0788375979120082\n",
      "EPOCH 105:\n",
      "LOSS train 1.1168521678093637 valid 1.0165945413437756\n",
      "EPOCH 106:\n",
      "LOSS train 1.11477329500831 valid 1.041733213446357\n",
      "EPOCH 107:\n",
      "LOSS train 1.099968026475151 valid 1.0139896869659424\n",
      "EPOCH 108:\n",
      "LOSS train 1.1006504111360795 valid 1.0277470390905032\n",
      "EPOCH 109:\n",
      "LOSS train 1.0968792922425978 valid 0.9917102537371896\n",
      "EPOCH 110:\n",
      "LOSS train 1.1018720044948087 valid 1.1818684312430294\n",
      "EPOCH 111:\n",
      "LOSS train 1.0747974588729368 valid 1.1092112416570836\n",
      "EPOCH 112:\n",
      "LOSS train 1.1063437874954525 valid 1.0998619063334032\n",
      "EPOCH 113:\n",
      "LOSS train 1.1000707636375238 valid 1.011003624309193\n",
      "EPOCH 114:\n",
      "LOSS train 1.0964008094650683 valid 1.059906393289566\n",
      "EPOCH 115:\n",
      "LOSS train 1.0939192161111548 valid 1.0309485759247432\n",
      "EPOCH 116:\n",
      "LOSS train 1.1024719984224527 valid 1.081146928397092\n",
      "EPOCH 117:\n",
      "LOSS train 1.078337039687846 valid 1.0499707948077808\n",
      "EPOCH 118:\n",
      "LOSS train 1.0812899184108962 valid 1.0118514448404312\n",
      "EPOCH 119:\n",
      "LOSS train 1.07567366780621 valid 1.0404850434173236\n",
      "EPOCH 120:\n",
      "LOSS train 1.0813595575861412 valid 1.1936317709359257\n",
      "EPOCH 121:\n",
      "LOSS train 1.0809653103351593 valid 1.0662486241622404\n",
      "EPOCH 122:\n",
      "LOSS train 1.0812525029229645 valid 1.244282134554603\n",
      "EPOCH 123:\n",
      "LOSS train 1.088049031720303 valid 1.077306416901675\n",
      "EPOCH 124:\n",
      "LOSS train 1.0875503724754447 valid 1.0149278437549418\n",
      "EPOCH 125:\n",
      "LOSS train 1.0884192134484205 valid 1.1248643560843035\n",
      "EPOCH 126:\n",
      "LOSS train 1.067772345377667 valid 1.019852651791139\n",
      "EPOCH 127:\n",
      "LOSS train 1.0646997176774657 valid 1.0690640184012326\n",
      "EPOCH 128:\n",
      "LOSS train 1.1092713268676606 valid 1.0536034107208252\n",
      "EPOCH 129:\n",
      "LOSS train 1.0670747739253659 valid 0.9947156865488399\n",
      "EPOCH 130:\n",
      "LOSS train 1.0792660568610277 valid 1.147872117432681\n",
      "EPOCH 131:\n",
      "LOSS train 1.07647107349764 valid 1.0250157429413362\n",
      "EPOCH 132:\n",
      "LOSS train 1.0658765933891334 valid 1.1106896888126025\n",
      "EPOCH 133:\n",
      "LOSS train 1.0543790447829973 valid 1.0539967512542552\n",
      "EPOCH 134:\n",
      "LOSS train 1.0664542352799142 valid 1.0557741739533164\n",
      "EPOCH 135:\n",
      "LOSS train 1.0720339774495304 valid 1.0583055784756488\n",
      "EPOCH 136:\n",
      "LOSS train 1.0622130464209187 valid 1.2178312309763648\n",
      "EPOCH 137:\n",
      "LOSS train 1.0828304627154133 valid 1.1756671314889735\n",
      "EPOCH 138:\n",
      "LOSS train 1.0679930419024855 valid 1.189378788525408\n",
      "EPOCH 139:\n",
      "LOSS train 1.0477101374970805 valid 1.040874720974402\n",
      "EPOCH 140:\n",
      "LOSS train 1.0626672134541049 valid 1.0567625950683246\n",
      "EPOCH 141:\n",
      "LOSS train 1.0749923043912 valid 1.0406807918440213\n",
      "EPOCH 142:\n",
      "LOSS train 1.0487799051374491 valid 1.0519191541455009\n",
      "EPOCH 143:\n",
      "LOSS train 1.0412100659738672 valid 1.0424451055851849\n",
      "EPOCH 144:\n",
      "LOSS train 1.1030750737922026 valid 1.2733257196166299\n",
      "EPOCH 145:\n",
      "LOSS train 1.0639042134332184 valid 1.134984239935875\n",
      "EPOCH 146:\n",
      "LOSS train 1.064635413117928 valid 1.1543129804459484\n",
      "EPOCH 147:\n",
      "LOSS train 1.0446414165567643 valid 0.9803095256740396\n",
      "EPOCH 148:\n",
      "LOSS train 1.0380726424184177 valid 1.0455471202731133\n",
      "EPOCH 149:\n",
      "LOSS train 1.0448579991808031 valid 1.076765159314329\n",
      "EPOCH 150:\n",
      "LOSS train 1.0407917953953885 valid 1.2528644475069912\n",
      "EPOCH 151:\n",
      "LOSS train 1.066170719295445 valid 1.1478605283932253\n",
      "EPOCH 152:\n",
      "LOSS train 1.0448270292565374 valid 1.109783248467879\n",
      "EPOCH 153:\n",
      "LOSS train 1.026022595049131 valid 1.1356740404259076\n",
      "EPOCH 154:\n",
      "LOSS train 1.0293796508028956 valid 1.2903702746738086\n",
      "EPOCH 155:\n",
      "LOSS train 1.0332451601429742 valid 1.1061879233880476\n",
      "EPOCH 156:\n",
      "LOSS train 1.0244272808627326 valid 1.0442427769303322\n",
      "EPOCH 157:\n",
      "LOSS train 1.033197945592427 valid 1.0642290501431986\n",
      "EPOCH 158:\n",
      "LOSS train 1.052094535662396 valid 1.0512595163150267\n",
      "EPOCH 159:\n",
      "LOSS train 1.0360266637093951 valid 1.0605403211983768\n",
      "EPOCH 160:\n",
      "LOSS train 1.0363654579856607 valid 1.0510079671036114\n",
      "EPOCH 161:\n",
      "LOSS train 1.0528186081659676 valid 1.0696394010023638\n",
      "EPOCH 162:\n",
      "LOSS train 1.0386013294210528 valid 1.075233053077351\n",
      "EPOCH 163:\n",
      "LOSS train 1.0346296963715318 valid 0.9977767345580187\n",
      "EPOCH 164:\n",
      "LOSS train 1.0334423998794933 valid 1.0070889829234644\n",
      "EPOCH 165:\n",
      "LOSS train 1.023442426825514 valid 1.0180253264578907\n",
      "EPOCH 166:\n",
      "LOSS train 1.0062258891244926 valid 1.0148444947871296\n",
      "EPOCH 167:\n",
      "LOSS train 1.0185658568793003 valid 1.1164143268357625\n",
      "EPOCH 168:\n",
      "LOSS train 1.0284406601792515 valid 1.1341746164993807\n",
      "EPOCH 169:\n",
      "LOSS train 1.0092739675304678 valid 1.1778665794567629\n",
      "EPOCH 170:\n",
      "LOSS train 1.0147357403051736 valid 1.0414423143321818\n",
      "EPOCH 171:\n",
      "LOSS train 1.0202462227627782 valid 1.0613279207186266\n",
      "EPOCH 172:\n",
      "LOSS train 1.020389204568202 valid 1.1634366383606738\n",
      "EPOCH 173:\n",
      "LOSS train 1.0137944371983556 valid 0.9782136963172392\n",
      "EPOCH 174:\n",
      "LOSS train 1.0224090233297631 valid 1.1270710704001514\n",
      "EPOCH 175:\n",
      "LOSS train 1.024770097862376 valid 1.260728882117705\n",
      "EPOCH 176:\n",
      "LOSS train 1.0447273763394591 valid 1.0256917083805257\n",
      "EPOCH 177:\n",
      "LOSS train 1.0088179521631486 valid 1.0382005165923724\n",
      "EPOCH 178:\n",
      "LOSS train 1.0122473272356656 valid 1.1040149981325322\n",
      "EPOCH 179:\n",
      "LOSS train 0.9958492269610414 valid 1.0307395688512109\n",
      "EPOCH 180:\n",
      "LOSS train 1.0205393165054888 valid 1.0836037018082358\n",
      "EPOCH 181:\n",
      "LOSS train 1.017652158689971 valid 1.0395656241612001\n",
      "EPOCH 182:\n",
      "LOSS train 1.0123446353591314 valid 1.0323118973862042\n",
      "EPOCH 183:\n",
      "LOSS train 1.0079156172157515 valid 1.1060655564069748\n",
      "EPOCH 184:\n",
      "LOSS train 0.9941827920403811 valid 1.1270152479410172\n",
      "EPOCH 185:\n",
      "LOSS train 1.0086273536233619 valid 0.9837899492545561\n",
      "EPOCH 186:\n",
      "LOSS train 1.012178634062852 valid 1.019654165614735\n",
      "EPOCH 187:\n",
      "LOSS train 1.003782107245804 valid 1.164514377035878\n",
      "EPOCH 188:\n",
      "LOSS train 1.0021576801739116 valid 1.0744114924560895\n",
      "EPOCH 189:\n",
      "LOSS train 0.9950096117387904 valid 1.0197979950092055\n",
      "EPOCH 190:\n",
      "LOSS train 1.0109244416845906 valid 1.0438312292099\n",
      "EPOCH 191:\n",
      "LOSS train 1.0104838627399784 valid 1.0901943309740587\n",
      "EPOCH 192:\n",
      "LOSS train 0.9943410479786372 valid 1.017997388135303\n",
      "EPOCH 193:\n",
      "LOSS train 0.9809286880611193 valid 1.1995072256435046\n",
      "EPOCH 194:\n",
      "LOSS train 1.0065193090698508 valid 1.151727020740509\n",
      "EPOCH 195:\n",
      "LOSS train 0.9861372629604718 valid 1.1618777120655233\n",
      "EPOCH 196:\n",
      "LOSS train 0.9988661154662029 valid 1.0991822095079855\n",
      "EPOCH 197:\n",
      "LOSS train 0.9839313676451692 valid 1.0614775175398046\n",
      "EPOCH 198:\n",
      "LOSS train 0.9872299769137165 valid 1.3293377472595735\n",
      "EPOCH 199:\n",
      "LOSS train 0.9733105248743945 valid 1.2066221711310474\n",
      "EPOCH 200:\n",
      "LOSS train 1.0017209554662798 valid 1.2493788613514467\n",
      "EPOCH 201:\n",
      "LOSS train 1.000103784079599 valid 1.0655208853158085\n",
      "EPOCH 202:\n",
      "LOSS train 0.9781584482971984 valid 1.0846650830724023\n",
      "EPOCH 203:\n",
      "LOSS train 1.014329835034833 valid 0.9770417281172492\n",
      "EPOCH 204:\n",
      "LOSS train 0.977712089472478 valid 1.0203348655592313\n",
      "EPOCH 205:\n",
      "LOSS train 1.0021956863969859 valid 1.0384138538078829\n",
      "EPOCH 206:\n",
      "LOSS train 0.9877604938084537 valid 1.0536429326642642\n",
      "EPOCH 207:\n",
      "LOSS train 0.9870935086861695 valid 1.0840655903924594\n",
      "EPOCH 208:\n",
      "LOSS train 0.9703397072187745 valid 1.0754774151877924\n",
      "EPOCH 209:\n",
      "LOSS train 0.9800516785961566 valid 0.983413352207704\n",
      "EPOCH 210:\n",
      "LOSS train 0.9762702265588363 valid 0.9876997511495244\n",
      "EPOCH 211:\n",
      "LOSS train 0.9540436852096331 valid 1.0552059005607257\n",
      "EPOCH 212:\n",
      "LOSS train 0.9630128310458494 valid 1.127007775686004\n",
      "EPOCH 213:\n",
      "LOSS train 0.9753453399580304 valid 1.0269047780470415\n",
      "EPOCH 214:\n",
      "LOSS train 0.9760462517785554 valid 1.0546803576025097\n",
      "EPOCH 215:\n",
      "LOSS train 0.9741655062920976 valid 1.0016167637976734\n",
      "EPOCH 216:\n",
      "LOSS train 0.970626977410647 valid 1.0888957239010117\n",
      "EPOCH 217:\n",
      "LOSS train 0.9818844677198051 valid 1.0091186924414202\n",
      "EPOCH 218:\n",
      "LOSS train 0.9809316072133508 valid 1.2642801918766715\n",
      "EPOCH 219:\n",
      "LOSS train 0.9489308268126875 valid 1.0001144802028483\n",
      "EPOCH 220:\n",
      "LOSS train 0.9615967931723831 valid 1.1317740136926824\n",
      "EPOCH 221:\n",
      "LOSS train 0.9614996703544466 valid 1.0367110310630365\n",
      "EPOCH 222:\n",
      "LOSS train 0.983621083863891 valid 0.9867981211705641\n",
      "EPOCH 223:\n",
      "LOSS train 0.9653668267892139 valid 1.089350001378493\n",
      "EPOCH 224:\n",
      "LOSS train 0.9509480032000212 valid 1.0281667533245953\n",
      "EPOCH 225:\n",
      "LOSS train 0.9416373932715689 valid 1.0115025774999098\n",
      "EPOCH 226:\n",
      "LOSS train 0.9621242146090706 valid 1.1151093515482815\n",
      "EPOCH 227:\n",
      "LOSS train 0.9653136373156368 valid 1.087108618833802\n",
      "EPOCH 228:\n",
      "LOSS train 0.9490233655318175 valid 1.1543089774521915\n",
      "EPOCH 229:\n",
      "LOSS train 0.9431955621089085 valid 1.0605238554152576\n",
      "EPOCH 230:\n",
      "LOSS train 0.9477622343762087 valid 1.1773077926852487\n",
      "EPOCH 231:\n",
      "LOSS train 0.9578386081917452 valid 1.02108493108641\n",
      "EPOCH 232:\n",
      "LOSS train 0.9599790452140393 valid 0.9549297893589194\n",
      "EPOCH 233:\n",
      "LOSS train 0.9386668622788816 valid 1.0220464339310473\n",
      "EPOCH 234:\n",
      "LOSS train 0.9721878221129426 valid 1.1203227937221527\n",
      "EPOCH 235:\n",
      "LOSS train 0.9494679242667585 valid 1.0103561011227695\n",
      "EPOCH 236:\n",
      "LOSS train 0.9613742798861891 valid 1.0422054752707481\n",
      "EPOCH 237:\n",
      "LOSS train 0.9365907621265638 valid 1.1126587756655433\n",
      "EPOCH 238:\n",
      "LOSS train 0.9387908111704458 valid 0.9856516949155114\n",
      "EPOCH 239:\n",
      "LOSS train 0.9634674698999612 valid 1.1626291153105823\n",
      "EPOCH 240:\n",
      "LOSS train 0.9390123867162383 valid 1.0198886421593754\n",
      "EPOCH 241:\n",
      "LOSS train 0.9513246231149919 valid 1.0859686529094523\n",
      "EPOCH 242:\n",
      "LOSS train 0.9291015742438855 valid 1.3203303637829693\n",
      "EPOCH 243:\n",
      "LOSS train 0.9483708659611126 valid 1.007335131818598\n",
      "EPOCH 244:\n",
      "LOSS train 0.9668314597099135 valid 1.0425122664733366\n",
      "EPOCH 245:\n",
      "LOSS train 0.9466804969723862 valid 0.9764795980670236\n",
      "EPOCH 246:\n",
      "LOSS train 0.93831736026424 valid 0.999378729950298\n",
      "EPOCH 247:\n",
      "LOSS train 0.9277962247038832 valid 1.2435484989122911\n",
      "EPOCH 248:\n",
      "LOSS train 0.937727830492624 valid 1.0335307832468639\n",
      "EPOCH 249:\n",
      "LOSS train 0.9245347097368524 valid 1.0844924720850857\n",
      "EPOCH 250:\n",
      "LOSS train 0.9255632200453541 valid 1.0666600181297823\n",
      "EPOCH 251:\n",
      "LOSS train 0.9220992093629176 valid 1.0037435997616162\n",
      "EPOCH 252:\n",
      "LOSS train 0.918128145655783 valid 1.0092776438052005\n",
      "EPOCH 253:\n",
      "LOSS train 0.9151295557765677 valid 1.1654093130068346\n",
      "EPOCH 254:\n",
      "LOSS train 0.9326323618983278 valid 1.2370595335960388\n",
      "EPOCH 255:\n",
      "LOSS train 0.924898616748281 valid 1.0469036793166941\n",
      "EPOCH 256:\n",
      "LOSS train 0.9461899300908098 valid 1.0236266255378723\n",
      "EPOCH 257:\n",
      "LOSS train 0.9201265265150825 valid 1.0828232846476815\n",
      "EPOCH 258:\n",
      "LOSS train 0.9212845082920377 valid 1.0096431848677723\n",
      "EPOCH 259:\n",
      "LOSS train 0.9054567172090606 valid 1.0047488409009846\n",
      "EPOCH 260:\n",
      "LOSS train 0.9067347728379882 valid 1.1206791976636106\n",
      "EPOCH 261:\n",
      "LOSS train 0.8966326092434401 valid 1.0611341710795055\n",
      "EPOCH 262:\n",
      "LOSS train 0.9246652033364419 valid 1.1946663003076206\n",
      "EPOCH 263:\n",
      "LOSS train 0.8788381347266754 valid 1.1354022161527113\n",
      "EPOCH 264:\n",
      "LOSS train 0.9114110344412303 valid 1.0232585533098741\n",
      "EPOCH 265:\n",
      "LOSS train 0.9102298751620963 valid 1.0157964033159343\n",
      "EPOCH 266:\n",
      "LOSS train 0.910767864915404 valid 1.138575559312647\n",
      "EPOCH 267:\n",
      "LOSS train 0.8964496403932571 valid 1.0804302123459903\n",
      "EPOCH 268:\n",
      "LOSS train 0.9057705063040894 valid 0.9934905266219919\n",
      "EPOCH 269:\n",
      "LOSS train 0.9054683790643616 valid 1.050680274990472\n",
      "EPOCH 270:\n",
      "LOSS train 0.8977690797926176 valid 1.0149839825250886\n",
      "EPOCH 271:\n",
      "LOSS train 0.8919734385344061 valid 1.146320329471068\n",
      "EPOCH 272:\n",
      "LOSS train 0.9013151048433663 valid 0.9898377270861105\n",
      "EPOCH 273:\n",
      "LOSS train 0.8910390438124685 valid 1.043713164600459\n",
      "EPOCH 274:\n",
      "LOSS train 0.9051462749738505 valid 1.1076413474299691\n",
      "EPOCH 275:\n",
      "LOSS train 0.8842389815219558 valid 1.135486056858843\n",
      "EPOCH 276:\n",
      "LOSS train 0.8760592934518757 valid 1.1179225539619273\n",
      "EPOCH 277:\n",
      "LOSS train 0.893216137986372 valid 1.0696296400644563\n",
      "EPOCH 278:\n",
      "LOSS train 0.886427426839819 valid 1.0658346265554428\n",
      "EPOCH 279:\n",
      "LOSS train 0.9006745539384313 valid 1.0867979621345347\n",
      "EPOCH 280:\n",
      "LOSS train 0.8949225260184543 valid 1.1974229900674387\n",
      "EPOCH 281:\n",
      "LOSS train 0.8794776140758307 valid 1.1199975555593318\n",
      "EPOCH 282:\n",
      "LOSS train 0.9011000127780555 valid 0.9711772616613995\n",
      "EPOCH 283:\n",
      "LOSS train 0.87732133387339 valid 1.0654603960839184\n",
      "EPOCH 284:\n",
      "LOSS train 0.872335214573558 valid 1.0917033139954915\n",
      "EPOCH 285:\n",
      "LOSS train 0.86851634690077 valid 1.0195839384740049\n",
      "EPOCH 286:\n",
      "LOSS train 0.8823404984899087 valid 1.071397710252892\n",
      "EPOCH 287:\n",
      "LOSS train 0.8774096077621574 valid 1.0373940481380983\n",
      "EPOCH 288:\n",
      "LOSS train 0.888049704898702 valid 1.0264645618471233\n",
      "EPOCH 289:\n",
      "LOSS train 0.876366523527863 valid 1.0801329883662136\n",
      "EPOCH 290:\n",
      "LOSS train 0.8847482576228605 valid 1.0182042176073247\n",
      "EPOCH 291:\n",
      "LOSS train 0.887252674244418 valid 1.0369667708873749\n",
      "EPOCH 292:\n",
      "LOSS train 0.8909428000155062 valid 1.0736487412994558\n",
      "EPOCH 293:\n",
      "LOSS train 0.8740668886958962 valid 1.0875987552783706\n",
      "EPOCH 294:\n",
      "LOSS train 0.9067050450214065 valid 1.0425703180107204\n",
      "EPOCH 295:\n",
      "LOSS train 0.8634799454766925 valid 1.1747529601508921\n",
      "EPOCH 296:\n",
      "LOSS train 0.8713249292704138 valid 1.2549578561024233\n",
      "EPOCH 297:\n",
      "LOSS train 0.836818865177655 valid 1.0364217785271732\n",
      "EPOCH 298:\n",
      "LOSS train 0.8435311500388797 valid 1.3415054780515758\n",
      "EPOCH 299:\n",
      "LOSS train 0.8559565619371905 valid 1.0619512403553182\n",
      "EPOCH 300:\n",
      "LOSS train 0.8559686396971787 valid 1.0902127108790658\n"
     ]
    }
   ],
   "execution_count": 52
  },
  {
   "metadata": {
    "id": "e40225ad38b16e4a",
    "outputId": "26e4f44b-8f47-4156-dec0-b6569b31c22d",
    "colab": {
     "base_uri": "https://localhost:8080/",
     "height": 489
    }
   },
   "cell_type": "code",
   "outputs": [
    {
     "output_type": "execute_result",
     "data": {
      "text/plain": [
       "<matplotlib.legend.Legend at 0x7c3b4b466990>"
      ]
     },
     "metadata": {},
     "execution_count": 53
    },
    {
     "output_type": "display_data",
     "data": {
      "text/plain": [
       "<Figure size 640x480 with 1 Axes>"
      ],
      "image/png": "[encoded data removed]"
     },
     "metadata": {}
    }
   ],
   "execution_count": 53,
   "source": [
    "#Plot the training and validation loss\n",
    "plt.plot(loss_values, label='Training Loss')\n",
    "plt.plot(val_loss_values, label='Validation Loss')\n",
    "plt.xlabel('Epochs')\n",
    "plt.ylabel('Loss')\n",
    "plt.title('Training and Validation Loss')\n",
    "plt.legend()"
   ],
   "id": "e40225ad38b16e4a"
  },
  {
   "metadata": {
    "id": "7185717e8222c208",
    "outputId": "fb072c2b-7210-4df0-aeb5-c033646aab7e",
    "colab": {
     "base_uri": "https://localhost:8080/"
    }
   },
   "cell_type": "code",
   "outputs": [
    {
     "output_type": "stream",
     "name": "stdout",
     "text": [
      "Training set accuracy: 0.6381\n"
     ]
    }
   ],
   "execution_count": 54,
   "source": [
    "#Training set evaluation\n",
    "from torcheval.metrics import MulticlassAccuracy #This lib has so many of these - good to use i think\n",
    "model.eval() #Turns off dropout layers\n",
    "metric = MulticlassAccuracy()\n",
    "with torch.no_grad():\n",
    "    for inputs, labels in train_loader:\n",
    "        inputs, labels = inputs.to(device), torch.argmax(labels, dim=1).to(device)  # Move inputs and labels to the same device as the model\n",
    "        outputs = model(inputs)\n",
    "        preds = torch.argmax(outputs, dim=1)  # Get the predicted class indices\n",
    "        metric.update(preds, labels)  # Update the metric with predictions and true labels\n",
    "\n",
    "accuracy = metric.compute()  # Compute the accuracy\n",
    "print(f'Training set accuracy: {accuracy:.4f}')  # Print the accuracy"
   ],
   "id": "7185717e8222c208"
  },
  {
   "metadata": {
    "id": "4fb4b141dbb4dbf2",
    "outputId": "c88956b8-1b81-4ff4-c97f-b1db0dc4cfe9",
    "colab": {
     "base_uri": "https://localhost:8080/"
    }
   },
   "cell_type": "code",
   "outputs": [
    {
     "output_type": "stream",
     "name": "stdout",
     "text": [
      "Test set accuracy: 0.6478\n"
     ]
    }
   ],
   "execution_count": 55,
   "source": [
    "#Test set evaluation\n",
    "model.eval()\n",
    "metric = MulticlassAccuracy()\n",
    "predictions = []\n",
    "labels_list = []\n",
    "with torch.no_grad():\n",
    "    for inputs, labels in test_loader:\n",
    "        inputs, labels = inputs.to(device), torch.argmax(labels, dim=1).to(device)  # Move inputs and labels to the same device as the model\n",
    "        outputs = model(inputs)\n",
    "        prediction = torch.argmax(outputs, dim=1)  # Get the predicted class indices\n",
    "        predictions.append(prediction)\n",
    "        labels_list.append(labels) #append all labels that appeared during the test set evaluation\n",
    "        metric.update(prediction, labels)  # Update the metric with predictions and true labels\n",
    "\n",
    "accuracy = metric.compute()  # Compute the accuracy\n",
    "print(f'Test set accuracy: {accuracy:.4f}')  # Print the accuracy"
   ],
   "id": "4fb4b141dbb4dbf2"
  },
  {
   "cell_type": "code",
   "source": [
    "torch.save(model.state_dict(), \"final_model_mutlilabel.pth\")  # Save the final model state dictionary"
   ],
   "metadata": {
    "id": "Iu6CfRc7tPcq"
   },
   "id": "Iu6CfRc7tPcq",
   "execution_count": 56,
   "outputs": []
  },
  {
   "cell_type": "code",
   "source": [
    "#Plot a confusion matrix (prepping data for it)\n",
    "#https://stackoverflow.com/questions/46953967/multilabel-indicator-is-not-supported-for-confusion-matrix\n",
    "#https://scikit-learn.org/stable/modules/generated/sklearn.metrics.confusion_matrix.html\n",
    "\n",
    "# Concatenate all predictions and labels into a single tensor (currently they are lists of tensors)\n",
    "\n",
    "#Basically by counting the amount of each class number that appear in this tensor, we can get the confusion matrix  (cell below)\n",
    "all_predictions_tensor = torch.cat(predictions, dim=0) # Concatenate all predictions that appeared in the test set into a single tensor\n",
    "all_labels_tensor = torch.cat(labels_list, dim=0)  # Concatenate all labels that appeared in the test set into a single tensor\n",
    "\n",
    "\n",
    "# Convert to CPU tensors then to numpy arrays for confusion matrix\n",
    "all_predictions_tensor = all_predictions_tensor.cpu().numpy()\n",
    "all_labels_tensor = all_labels_tensor.cpu().numpy()\n",
    "print(all_predictions_tensor.shape, all_labels_tensor.shape)  # Check the shapes of the tensors\n",
    "print(all_predictions_tensor[0].shape, all_labels_tensor[0].shape) # Check the shape of the first prediction and label tensors\n",
    "\n",
    "\n",
    "#Data datatype before argmax, they are one-hot encoded tensors (boolean tensors) no good for confusion matrix\n",
    "print(all_predictions_tensor.dtype, all_predictions_tensor.dtype)\n",
    "\n",
    "# Argmax to convert one-hot encoded predictions and labels to a list of predicted and actual labels as integers\n",
    "print(all_predictions_tensor.dtype, all_labels_tensor.dtype)\n",
    "\n",
    "\n",
    "print(np.unique(all_predictions_tensor))\n",
    "print(np.unique(all_labels_tensor)) #Aah, there were only 7 unique labels in the test set\n",
    "# so we need to make sure the confusion matrix doesn't drop the 'empty labels' because the model might still have predicted them, but it could have been wrong\n"
   ],
   "metadata": {
    "id": "VftVv2kWtyF_",
    "outputId": "c4ac26a8-3e0c-490e-d804-6a80308ec720",
    "colab": {
     "base_uri": "https://localhost:8080/"
    }
   },
   "id": "VftVv2kWtyF_",
   "execution_count": 57,
   "outputs": [
    {
     "output_type": "stream",
     "name": "stdout",
     "text": [
      "(690,) (690,)\n",
      "() ()\n",
      "int64 int64\n",
      "int64 int64\n",
      "[0 1 2 3]\n",
      "[0 1 2 3]\n"
     ]
    }
   ]
  },
  {
   "cell_type": "code",
   "source": [
    "display_labels = df.columns[1:]  # Exclude the first column (img_name) for display labels\n",
    "from sklearn.metrics import confusion_matrix, ConfusionMatrixDisplay\n",
    "\n",
    "# Compute confusion matrix\n",
    "cm = confusion_matrix(all_labels_tensor, all_predictions_tensor, labels=np.arange(len(display_labels)))\n",
    "#np.arrange basically just creates an array of length of display_labels (array of 15 elements, 0 to 14) which are the labels for the possible labels in the dataset, so the confusion matrix will have 15 rows and 15 columns, one for each label\n",
    "\n",
    "#Without display_labels the confusion matrix would only render the labels that were actually predicted, so if a label was never predicted, it would not appear in the confusion matrix, which is not what we want\n",
    "\n",
    "#15 labels, so 15x15 matrix\n",
    "print(cm.shape)\n",
    "\n",
    "matrix = ConfusionMatrixDisplay(confusion_matrix=cm,display_labels=display_labels) #disiplay_labels are the text labels (from column names) for the confusion matrix, these are the labels we want to display on the x and y axis of the confusion matrix, these are the same order as the labels we used for confusion matrix computation above,thanks to np.arrange(), so they will line up correctly\n",
    "\n",
    "_, ax = plt.subplots(figsize=(10, 10))  # Create a figure and axis for the confusion matrix plot (much larger than default\n",
    "matrix.plot(cmap='Blues', values_format='d', ax=ax, xticks_rotation=90)  # Plot the confusion matrix with blue color map and integer format\n"
   ],
   "metadata": {
    "id": "P5s6QuDou3WL",
    "outputId": "8caab03d-4fb8-41bd-83b4-ce49f6c2f926",
    "colab": {
     "base_uri": "https://localhost:8080/",
     "height": 923
    }
   },
   "id": "P5s6QuDou3WL",
   "execution_count": 58,
   "outputs": [
    {
     "output_type": "stream",
     "name": "stdout",
     "text": [
      "(4, 4)\n"
     ]
    },
    {
     "output_type": "execute_result",
     "data": {
      "text/plain": [
       "<sklearn.metrics._plot.confusion_matrix.ConfusionMatrixDisplay at 0x7c3bf62c3950>"
      ]
     },
     "metadata": {},
     "execution_count": 58
    },
    {
     "output_type": "display_data",
     "data": {
      "text/plain": [
       "<Figure size 1000x1000 with 2 Axes>"
      ],
      "image/png": "[encoded data removed]"
     },
     "metadata": {}
    }
   ]
  },
  {
   "cell_type": "code",
   "source": [
    "count_all_zeros = (df == 0).all(axis=1).sum()\n",
    "\n",
    "print(count_all_zeros)"
   ],
   "metadata": {
    "id": "aQF0gJ1jvoyX",
    "outputId": "f640066e-f625-4828-8930-dbd763c24e40",
    "colab": {
     "base_uri": "https://localhost:8080/"
    }
   },
   "id": "aQF0gJ1jvoyX",
   "execution_count": 59,
   "outputs": [
    {
     "output_type": "stream",
     "name": "stdout",
     "text": [
      "0\n"
     ]
    }
   ]
  },
  {
   "cell_type": "code",
   "source": [
    "# Count rows where more than one column has value 1\n",
    "count_more_than_one_1 = (df == 1).sum(axis=1).gt(1).sum()\n",
    "\n",
    "print(count_more_than_one_1)"
   ],
   "metadata": {
    "id": "nLUFACw9wBGT",
    "outputId": "da5cfb9b-811e-495a-d059-13fd8911eba1",
    "colab": {
     "base_uri": "https://localhost:8080/"
    }
   },
   "id": "nLUFACw9wBGT",
   "execution_count": 60,
   "outputs": [
    {
     "output_type": "stream",
     "name": "stdout",
     "text": [
      "0\n"
     ]
    }
   ]
  }
 ],
 "metadata": {
  "kernelspec": {
   "display_name": "Python 3 (ipykernel)",
   "name": "python3",
   "language": "python"
  },
  "language_info": {
   "codemirror_mode": {
    "name": "ipython",
    "version": 2
   },
   "file_extension": ".py",
   "mimetype": "text/x-python",
   "name": "python",
   "nbconvert_exporter": "python",
   "pygments_lexer": "ipython2",
   "version": "2.7.6"
  },
  "colab": {
   "provenance": [],
   "machine_shape": "hm",
   "gpuType": "A100",
   "include_colab_link": true
  },
  "accelerator": "GPU"
 },
 "nbformat": 4,
 "nbformat_minor": 5
}
