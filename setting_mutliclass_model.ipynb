{
 "cells": [
  {
   "metadata": {},
   "cell_type": "markdown",
   "source": [
    "After attempting multi-label classification, Location doesn't seem to be clear enough to be a label, so we will remove it and just use setting, so we can make it multiclass classification problem.\n",
    "\n",
    "In this notebook, i plan to build a multiclass classification model using the setting column as the label (hot-one encoded) and the image as the input feature. The model will be trained to predict the setting of the image based on its content. Using softmax activation function."
   ],
   "id": "46eda28d4f31f51a"
  },
  {
   "cell_type": "code",
   "execution_count": null,
   "id": "initial_id",
   "metadata": {
    "collapsed": true
   },
   "outputs": [],
   "source": "\n"
  }
 ],
 "metadata": {
  "kernelspec": {
   "display_name": "Python 3",
   "language": "python",
   "name": "python3"
  },
  "language_info": {
   "codemirror_mode": {
    "name": "ipython",
    "version": 2
   },
   "file_extension": ".py",
   "mimetype": "text/x-python",
   "name": "python",
   "nbconvert_exporter": "python",
   "pygments_lexer": "ipython2",
   "version": "2.7.6"
  }
 },
 "nbformat": 4,
 "nbformat_minor": 5
}
